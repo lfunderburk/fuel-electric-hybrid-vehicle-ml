{
 "cells": [
  {
   "cell_type": "code",
   "execution_count": 1,
   "id": "3207936e",
   "metadata": {
    "execution": {
     "iopub.execute_input": "2023-04-19T04:16:57.902535Z",
     "iopub.status.busy": "2023-04-19T04:16:57.902083Z",
     "iopub.status.idle": "2023-04-19T04:16:57.912329Z",
     "shell.execute_reply": "2023-04-19T04:16:57.911345Z"
    },
    "lines_to_next_cell": 0,
    "papermill": {
     "duration": 0.020188,
     "end_time": "2023-04-19T04:16:57.917557",
     "exception": false,
     "start_time": "2023-04-19T04:16:57.897369",
     "status": "completed"
    },
    "tags": [
     "parameters"
    ]
   },
   "outputs": [],
   "source": [
    "# declare a list tasks whose products you want to use as inputs\n",
    "upstream = None\n"
   ]
  },
  {
   "cell_type": "code",
   "execution_count": 2,
   "id": "563e8e4e",
   "metadata": {
    "execution": {
     "iopub.execute_input": "2023-04-19T04:16:57.929671Z",
     "iopub.status.busy": "2023-04-19T04:16:57.929370Z",
     "iopub.status.idle": "2023-04-19T04:16:57.933551Z",
     "shell.execute_reply": "2023-04-19T04:16:57.932519Z"
    },
    "papermill": {
     "duration": 0.011409,
     "end_time": "2023-04-19T04:16:57.936069",
     "exception": false,
     "start_time": "2023-04-19T04:16:57.924660",
     "status": "completed"
    },
    "tags": [
     "injected-parameters"
    ]
   },
   "outputs": [],
   "source": [
    "# Parameters\n",
    "product = {\n",
    "    \"nb\": \"/Users/macpro/Documents/GitHub/fuel-electric-hybrid-vehicle-ml/notebooks/predict_model.ipynb\"\n",
    "}\n"
   ]
  },
  {
   "cell_type": "code",
   "execution_count": 3,
   "id": "26484865",
   "metadata": {
    "execution": {
     "iopub.execute_input": "2023-04-19T04:16:57.940657Z",
     "iopub.status.busy": "2023-04-19T04:16:57.940423Z",
     "iopub.status.idle": "2023-04-19T04:16:57.948484Z",
     "shell.execute_reply": "2023-04-19T04:16:57.948037Z"
    },
    "papermill": {
     "duration": 0.012455,
     "end_time": "2023-04-19T04:16:57.950141",
     "exception": false,
     "start_time": "2023-04-19T04:16:57.937686",
     "status": "completed"
    },
    "tags": []
   },
   "outputs": [],
   "source": [
    "from dotenv import load_dotenv\n",
    "import sys, os"
   ]
  },
  {
   "cell_type": "code",
   "execution_count": 4,
   "id": "89679c85",
   "metadata": {
    "execution": {
     "iopub.execute_input": "2023-04-19T04:16:57.955532Z",
     "iopub.status.busy": "2023-04-19T04:16:57.955059Z",
     "iopub.status.idle": "2023-04-19T04:16:57.959985Z",
     "shell.execute_reply": "2023-04-19T04:16:57.959098Z"
    },
    "papermill": {
     "duration": 0.009552,
     "end_time": "2023-04-19T04:16:57.961710",
     "exception": false,
     "start_time": "2023-04-19T04:16:57.952158",
     "status": "completed"
    },
    "tags": []
   },
   "outputs": [],
   "source": [
    "load_dotenv()  # load environment variables from .env file\n",
    "PROJECT_DIR = os.getenv('PROJECT_DIR')\n",
    "parent_dir = os.path.abspath(os.path.join(PROJECT_DIR, os.pardir))\n",
    "sys.path.append(parent_dir)"
   ]
  },
  {
   "cell_type": "code",
   "execution_count": 5,
   "id": "ea59ee37",
   "metadata": {
    "execution": {
     "iopub.execute_input": "2023-04-19T04:16:57.966031Z",
     "iopub.status.busy": "2023-04-19T04:16:57.965506Z",
     "iopub.status.idle": "2023-04-19T04:16:58.973693Z",
     "shell.execute_reply": "2023-04-19T04:16:58.972831Z"
    },
    "lines_to_next_cell": 0,
    "papermill": {
     "duration": 1.014233,
     "end_time": "2023-04-19T04:16:58.977468",
     "exception": false,
     "start_time": "2023-04-19T04:16:57.963235",
     "status": "completed"
    },
    "tags": []
   },
   "outputs": [],
   "source": [
    "import pandas as pd\n",
    "import joblib\n",
    "from utils import read_data, remove_missing_values, var_list, numeric_features\n",
    "from sklearn.impute import KNNImputer\n",
    "from pathlib import Path"
   ]
  },
  {
   "cell_type": "code",
   "execution_count": 6,
   "id": "062ec71e",
   "metadata": {
    "execution": {
     "iopub.execute_input": "2023-04-19T04:16:58.986998Z",
     "iopub.status.busy": "2023-04-19T04:16:58.986383Z",
     "iopub.status.idle": "2023-04-19T04:16:58.991492Z",
     "shell.execute_reply": "2023-04-19T04:16:58.991018Z"
    },
    "lines_to_next_cell": 1,
    "papermill": {
     "duration": 0.013948,
     "end_time": "2023-04-19T04:16:58.993734",
     "exception": false,
     "start_time": "2023-04-19T04:16:58.979786",
     "status": "completed"
    },
    "tags": []
   },
   "outputs": [],
   "source": [
    "def predict_co2_rating(df, list_of_vars, model):\n",
    "    # Preprocess the original data (fuel_df)\n",
    "    X_fuel = df[list_of_vars].copy()\n",
    "    target = df['original_co2r'].copy()\n",
    "\n",
    "    # Get remaining columns from df\n",
    "    remaining_cols = [col for col in df.columns if col not in list_of_vars and col != 'original_co2r']\n",
    "    remaining_df = df[remaining_cols].copy()\n",
    "\n",
    "    # Predict missing \"co2_rating\" values\n",
    "    X_fuel['predicted_co2_rating'] = model.predict(X_fuel)\n",
    "\n",
    "    # Merge the predicted values with the original data\n",
    "    fuel_df_pred = pd.concat([X_fuel, target, remaining_df], axis=1)\n",
    "\n",
    "    return fuel_df_pred"
   ]
  },
  {
   "cell_type": "code",
   "execution_count": 7,
   "id": "59e7e8bb",
   "metadata": {
    "execution": {
     "iopub.execute_input": "2023-04-19T04:16:58.998129Z",
     "iopub.status.busy": "2023-04-19T04:16:58.997883Z",
     "iopub.status.idle": "2023-04-19T04:16:59.002214Z",
     "shell.execute_reply": "2023-04-19T04:16:59.001077Z"
    },
    "papermill": {
     "duration": 0.009484,
     "end_time": "2023-04-19T04:16:59.004940",
     "exception": false,
     "start_time": "2023-04-19T04:16:58.995456",
     "status": "completed"
    },
    "tags": []
   },
   "outputs": [],
   "source": [
    "def impute_data(numeric_features, df, target):\n",
    "\n",
    "    df_c = df.copy()\n",
    "    # Independent variables\n",
    "    X = df_c[numeric_features + [target]]\n",
    "\n",
    "    missing_values_index = df_c[df_c.isnull().any(axis=1)].index\n",
    "\n",
    "    imputer = KNNImputer(n_neighbors=1)\n",
    "    X_imputed = imputer.fit_transform(X)\n",
    "\n",
    "    X_imputed[missing_values_index, -1]\n",
    "\n",
    "    df_c.loc[missing_values_index, target] =  X_imputed[missing_values_index, -1]\n",
    "\n",
    "    return df_c"
   ]
  },
  {
   "cell_type": "code",
   "execution_count": 8,
   "id": "629550a7",
   "metadata": {
    "execution": {
     "iopub.execute_input": "2023-04-19T04:16:59.009393Z",
     "iopub.status.busy": "2023-04-19T04:16:59.009117Z",
     "iopub.status.idle": "2023-04-19T04:17:43.078850Z",
     "shell.execute_reply": "2023-04-19T04:17:43.074133Z"
    },
    "papermill": {
     "duration": 44.094574,
     "end_time": "2023-04-19T04:17:43.101188",
     "exception": false,
     "start_time": "2023-04-19T04:16:59.006614",
     "status": "completed"
    },
    "tags": []
   },
   "outputs": [],
   "source": [
    "if __name__==\"__main__\":\n",
    "\n",
    "    \n",
    "\n",
    "\n",
    "    # Variable initialization\n",
    "    raw_data_path = os.path.join(PROJECT_DIR, 'data', 'raw')\n",
    "    clean_data_path = os.path.join(PROJECT_DIR, 'data', 'processed')\n",
    "    predicted_data_path = os.path.join(PROJECT_DIR, 'data', 'predicted-data')\n",
    "    model_path = os.path.join(PROJECT_DIR, 'models', 'hard_voting_classifier_co2_fuel.pkl')\n",
    "\n",
    "    # Load data\n",
    "    fuel_df, electric_df, hybrid_df = read_data(clean_data_path)\n",
    "    \n",
    "    non_na_rating_class, na_rating_class = remove_missing_values(fuel_df, drop_smog=False)\n",
    "    non_na_rating_class.rename(columns={'co2_rating': 'original_co2r'}, inplace=True)\n",
    "    na_rating_class.rename(columns={'co2_rating': 'original_co2r'}, inplace=True)\n",
    "\n",
    "    # Load model\n",
    "    best_dtc = joblib.load(model_path)\n",
    "    \n",
    "    # Use model to make predictions\n",
    "    non_na_pred = predict_co2_rating(non_na_rating_class, var_list, best_dtc)\n",
    "    na_pred = predict_co2_rating(na_rating_class, var_list, best_dtc)\n",
    "\n",
    "    # Merge the predicted values with the original data\n",
    "    fuel_df_pred = pd.concat([non_na_pred, na_pred], axis=0)\n",
    "\n",
    "    # Impute smog_rating \n",
    "    fuel_df_pred = impute_data(numeric_features, fuel_df_pred, 'smog_rating')\n",
    "    \n",
    "    # Save the data\n",
    "    fuel_df_pred.to_csv(Path(predicted_data_path,'predicted_co2_rating.csv'), index=False)\n",
    "\n",
    "    # Predict missing \"co2_rating\" values in hybrid_df\n",
    "    hybrid_df_pred = impute_data(numeric_features, hybrid_df, 'co2_rating')\n",
    "\n",
    "    # Predict missing 'smog_rating' values in hybrid_df\n",
    "    hybrid_df_pred = impute_data(numeric_features, hybrid_df_pred, 'smog_rating')\n",
    "\n",
    "    # Save the data\n",
    "    hybrid_df_pred.to_csv(Path(predicted_data_path,'predicted_co2_rating_hybrid.csv'), index=False)\n",
    "\n",
    "    num_e = ['model_year','consumption_city(kwh/100km)',\n",
    "            'fuelconsumption_hwy(kwh/100km)', 'fuelconsumption_comb(kwh/100km)',\n",
    "            'fuelconsumption_city(le/100km)', 'fuelconsumption_hwy(le/100km)',\n",
    "            'fuelconsumption_comb(le/100km)','recharge_time(h)',\n",
    "            'co2emissions_(g/km)']\n",
    "\n",
    "    # Predict missing \"co2_rating\" values in electric_df\n",
    "    electric_df_pred = impute_data(num_e, electric_df, 'co2_rating')\n",
    "\n",
    "    # Predict missing 'smog_rating' values in electric_df\n",
    "    electric_df_pred = impute_data(num_e, electric_df_pred, 'smog_rating')\n",
    "\n",
    "    # Save the data\n",
    "    electric_df_pred.to_csv(Path(predicted_data_path, 'predicted_co2_rating_electric.csv'), index=False)"
   ]
  }
 ],
 "metadata": {
  "jupytext": {
   "cell_metadata_filter": "tags,-all",
   "main_language": "python",
   "notebook_metadata_filter": "-all",
   "text_representation": {
    "extension": ".py",
    "format_name": "light"
   }
  },
  "kernelspec": {
   "display_name": "Python 3 (ipykernel)",
   "language": "python",
   "name": "python3"
  },
  "language_info": {
   "codemirror_mode": {
    "name": "ipython",
    "version": 3
   },
   "file_extension": ".py",
   "mimetype": "text/x-python",
   "name": "python",
   "nbconvert_exporter": "python",
   "pygments_lexer": "ipython3",
   "version": "3.10.0"
  },
  "papermill": {
   "duration": 47.083836,
   "end_time": "2023-04-19T04:17:43.547892",
   "exception": null,
   "input_path": "/var/folders/2t/nqb9hcfs07n91h4v5p34slp00000gn/T/tmpcipw1miw.ipynb",
   "output_path": "/Users/macpro/Documents/GitHub/fuel-electric-hybrid-vehicle-ml/notebooks/predict_model.ipynb",
   "parameters": {
    "product": {
     "nb": "/Users/macpro/Documents/GitHub/fuel-electric-hybrid-vehicle-ml/notebooks/predict_model.ipynb"
    }
   },
   "start_time": "2023-04-19T04:16:56.464056"
  }
 },
 "nbformat": 4,
 "nbformat_minor": 5
}