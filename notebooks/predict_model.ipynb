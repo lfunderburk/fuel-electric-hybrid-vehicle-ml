{
 "cells": [
  {
   "cell_type": "code",
   "execution_count": 1,
   "id": "777f9776",
   "metadata": {
    "execution": {
     "iopub.execute_input": "2023-04-19T01:23:02.929218Z",
     "iopub.status.busy": "2023-04-19T01:23:02.928837Z",
     "iopub.status.idle": "2023-04-19T01:23:02.938167Z",
     "shell.execute_reply": "2023-04-19T01:23:02.937571Z"
    },
    "papermill": {
     "duration": 0.015757,
     "end_time": "2023-04-19T01:23:02.940386",
     "exception": false,
     "start_time": "2023-04-19T01:23:02.924629",
     "status": "completed"
    },
    "tags": [
     "parameters"
    ]
   },
   "outputs": [],
   "source": [
    "# declare a list tasks whose products you want to use as inputs\n",
    "upstream = None\n"
   ]
  },
  {
   "cell_type": "code",
   "execution_count": 2,
   "id": "d010f1b3",
   "metadata": {
    "execution": {
     "iopub.execute_input": "2023-04-19T01:23:02.949624Z",
     "iopub.status.busy": "2023-04-19T01:23:02.949231Z",
     "iopub.status.idle": "2023-04-19T01:23:02.953164Z",
     "shell.execute_reply": "2023-04-19T01:23:02.952559Z"
    },
    "papermill": {
     "duration": 0.00972,
     "end_time": "2023-04-19T01:23:02.954955",
     "exception": false,
     "start_time": "2023-04-19T01:23:02.945235",
     "status": "completed"
    },
    "tags": [
     "injected-parameters"
    ]
   },
   "outputs": [],
   "source": [
    "# Parameters\n",
    "product = {\n",
    "    \"nb\": \"/Users/macpro/Documents/GitHub/fuel-electric-hybrid-vehicle-ml/notebooks/predict_model.ipynb\"\n",
    "}\n"
   ]
  },
  {
   "cell_type": "code",
   "execution_count": 3,
   "id": "95f2f496",
   "metadata": {
    "execution": {
     "iopub.execute_input": "2023-04-19T01:23:02.959809Z",
     "iopub.status.busy": "2023-04-19T01:23:02.959538Z",
     "iopub.status.idle": "2023-04-19T01:23:03.741564Z",
     "shell.execute_reply": "2023-04-19T01:23:03.741106Z"
    },
    "papermill": {
     "duration": 0.787741,
     "end_time": "2023-04-19T01:23:03.744832",
     "exception": false,
     "start_time": "2023-04-19T01:23:02.957091",
     "status": "completed"
    },
    "tags": []
   },
   "outputs": [],
   "source": [
    "import pandas as pd\n",
    "import sys, os\n",
    "import joblib\n",
    "import utils\n",
    "from sklearn.impute import KNNImputer"
   ]
  },
  {
   "cell_type": "code",
   "execution_count": 4,
   "id": "56cc30ff",
   "metadata": {
    "execution": {
     "iopub.execute_input": "2023-04-19T01:23:03.750688Z",
     "iopub.status.busy": "2023-04-19T01:23:03.748879Z",
     "iopub.status.idle": "2023-04-19T01:23:03.758521Z",
     "shell.execute_reply": "2023-04-19T01:23:03.758030Z"
    },
    "lines_to_next_cell": 1,
    "papermill": {
     "duration": 0.013229,
     "end_time": "2023-04-19T01:23:03.759787",
     "exception": false,
     "start_time": "2023-04-19T01:23:03.746558",
     "status": "completed"
    },
    "tags": []
   },
   "outputs": [],
   "source": [
    "def predict_co2_rating(df, list_of_vars, model):\n",
    "    # Preprocess the original data (fuel_df)\n",
    "    X_fuel = df[list_of_vars].copy()\n",
    "    target = df['original_co2r'].copy()\n",
    "\n",
    "    # Get remaining columns from df\n",
    "    remaining_cols = [col for col in df.columns if col not in list_of_vars and col != 'original_co2r']\n",
    "    remaining_df = df[remaining_cols].copy()\n",
    "\n",
    "    # Predict missing \"co2_rating\" values\n",
    "    X_fuel['predicted_co2_rating'] = model.predict(X_fuel)\n",
    "\n",
    "    # Merge the predicted values with the original data\n",
    "    fuel_df_pred = pd.concat([X_fuel, target, remaining_df], axis=1)\n",
    "\n",
    "    return fuel_df_pred"
   ]
  },
  {
   "cell_type": "code",
   "execution_count": 5,
   "id": "8a3de4de",
   "metadata": {
    "execution": {
     "iopub.execute_input": "2023-04-19T01:23:03.763556Z",
     "iopub.status.busy": "2023-04-19T01:23:03.763360Z",
     "iopub.status.idle": "2023-04-19T01:23:03.766344Z",
     "shell.execute_reply": "2023-04-19T01:23:03.765969Z"
    },
    "papermill": {
     "duration": 0.006343,
     "end_time": "2023-04-19T01:23:03.767510",
     "exception": false,
     "start_time": "2023-04-19T01:23:03.761167",
     "status": "completed"
    },
    "tags": []
   },
   "outputs": [],
   "source": [
    "def impute_data(numeric_features, df, target):\n",
    "\n",
    "    df_c = df.copy()\n",
    "    # Independent variables\n",
    "    X = df_c[numeric_features + [target]]\n",
    "\n",
    "    missing_values_index = df_c[df_c.isnull().any(axis=1)].index\n",
    "\n",
    "    imputer = KNNImputer(n_neighbors=1)\n",
    "    X_imputed = imputer.fit_transform(X)\n",
    "\n",
    "    X_imputed[missing_values_index, -1]\n",
    "\n",
    "    df_c.loc[missing_values_index, target] =  X_imputed[missing_values_index, -1]\n",
    "\n",
    "    return df_c"
   ]
  },
  {
   "cell_type": "code",
   "execution_count": 6,
   "id": "2633eb39",
   "metadata": {
    "execution": {
     "iopub.execute_input": "2023-04-19T01:23:03.770965Z",
     "iopub.status.busy": "2023-04-19T01:23:03.770734Z",
     "iopub.status.idle": "2023-04-19T01:23:48.002004Z",
     "shell.execute_reply": "2023-04-19T01:23:47.999286Z"
    },
    "papermill": {
     "duration": 44.256316,
     "end_time": "2023-04-19T01:23:48.025135",
     "exception": false,
     "start_time": "2023-04-19T01:23:03.768819",
     "status": "completed"
    },
    "tags": []
   },
   "outputs": [],
   "source": [
    "if __name__==\"__main__\":\n",
    "\n",
    "    # Set up paths\n",
    "    sys.path.append(os.path.abspath(os.path.join('./data/', './processed/')))\n",
    "    sys.path.append(os.path.abspath(os.path.join('./models/')))\n",
    "\n",
    "    # Load data\n",
    "    fuel_df, electric_df, hybrid_df = utils.read_data(\"./data/processed/\")\n",
    "    \n",
    "    non_na_rating_class, na_rating_class = utils.remove_missing_values(fuel_df, drop_smog=False)\n",
    "    non_na_rating_class.rename(columns={'co2_rating': 'original_co2r'}, inplace=True)\n",
    "    na_rating_class.rename(columns={'co2_rating': 'original_co2r'}, inplace=True)\n",
    "\n",
    "    # Load model\n",
    "    best_dtc = joblib.load('./models/hard_voting_classifier_co2_fuel.pkl')\n",
    "    \n",
    "    # Use model to make predictions\n",
    "    non_na_pred = predict_co2_rating(non_na_rating_class, utils.var_list, best_dtc)\n",
    "    na_pred = predict_co2_rating(na_rating_class, utils.var_list, best_dtc)\n",
    "\n",
    "    # Merge the predicted values with the original data\n",
    "    fuel_df_pred = pd.concat([non_na_pred, na_pred], axis=0)\n",
    "\n",
    "    # Impute smog_rating \n",
    "    fuel_df_pred = impute_data(utils.numeric_features, fuel_df_pred, 'smog_rating')\n",
    "    \n",
    "    # Save the data\n",
    "    fuel_df_pred.to_csv('./data/predicted-data/predicted_co2_rating.csv', index=False)\n",
    "\n",
    "    # Predict missing \"co2_rating\" values in hybrid_df\n",
    "    hybrid_df_pred = impute_data(utils.numeric_features, hybrid_df, 'co2_rating')\n",
    "\n",
    "    # Predict missing 'smog_rating' values in hybrid_df\n",
    "    hybrid_df_pred = impute_data(utils.numeric_features, hybrid_df_pred, 'smog_rating')\n",
    "\n",
    "    # Save the data\n",
    "    hybrid_df_pred.to_csv('./data/predicted-data/predicted_co2_rating_hybrid.csv', index=False)\n",
    "\n",
    "    num_e = ['model_year','consumption_city(kwh/100km)',\n",
    "            'fuelconsumption_hwy(kwh/100km)', 'fuelconsumption_comb(kwh/100km)',\n",
    "            'fuelconsumption_city(le/100km)', 'fuelconsumption_hwy(le/100km)',\n",
    "            'fuelconsumption_comb(le/100km)','recharge_time(h)',\n",
    "            'co2emissions_(g/km)']\n",
    "\n",
    "    # Predict missing \"co2_rating\" values in electric_df\n",
    "    electric_df_pred = impute_data(num_e, electric_df, 'co2_rating')\n",
    "\n",
    "    # Predict missing 'smog_rating' values in electric_df\n",
    "    electric_df_pred = impute_data(num_e, electric_df_pred, 'smog_rating')\n",
    "\n",
    "    # Save the data\n",
    "    electric_df_pred.to_csv('./data/predicted-data/predicted_co2_rating_electric.csv', index=False)"
   ]
  }
 ],
 "metadata": {
  "jupytext": {
   "cell_metadata_filter": "tags,-all",
   "main_language": "python",
   "notebook_metadata_filter": "-all",
   "text_representation": {
    "extension": ".py",
    "format_name": "light"
   }
  },
  "kernelspec": {
   "display_name": "Python 3 (ipykernel)",
   "language": "python",
   "name": "python3"
  },
  "language_info": {
   "codemirror_mode": {
    "name": "ipython",
    "version": 3
   },
   "file_extension": ".py",
   "mimetype": "text/x-python",
   "name": "python",
   "nbconvert_exporter": "python",
   "pygments_lexer": "ipython3",
   "version": "3.10.0"
  },
  "papermill": {
   "duration": 46.575749,
   "end_time": "2023-04-19T01:23:48.472424",
   "exception": null,
   "input_path": "/var/folders/2t/nqb9hcfs07n91h4v5p34slp00000gn/T/tmpdt36smp0.ipynb",
   "output_path": "/Users/macpro/Documents/GitHub/fuel-electric-hybrid-vehicle-ml/notebooks/predict_model.ipynb",
   "parameters": {
    "product": {
     "nb": "/Users/macpro/Documents/GitHub/fuel-electric-hybrid-vehicle-ml/notebooks/predict_model.ipynb"
    }
   },
   "start_time": "2023-04-19T01:23:01.896675"
  }
 },
 "nbformat": 4,
 "nbformat_minor": 5
}