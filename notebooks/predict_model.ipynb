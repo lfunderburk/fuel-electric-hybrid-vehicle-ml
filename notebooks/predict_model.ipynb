{
 "cells": [
  {
   "cell_type": "code",
   "execution_count": 1,
   "id": "2ceab32a",
   "metadata": {
    "execution": {
     "iopub.execute_input": "2023-04-19T03:30:46.458470Z",
     "iopub.status.busy": "2023-04-19T03:30:46.458165Z",
     "iopub.status.idle": "2023-04-19T03:30:46.465029Z",
     "shell.execute_reply": "2023-04-19T03:30:46.464561Z"
    },
    "papermill": {
     "duration": 0.011829,
     "end_time": "2023-04-19T03:30:46.466649",
     "exception": false,
     "start_time": "2023-04-19T03:30:46.454820",
     "status": "completed"
    },
    "tags": [
     "parameters"
    ]
   },
   "outputs": [],
   "source": [
    "# declare a list tasks whose products you want to use as inputs\n",
    "upstream = None\n"
   ]
  },
  {
   "cell_type": "code",
   "execution_count": 2,
   "id": "5d8efc5a",
   "metadata": {
    "execution": {
     "iopub.execute_input": "2023-04-19T03:30:46.472096Z",
     "iopub.status.busy": "2023-04-19T03:30:46.471483Z",
     "iopub.status.idle": "2023-04-19T03:30:46.474574Z",
     "shell.execute_reply": "2023-04-19T03:30:46.474111Z"
    },
    "papermill": {
     "duration": 0.007601,
     "end_time": "2023-04-19T03:30:46.475956",
     "exception": false,
     "start_time": "2023-04-19T03:30:46.468355",
     "status": "completed"
    },
    "tags": [
     "injected-parameters"
    ]
   },
   "outputs": [],
   "source": [
    "# Parameters\n",
    "product = {\n",
    "    \"nb\": \"/Users/macpro/Documents/GitHub/fuel-electric-hybrid-vehicle-ml/notebooks/predict_model.ipynb\"\n",
    "}\n"
   ]
  },
  {
   "cell_type": "code",
   "execution_count": 3,
   "id": "14a3aa46",
   "metadata": {
    "execution": {
     "iopub.execute_input": "2023-04-19T03:30:46.479433Z",
     "iopub.status.busy": "2023-04-19T03:30:46.479222Z",
     "iopub.status.idle": "2023-04-19T03:30:47.378185Z",
     "shell.execute_reply": "2023-04-19T03:30:47.377737Z"
    },
    "lines_to_next_cell": 0,
    "papermill": {
     "duration": 0.902517,
     "end_time": "2023-04-19T03:30:47.379778",
     "exception": false,
     "start_time": "2023-04-19T03:30:46.477261",
     "status": "completed"
    },
    "tags": []
   },
   "outputs": [],
   "source": [
    "import pandas as pd\n",
    "import sys, os\n",
    "import joblib\n",
    "import utils\n",
    "from sklearn.impute import KNNImputer\n",
    "from dotenv import load_dotenv\n",
    "from pathlib import Path"
   ]
  },
  {
   "cell_type": "code",
   "execution_count": 4,
   "id": "c522dc61",
   "metadata": {
    "execution": {
     "iopub.execute_input": "2023-04-19T03:30:47.384004Z",
     "iopub.status.busy": "2023-04-19T03:30:47.383558Z",
     "iopub.status.idle": "2023-04-19T03:30:47.387640Z",
     "shell.execute_reply": "2023-04-19T03:30:47.387151Z"
    },
    "lines_to_next_cell": 1,
    "papermill": {
     "duration": 0.007738,
     "end_time": "2023-04-19T03:30:47.388891",
     "exception": false,
     "start_time": "2023-04-19T03:30:47.381153",
     "status": "completed"
    },
    "tags": []
   },
   "outputs": [],
   "source": [
    "def predict_co2_rating(df, list_of_vars, model):\n",
    "    # Preprocess the original data (fuel_df)\n",
    "    X_fuel = df[list_of_vars].copy()\n",
    "    target = df['original_co2r'].copy()\n",
    "\n",
    "    # Get remaining columns from df\n",
    "    remaining_cols = [col for col in df.columns if col not in list_of_vars and col != 'original_co2r']\n",
    "    remaining_df = df[remaining_cols].copy()\n",
    "\n",
    "    # Predict missing \"co2_rating\" values\n",
    "    X_fuel['predicted_co2_rating'] = model.predict(X_fuel)\n",
    "\n",
    "    # Merge the predicted values with the original data\n",
    "    fuel_df_pred = pd.concat([X_fuel, target, remaining_df], axis=1)\n",
    "\n",
    "    return fuel_df_pred"
   ]
  },
  {
   "cell_type": "code",
   "execution_count": 5,
   "id": "89e4e6f1",
   "metadata": {
    "execution": {
     "iopub.execute_input": "2023-04-19T03:30:47.391961Z",
     "iopub.status.busy": "2023-04-19T03:30:47.391775Z",
     "iopub.status.idle": "2023-04-19T03:30:47.394887Z",
     "shell.execute_reply": "2023-04-19T03:30:47.394514Z"
    },
    "papermill": {
     "duration": 0.006227,
     "end_time": "2023-04-19T03:30:47.396372",
     "exception": false,
     "start_time": "2023-04-19T03:30:47.390145",
     "status": "completed"
    },
    "tags": []
   },
   "outputs": [],
   "source": [
    "def impute_data(numeric_features, df, target):\n",
    "\n",
    "    df_c = df.copy()\n",
    "    # Independent variables\n",
    "    X = df_c[numeric_features + [target]]\n",
    "\n",
    "    missing_values_index = df_c[df_c.isnull().any(axis=1)].index\n",
    "\n",
    "    imputer = KNNImputer(n_neighbors=1)\n",
    "    X_imputed = imputer.fit_transform(X)\n",
    "\n",
    "    X_imputed[missing_values_index, -1]\n",
    "\n",
    "    df_c.loc[missing_values_index, target] =  X_imputed[missing_values_index, -1]\n",
    "\n",
    "    return df_c"
   ]
  },
  {
   "cell_type": "code",
   "execution_count": 6,
   "id": "f8b6d00a",
   "metadata": {
    "execution": {
     "iopub.execute_input": "2023-04-19T03:30:47.400098Z",
     "iopub.status.busy": "2023-04-19T03:30:47.399609Z",
     "iopub.status.idle": "2023-04-19T03:31:38.133141Z",
     "shell.execute_reply": "2023-04-19T03:31:38.129037Z"
    },
    "papermill": {
     "duration": 50.75533,
     "end_time": "2023-04-19T03:31:38.152940",
     "exception": false,
     "start_time": "2023-04-19T03:30:47.397610",
     "status": "completed"
    },
    "tags": []
   },
   "outputs": [],
   "source": [
    "if __name__==\"__main__\":\n",
    "\n",
    "    load_dotenv()  # load environment variables from .env file\n",
    "    PROJECT_DIR = os.getenv('PROJECT_DIR')\n",
    "\n",
    "\n",
    "    # Variable initialization\n",
    "    raw_data_path = os.path.join(PROJECT_DIR, 'data', 'raw')\n",
    "    clean_data_path = os.path.join(PROJECT_DIR, 'data', 'processed')\n",
    "    predicted_data_path = os.path.join(PROJECT_DIR, 'data', 'predicted-data')\n",
    "    model_path = os.path.join(PROJECT_DIR, 'models', 'hard_voting_classifier_co2_fuel.pkl')\n",
    "\n",
    "    # Load data\n",
    "    fuel_df, electric_df, hybrid_df = utils.read_data(clean_data_path)\n",
    "    \n",
    "    non_na_rating_class, na_rating_class = utils.remove_missing_values(fuel_df, drop_smog=False)\n",
    "    non_na_rating_class.rename(columns={'co2_rating': 'original_co2r'}, inplace=True)\n",
    "    na_rating_class.rename(columns={'co2_rating': 'original_co2r'}, inplace=True)\n",
    "\n",
    "    # Load model\n",
    "    best_dtc = joblib.load(model_path)\n",
    "    \n",
    "    # Use model to make predictions\n",
    "    non_na_pred = predict_co2_rating(non_na_rating_class, utils.var_list, best_dtc)\n",
    "    na_pred = predict_co2_rating(na_rating_class, utils.var_list, best_dtc)\n",
    "\n",
    "    # Merge the predicted values with the original data\n",
    "    fuel_df_pred = pd.concat([non_na_pred, na_pred], axis=0)\n",
    "\n",
    "    # Impute smog_rating \n",
    "    fuel_df_pred = impute_data(utils.numeric_features, fuel_df_pred, 'smog_rating')\n",
    "    \n",
    "    # Save the data\n",
    "    fuel_df_pred.to_csv(Path(predicted_data_path,'predicted_co2_rating.csv'), index=False)\n",
    "\n",
    "    # Predict missing \"co2_rating\" values in hybrid_df\n",
    "    hybrid_df_pred = impute_data(utils.numeric_features, hybrid_df, 'co2_rating')\n",
    "\n",
    "    # Predict missing 'smog_rating' values in hybrid_df\n",
    "    hybrid_df_pred = impute_data(utils.numeric_features, hybrid_df_pred, 'smog_rating')\n",
    "\n",
    "    # Save the data\n",
    "    hybrid_df_pred.to_csv(Path(predicted_data_path,'predicted_co2_rating_hybrid.csv'), index=False)\n",
    "\n",
    "    num_e = ['model_year','consumption_city(kwh/100km)',\n",
    "            'fuelconsumption_hwy(kwh/100km)', 'fuelconsumption_comb(kwh/100km)',\n",
    "            'fuelconsumption_city(le/100km)', 'fuelconsumption_hwy(le/100km)',\n",
    "            'fuelconsumption_comb(le/100km)','recharge_time(h)',\n",
    "            'co2emissions_(g/km)']\n",
    "\n",
    "    # Predict missing \"co2_rating\" values in electric_df\n",
    "    electric_df_pred = impute_data(num_e, electric_df, 'co2_rating')\n",
    "\n",
    "    # Predict missing 'smog_rating' values in electric_df\n",
    "    electric_df_pred = impute_data(num_e, electric_df_pred, 'smog_rating')\n",
    "\n",
    "    # Save the data\n",
    "    electric_df_pred.to_csv(Path(predicted_data_path, 'predicted_co2_rating_electric.csv'), index=False)"
   ]
  }
 ],
 "metadata": {
  "jupytext": {
   "cell_metadata_filter": "tags,-all",
   "main_language": "python",
   "notebook_metadata_filter": "-all",
   "text_representation": {
    "extension": ".py",
    "format_name": "light"
   }
  },
  "kernelspec": {
   "display_name": "Python 3 (ipykernel)",
   "language": "python",
   "name": "python3"
  },
  "language_info": {
   "codemirror_mode": {
    "name": "ipython",
    "version": 3
   },
   "file_extension": ".py",
   "mimetype": "text/x-python",
   "name": "python",
   "nbconvert_exporter": "python",
   "pygments_lexer": "ipython3",
   "version": "3.10.0"
  },
  "papermill": {
   "duration": 53.088289,
   "end_time": "2023-04-19T03:31:38.590150",
   "exception": null,
   "input_path": "/var/folders/2t/nqb9hcfs07n91h4v5p34slp00000gn/T/tmpxbteu1ii.ipynb",
   "output_path": "/Users/macpro/Documents/GitHub/fuel-electric-hybrid-vehicle-ml/notebooks/predict_model.ipynb",
   "parameters": {
    "product": {
     "nb": "/Users/macpro/Documents/GitHub/fuel-electric-hybrid-vehicle-ml/notebooks/predict_model.ipynb"
    }
   },
   "start_time": "2023-04-19T03:30:45.501861"
  }
 },
 "nbformat": 4,
 "nbformat_minor": 5
}