{
 "cells": [
  {
   "cell_type": "code",
   "execution_count": 1,
   "id": "c724ef11",
   "metadata": {
    "execution": {
     "iopub.execute_input": "2023-04-26T01:39:06.914938Z",
     "iopub.status.busy": "2023-04-26T01:39:06.914544Z",
     "iopub.status.idle": "2023-04-26T01:39:06.927128Z",
     "shell.execute_reply": "2023-04-26T01:39:06.926445Z"
    },
    "lines_to_next_cell": 0,
    "papermill": {
     "duration": 0.024565,
     "end_time": "2023-04-26T01:39:06.929703",
     "exception": false,
     "start_time": "2023-04-26T01:39:06.905138",
     "status": "completed"
    },
    "tags": [
     "parameters"
    ]
   },
   "outputs": [],
   "source": [
    "# declare a list tasks whose products you want to use as inputs\n",
    "upstream = None\n"
   ]
  },
  {
   "cell_type": "code",
   "execution_count": 2,
   "id": "2d40b2b4",
   "metadata": {
    "execution": {
     "iopub.execute_input": "2023-04-26T01:39:06.939172Z",
     "iopub.status.busy": "2023-04-26T01:39:06.938782Z",
     "iopub.status.idle": "2023-04-26T01:39:06.942824Z",
     "shell.execute_reply": "2023-04-26T01:39:06.941859Z"
    },
    "papermill": {
     "duration": 0.012707,
     "end_time": "2023-04-26T01:39:06.945864",
     "exception": false,
     "start_time": "2023-04-26T01:39:06.933157",
     "status": "completed"
    },
    "tags": [
     "injected-parameters"
    ]
   },
   "outputs": [],
   "source": [
    "# Parameters\n",
    "product = {\n",
    "    \"nb\": \"/Users/macpro/Documents/GitHub/fuel-electric-hybrid-vehicle-ml/notebooks/predict_model.ipynb\"\n",
    "}\n"
   ]
  },
  {
   "cell_type": "code",
   "execution_count": 3,
   "id": "5540ae34",
   "metadata": {
    "execution": {
     "iopub.execute_input": "2023-04-26T01:39:06.953299Z",
     "iopub.status.busy": "2023-04-26T01:39:06.952952Z",
     "iopub.status.idle": "2023-04-26T01:39:07.917534Z",
     "shell.execute_reply": "2023-04-26T01:39:07.917146Z"
    },
    "papermill": {
     "duration": 0.970581,
     "end_time": "2023-04-26T01:39:07.919168",
     "exception": false,
     "start_time": "2023-04-26T01:39:06.948587",
     "status": "completed"
    },
    "tags": []
   },
   "outputs": [],
   "source": [
    "import os\n",
    "import pandas as pd\n",
    "import joblib\n",
    "from utils import read_data, remove_missing_values, var_list, numeric_features\n",
    "from sklearn.impute import KNNImputer\n",
    "from pathlib import Path"
   ]
  },
  {
   "cell_type": "code",
   "execution_count": 4,
   "id": "44bfdb19",
   "metadata": {
    "execution": {
     "iopub.execute_input": "2023-04-26T01:39:07.923087Z",
     "iopub.status.busy": "2023-04-26T01:39:07.922811Z",
     "iopub.status.idle": "2023-04-26T01:39:07.925696Z",
     "shell.execute_reply": "2023-04-26T01:39:07.925104Z"
    },
    "papermill": {
     "duration": 0.006764,
     "end_time": "2023-04-26T01:39:07.927405",
     "exception": false,
     "start_time": "2023-04-26T01:39:07.920641",
     "status": "completed"
    },
    "tags": []
   },
   "outputs": [],
   "source": [
    "# Get the current working directory\n",
    "current_working_directory = os.getcwd()"
   ]
  },
  {
   "cell_type": "code",
   "execution_count": 5,
   "id": "c52f8845",
   "metadata": {
    "execution": {
     "iopub.execute_input": "2023-04-26T01:39:07.932140Z",
     "iopub.status.busy": "2023-04-26T01:39:07.931934Z",
     "iopub.status.idle": "2023-04-26T01:39:07.934134Z",
     "shell.execute_reply": "2023-04-26T01:39:07.933773Z"
    },
    "lines_to_next_cell": 1,
    "papermill": {
     "duration": 0.006585,
     "end_time": "2023-04-26T01:39:07.935442",
     "exception": false,
     "start_time": "2023-04-26T01:39:07.928857",
     "status": "completed"
    },
    "tags": []
   },
   "outputs": [],
   "source": [
    "# Convert the current working directory to a Path object\n",
    "script_dir = Path(current_working_directory)"
   ]
  },
  {
   "cell_type": "code",
   "execution_count": 6,
   "id": "b9698d56",
   "metadata": {
    "execution": {
     "iopub.execute_input": "2023-04-26T01:39:07.938725Z",
     "iopub.status.busy": "2023-04-26T01:39:07.938556Z",
     "iopub.status.idle": "2023-04-26T01:39:07.941929Z",
     "shell.execute_reply": "2023-04-26T01:39:07.941559Z"
    },
    "lines_to_next_cell": 1,
    "papermill": {
     "duration": 0.006348,
     "end_time": "2023-04-26T01:39:07.943114",
     "exception": false,
     "start_time": "2023-04-26T01:39:07.936766",
     "status": "completed"
    },
    "tags": []
   },
   "outputs": [],
   "source": [
    "def predict_co2_rating(df, list_of_vars, model):\n",
    "    # Preprocess the original data (fuel_df)\n",
    "    X_fuel = df[list_of_vars].copy()\n",
    "    target = df['original_co2r'].copy()\n",
    "\n",
    "    # Get remaining columns from df\n",
    "    remaining_cols = [col for col in df.columns if col not in list_of_vars and col != 'original_co2r']\n",
    "    remaining_df = df[remaining_cols].copy()\n",
    "\n",
    "    # Predict missing \"co2_rating\" values\n",
    "    X_fuel['predicted_co2_rating'] = model.predict(X_fuel)\n",
    "\n",
    "    # Merge the predicted values with the original data\n",
    "    fuel_df_pred = pd.concat([X_fuel, target, remaining_df], axis=1)\n",
    "\n",
    "    return fuel_df_pred"
   ]
  },
  {
   "cell_type": "code",
   "execution_count": 7,
   "id": "fc88ae49",
   "metadata": {
    "execution": {
     "iopub.execute_input": "2023-04-26T01:39:07.946465Z",
     "iopub.status.busy": "2023-04-26T01:39:07.946289Z",
     "iopub.status.idle": "2023-04-26T01:39:07.949318Z",
     "shell.execute_reply": "2023-04-26T01:39:07.948928Z"
    },
    "papermill": {
     "duration": 0.00601,
     "end_time": "2023-04-26T01:39:07.950476",
     "exception": false,
     "start_time": "2023-04-26T01:39:07.944466",
     "status": "completed"
    },
    "tags": []
   },
   "outputs": [],
   "source": [
    "def impute_data(numeric_features, df, target):\n",
    "\n",
    "    df_c = df.copy()\n",
    "    # Independent variables\n",
    "    X = df_c[numeric_features + [target]]\n",
    "\n",
    "    missing_values_index = df_c[df_c.isnull().any(axis=1)].index\n",
    "\n",
    "    imputer = KNNImputer(n_neighbors=1)\n",
    "    X_imputed = imputer.fit_transform(X)\n",
    "\n",
    "    X_imputed[missing_values_index, -1]\n",
    "\n",
    "    df_c.loc[missing_values_index, target] =  X_imputed[missing_values_index, -1]\n",
    "\n",
    "    return df_c"
   ]
  },
  {
   "cell_type": "code",
   "execution_count": 8,
   "id": "c9c01215",
   "metadata": {
    "execution": {
     "iopub.execute_input": "2023-04-26T01:39:07.953893Z",
     "iopub.status.busy": "2023-04-26T01:39:07.953716Z",
     "iopub.status.idle": "2023-04-26T01:39:42.625043Z",
     "shell.execute_reply": "2023-04-26T01:39:42.623303Z"
    },
    "papermill": {
     "duration": 34.676853,
     "end_time": "2023-04-26T01:39:42.628663",
     "exception": false,
     "start_time": "2023-04-26T01:39:07.951810",
     "status": "completed"
    },
    "tags": []
   },
   "outputs": [],
   "source": [
    "if __name__==\"__main__\":\n",
    "\n",
    "    # Variable initialization\n",
    "    raw_data_path = script_dir / 'data' / 'raw'\n",
    "    clean_data_path = script_dir / 'data' / 'processed'\n",
    "    predicted_data_path = script_dir / 'data' / 'predicted-data'\n",
    "    model_path = script_dir / 'models' / 'hard_voting_classifier_co2_fuel.pkl'\n",
    "\n",
    "    # Load data\n",
    "    fuel_df, electric_df, hybrid_df = read_data(clean_data_path)\n",
    "    \n",
    "    non_na_rating_class, na_rating_class = remove_missing_values(fuel_df, drop_smog=False)\n",
    "    non_na_rating_class.rename(columns={'co2_rating': 'original_co2r'}, inplace=True)\n",
    "    na_rating_class.rename(columns={'co2_rating': 'original_co2r'}, inplace=True)\n",
    "\n",
    "    # Load model\n",
    "    best_dtc = joblib.load(model_path)\n",
    "    \n",
    "    # Use model to make predictions\n",
    "    non_na_pred = predict_co2_rating(non_na_rating_class, var_list, best_dtc)\n",
    "    na_pred = predict_co2_rating(na_rating_class, var_list, best_dtc)\n",
    "\n",
    "    # Merge the predicted values with the original data\n",
    "    fuel_df_pred = pd.concat([non_na_pred, na_pred], axis=0)\n",
    "\n",
    "    # Impute smog_rating \n",
    "    fuel_df_pred = impute_data(numeric_features, fuel_df_pred, 'smog_rating')\n",
    "    \n",
    "    # Save the data\n",
    "    fuel_df_pred.to_csv(Path(predicted_data_path,'predicted_co2_rating.csv'), index=False)\n",
    "\n",
    "    # Predict missing \"co2_rating\" values in hybrid_df\n",
    "    hybrid_df_pred = impute_data(numeric_features, hybrid_df, 'co2_rating')\n",
    "\n",
    "    # Predict missing 'smog_rating' values in hybrid_df\n",
    "    hybrid_df_pred = impute_data(numeric_features, hybrid_df_pred, 'smog_rating')\n",
    "\n",
    "    # Save the data\n",
    "    hybrid_df_pred.to_csv(Path(predicted_data_path,'predicted_co2_rating_hybrid.csv'), index=False)\n",
    "\n",
    "    num_e = ['model_year','consumption_city(kwh/100km)',\n",
    "            'fuelconsumption_hwy(kwh/100km)', 'fuelconsumption_comb(kwh/100km)',\n",
    "            'fuelconsumption_city(le/100km)', 'fuelconsumption_hwy(le/100km)',\n",
    "            'fuelconsumption_comb(le/100km)','recharge_time(h)',\n",
    "            'co2emissions_(g/km)']\n",
    "\n",
    "    # Predict missing \"co2_rating\" values in electric_df\n",
    "    electric_df_pred = impute_data(num_e, electric_df, 'co2_rating')\n",
    "\n",
    "    # Predict missing 'smog_rating' values in electric_df\n",
    "    electric_df_pred = impute_data(num_e, electric_df_pred, 'smog_rating')\n",
    "\n",
    "    # Save the data\n",
    "    electric_df_pred.to_csv(Path(predicted_data_path, 'predicted_co2_rating_electric.csv'), index=False)"
   ]
  }
 ],
 "metadata": {
  "jupytext": {
   "cell_metadata_filter": "tags,-all",
   "main_language": "python",
   "notebook_metadata_filter": "-all",
   "text_representation": {
    "extension": ".py",
    "format_name": "light"
   }
  },
  "kernelspec": {
   "display_name": "Python 3 (ipykernel)",
   "language": "python",
   "name": "python3"
  },
  "language_info": {
   "codemirror_mode": {
    "name": "ipython",
    "version": 3
   },
   "file_extension": ".py",
   "mimetype": "text/x-python",
   "name": "python",
   "nbconvert_exporter": "python",
   "pygments_lexer": "ipython3",
   "version": "3.10.0"
  },
  "papermill": {
   "duration": 37.720133,
   "end_time": "2023-04-26T01:39:42.956110",
   "exception": null,
   "input_path": "/var/folders/2t/nqb9hcfs07n91h4v5p34slp00000gn/T/tmpsftqz459.ipynb",
   "output_path": "/Users/macpro/Documents/GitHub/fuel-electric-hybrid-vehicle-ml/notebooks/predict_model.ipynb",
   "parameters": {
    "product": {
     "nb": "/Users/macpro/Documents/GitHub/fuel-electric-hybrid-vehicle-ml/notebooks/predict_model.ipynb"
    }
   },
   "start_time": "2023-04-26T01:39:05.235977"
  }
 },
 "nbformat": 4,
 "nbformat_minor": 5
}