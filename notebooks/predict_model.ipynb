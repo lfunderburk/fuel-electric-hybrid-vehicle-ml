{
 "cells": [
  {
   "cell_type": "code",
   "execution_count": 1,
   "id": "4f4bbaa5",
   "metadata": {
    "execution": {
     "iopub.execute_input": "2023-04-26T01:29:55.846639Z",
     "iopub.status.busy": "2023-04-26T01:29:55.846314Z",
     "iopub.status.idle": "2023-04-26T01:29:55.853541Z",
     "shell.execute_reply": "2023-04-26T01:29:55.852680Z"
    },
    "lines_to_next_cell": 0,
    "papermill": {
     "duration": 0.016552,
     "end_time": "2023-04-26T01:29:55.858608",
     "exception": false,
     "start_time": "2023-04-26T01:29:55.842056",
     "status": "completed"
    },
    "tags": [
     "parameters"
    ]
   },
   "outputs": [],
   "source": [
    "# declare a list tasks whose products you want to use as inputs\n",
    "upstream = None\n"
   ]
  },
  {
   "cell_type": "code",
   "execution_count": 2,
   "id": "c50ab82f",
   "metadata": {
    "execution": {
     "iopub.execute_input": "2023-04-26T01:29:55.869214Z",
     "iopub.status.busy": "2023-04-26T01:29:55.867938Z",
     "iopub.status.idle": "2023-04-26T01:29:55.882578Z",
     "shell.execute_reply": "2023-04-26T01:29:55.881325Z"
    },
    "papermill": {
     "duration": 0.028419,
     "end_time": "2023-04-26T01:29:55.892054",
     "exception": false,
     "start_time": "2023-04-26T01:29:55.863635",
     "status": "completed"
    },
    "tags": [
     "injected-parameters"
    ]
   },
   "outputs": [],
   "source": [
    "# Parameters\n",
    "product = {\n",
    "    \"nb\": \"/Users/macpro/Documents/GitHub/fuel-electric-hybrid-vehicle-ml/notebooks/predict_model.ipynb\"\n",
    "}\n"
   ]
  },
  {
   "cell_type": "code",
   "execution_count": 3,
   "id": "dcdff9ec",
   "metadata": {
    "execution": {
     "iopub.execute_input": "2023-04-26T01:29:55.907318Z",
     "iopub.status.busy": "2023-04-26T01:29:55.906493Z",
     "iopub.status.idle": "2023-04-26T01:29:57.071841Z",
     "shell.execute_reply": "2023-04-26T01:29:57.071287Z"
    },
    "papermill": {
     "duration": 1.179915,
     "end_time": "2023-04-26T01:29:57.075834",
     "exception": false,
     "start_time": "2023-04-26T01:29:55.895919",
     "status": "completed"
    },
    "tags": []
   },
   "outputs": [],
   "source": [
    "import os\n",
    "import pandas as pd\n",
    "import joblib\n",
    "from utils import read_data, remove_missing_values, var_list, numeric_features\n",
    "from sklearn.impute import KNNImputer\n",
    "from pathlib import Path"
   ]
  },
  {
   "cell_type": "code",
   "execution_count": 4,
   "id": "f3e600d4",
   "metadata": {
    "execution": {
     "iopub.execute_input": "2023-04-26T01:29:57.089372Z",
     "iopub.status.busy": "2023-04-26T01:29:57.087889Z",
     "iopub.status.idle": "2023-04-26T01:29:57.092383Z",
     "shell.execute_reply": "2023-04-26T01:29:57.091875Z"
    },
    "papermill": {
     "duration": 0.014831,
     "end_time": "2023-04-26T01:29:57.093801",
     "exception": false,
     "start_time": "2023-04-26T01:29:57.078970",
     "status": "completed"
    },
    "tags": []
   },
   "outputs": [],
   "source": [
    "# Get the current working directory\n",
    "current_working_directory = os.getcwd()"
   ]
  },
  {
   "cell_type": "code",
   "execution_count": 5,
   "id": "5848a326",
   "metadata": {
    "execution": {
     "iopub.execute_input": "2023-04-26T01:29:57.098550Z",
     "iopub.status.busy": "2023-04-26T01:29:57.098297Z",
     "iopub.status.idle": "2023-04-26T01:29:57.100986Z",
     "shell.execute_reply": "2023-04-26T01:29:57.100479Z"
    },
    "lines_to_next_cell": 1,
    "papermill": {
     "duration": 0.006863,
     "end_time": "2023-04-26T01:29:57.102230",
     "exception": false,
     "start_time": "2023-04-26T01:29:57.095367",
     "status": "completed"
    },
    "tags": []
   },
   "outputs": [],
   "source": [
    "# Convert the current working directory to a Path object\n",
    "script_dir = Path(current_working_directory)"
   ]
  },
  {
   "cell_type": "code",
   "execution_count": 6,
   "id": "ce41d036",
   "metadata": {
    "execution": {
     "iopub.execute_input": "2023-04-26T01:29:57.106342Z",
     "iopub.status.busy": "2023-04-26T01:29:57.106120Z",
     "iopub.status.idle": "2023-04-26T01:29:57.110304Z",
     "shell.execute_reply": "2023-04-26T01:29:57.109826Z"
    },
    "lines_to_next_cell": 1,
    "papermill": {
     "duration": 0.007772,
     "end_time": "2023-04-26T01:29:57.111604",
     "exception": false,
     "start_time": "2023-04-26T01:29:57.103832",
     "status": "completed"
    },
    "tags": []
   },
   "outputs": [],
   "source": [
    "def predict_co2_rating(df, list_of_vars, model):\n",
    "    # Preprocess the original data (fuel_df)\n",
    "    X_fuel = df[list_of_vars].copy()\n",
    "    target = df['original_co2r'].copy()\n",
    "\n",
    "    # Get remaining columns from df\n",
    "    remaining_cols = [col for col in df.columns if col not in list_of_vars and col != 'original_co2r']\n",
    "    remaining_df = df[remaining_cols].copy()\n",
    "\n",
    "    # Predict missing \"co2_rating\" values\n",
    "    X_fuel['predicted_co2_rating'] = model.predict(X_fuel)\n",
    "\n",
    "    # Merge the predicted values with the original data\n",
    "    fuel_df_pred = pd.concat([X_fuel, target, remaining_df], axis=1)\n",
    "\n",
    "    return fuel_df_pred"
   ]
  },
  {
   "cell_type": "code",
   "execution_count": 7,
   "id": "ee209a3e",
   "metadata": {
    "execution": {
     "iopub.execute_input": "2023-04-26T01:29:57.115235Z",
     "iopub.status.busy": "2023-04-26T01:29:57.115052Z",
     "iopub.status.idle": "2023-04-26T01:29:57.117964Z",
     "shell.execute_reply": "2023-04-26T01:29:57.117626Z"
    },
    "papermill": {
     "duration": 0.006211,
     "end_time": "2023-04-26T01:29:57.119329",
     "exception": false,
     "start_time": "2023-04-26T01:29:57.113118",
     "status": "completed"
    },
    "tags": []
   },
   "outputs": [],
   "source": [
    "def impute_data(numeric_features, df, target):\n",
    "\n",
    "    df_c = df.copy()\n",
    "    # Independent variables\n",
    "    X = df_c[numeric_features + [target]]\n",
    "\n",
    "    missing_values_index = df_c[df_c.isnull().any(axis=1)].index\n",
    "\n",
    "    imputer = KNNImputer(n_neighbors=1)\n",
    "    X_imputed = imputer.fit_transform(X)\n",
    "\n",
    "    X_imputed[missing_values_index, -1]\n",
    "\n",
    "    df_c.loc[missing_values_index, target] =  X_imputed[missing_values_index, -1]\n",
    "\n",
    "    return df_c"
   ]
  },
  {
   "cell_type": "code",
   "execution_count": 8,
   "id": "b9fe6f7c",
   "metadata": {
    "execution": {
     "iopub.execute_input": "2023-04-26T01:29:57.123000Z",
     "iopub.status.busy": "2023-04-26T01:29:57.122785Z",
     "iopub.status.idle": "2023-04-26T01:30:40.209578Z",
     "shell.execute_reply": "2023-04-26T01:30:40.200046Z"
    },
    "papermill": {
     "duration": 43.107985,
     "end_time": "2023-04-26T01:30:40.228837",
     "exception": false,
     "start_time": "2023-04-26T01:29:57.120852",
     "status": "completed"
    },
    "tags": []
   },
   "outputs": [],
   "source": [
    "if __name__==\"__main__\":\n",
    "\n",
    "    # Variable initialization\n",
    "    raw_data_path = script_dir / 'data' / 'raw'\n",
    "    clean_data_path = script_dir / 'data' / 'processed'\n",
    "    predicted_data_path = script_dir / 'data' / 'predicted-data'\n",
    "    model_path = script_dir / 'models' / 'hard_voting_classifier_co2_fuel.pkl'\n",
    "\n",
    "    # Load data\n",
    "    fuel_df, electric_df, hybrid_df = read_data(clean_data_path)\n",
    "    \n",
    "    non_na_rating_class, na_rating_class = remove_missing_values(fuel_df, drop_smog=False)\n",
    "    non_na_rating_class.rename(columns={'co2_rating': 'original_co2r'}, inplace=True)\n",
    "    na_rating_class.rename(columns={'co2_rating': 'original_co2r'}, inplace=True)\n",
    "\n",
    "    # Load model\n",
    "    best_dtc = joblib.load(model_path)\n",
    "    \n",
    "    # Use model to make predictions\n",
    "    non_na_pred = predict_co2_rating(non_na_rating_class, var_list, best_dtc)\n",
    "    na_pred = predict_co2_rating(na_rating_class, var_list, best_dtc)\n",
    "\n",
    "    # Merge the predicted values with the original data\n",
    "    fuel_df_pred = pd.concat([non_na_pred, na_pred], axis=0)\n",
    "\n",
    "    # Impute smog_rating \n",
    "    fuel_df_pred = impute_data(numeric_features, fuel_df_pred, 'smog_rating')\n",
    "    \n",
    "    # Save the data\n",
    "    fuel_df_pred.to_csv(Path(predicted_data_path,'predicted_co2_rating.csv'), index=False)\n",
    "\n",
    "    # Predict missing \"co2_rating\" values in hybrid_df\n",
    "    hybrid_df_pred = impute_data(numeric_features, hybrid_df, 'co2_rating')\n",
    "\n",
    "    # Predict missing 'smog_rating' values in hybrid_df\n",
    "    hybrid_df_pred = impute_data(numeric_features, hybrid_df_pred, 'smog_rating')\n",
    "\n",
    "    # Save the data\n",
    "    hybrid_df_pred.to_csv(Path(predicted_data_path,'predicted_co2_rating_hybrid.csv'), index=False)\n",
    "\n",
    "    num_e = ['model_year','consumption_city(kwh/100km)',\n",
    "            'fuelconsumption_hwy(kwh/100km)', 'fuelconsumption_comb(kwh/100km)',\n",
    "            'fuelconsumption_city(le/100km)', 'fuelconsumption_hwy(le/100km)',\n",
    "            'fuelconsumption_comb(le/100km)','recharge_time(h)',\n",
    "            'co2emissions_(g/km)']\n",
    "\n",
    "    # Predict missing \"co2_rating\" values in electric_df\n",
    "    electric_df_pred = impute_data(num_e, electric_df, 'co2_rating')\n",
    "\n",
    "    # Predict missing 'smog_rating' values in electric_df\n",
    "    electric_df_pred = impute_data(num_e, electric_df_pred, 'smog_rating')\n",
    "\n",
    "    # Save the data\n",
    "    electric_df_pred.to_csv(Path(predicted_data_path, 'predicted_co2_rating_electric.csv'), index=False)"
   ]
  }
 ],
 "metadata": {
  "jupytext": {
   "cell_metadata_filter": "tags,-all",
   "main_language": "python",
   "notebook_metadata_filter": "-all",
   "text_representation": {
    "extension": ".py",
    "format_name": "light"
   }
  },
  "kernelspec": {
   "display_name": "Python 3 (ipykernel)",
   "language": "python",
   "name": "python3"
  },
  "language_info": {
   "codemirror_mode": {
    "name": "ipython",
    "version": 3
   },
   "file_extension": ".py",
   "mimetype": "text/x-python",
   "name": "python",
   "nbconvert_exporter": "python",
   "pygments_lexer": "ipython3",
   "version": "3.10.0"
  },
  "papermill": {
   "duration": 46.879783,
   "end_time": "2023-04-26T01:30:40.909363",
   "exception": null,
   "input_path": "/var/folders/2t/nqb9hcfs07n91h4v5p34slp00000gn/T/tmpu_yred_a.ipynb",
   "output_path": "/Users/macpro/Documents/GitHub/fuel-electric-hybrid-vehicle-ml/notebooks/predict_model.ipynb",
   "parameters": {
    "product": {
     "nb": "/Users/macpro/Documents/GitHub/fuel-electric-hybrid-vehicle-ml/notebooks/predict_model.ipynb"
    }
   },
   "start_time": "2023-04-26T01:29:54.029580"
  }
 },
 "nbformat": 4,
 "nbformat_minor": 5
}