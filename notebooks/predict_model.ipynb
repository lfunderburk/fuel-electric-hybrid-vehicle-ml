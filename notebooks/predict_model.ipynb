{
 "cells": [
  {
   "cell_type": "markdown",
   "id": "8c1b0efb",
   "metadata": {
    "tags": [
     "papermill-error-cell-tag"
    ]
   },
   "source": [
    "<span style=\"color:red; font-family:Helvetica Neue, Helvetica, Arial, sans-serif; font-size:2em;\">An Exception was encountered at '<a href=\"#papermill-error-cell\">In [6]</a>'.</span>"
   ]
  },
  {
   "cell_type": "code",
   "execution_count": 1,
   "id": "04242074",
   "metadata": {
    "execution": {
     "iopub.execute_input": "2023-04-19T03:21:46.279137Z",
     "iopub.status.busy": "2023-04-19T03:21:46.278893Z",
     "iopub.status.idle": "2023-04-19T03:21:46.284266Z",
     "shell.execute_reply": "2023-04-19T03:21:46.283882Z"
    },
    "papermill": {
     "duration": 0.010288,
     "end_time": "2023-04-19T03:21:46.286052",
     "exception": false,
     "start_time": "2023-04-19T03:21:46.275764",
     "status": "completed"
    },
    "tags": [
     "parameters"
    ]
   },
   "outputs": [],
   "source": [
    "# declare a list tasks whose products you want to use as inputs\n",
    "upstream = None\n"
   ]
  },
  {
   "cell_type": "code",
   "execution_count": 2,
   "id": "c1e85ceb",
   "metadata": {
    "execution": {
     "iopub.execute_input": "2023-04-19T03:21:46.289907Z",
     "iopub.status.busy": "2023-04-19T03:21:46.289663Z",
     "iopub.status.idle": "2023-04-19T03:21:46.292767Z",
     "shell.execute_reply": "2023-04-19T03:21:46.291870Z"
    },
    "papermill": {
     "duration": 0.006751,
     "end_time": "2023-04-19T03:21:46.294361",
     "exception": false,
     "start_time": "2023-04-19T03:21:46.287610",
     "status": "completed"
    },
    "tags": [
     "injected-parameters"
    ]
   },
   "outputs": [],
   "source": [
    "# Parameters\n",
    "product = {\n",
    "    \"nb\": \"/Users/macpro/Documents/GitHub/fuel-electric-hybrid-vehicle-ml/notebooks/predict_model.ipynb\"\n",
    "}\n"
   ]
  },
  {
   "cell_type": "code",
   "execution_count": 3,
   "id": "3b0ffb97",
   "metadata": {
    "execution": {
     "iopub.execute_input": "2023-04-19T03:21:46.298186Z",
     "iopub.status.busy": "2023-04-19T03:21:46.297978Z",
     "iopub.status.idle": "2023-04-19T03:21:47.086555Z",
     "shell.execute_reply": "2023-04-19T03:21:47.086093Z"
    },
    "lines_to_next_cell": 0,
    "papermill": {
     "duration": 0.793213,
     "end_time": "2023-04-19T03:21:47.089077",
     "exception": false,
     "start_time": "2023-04-19T03:21:46.295864",
     "status": "completed"
    },
    "tags": []
   },
   "outputs": [],
   "source": [
    "import pandas as pd\n",
    "import sys, os\n",
    "import joblib\n",
    "import utils\n",
    "from sklearn.impute import KNNImputer\n",
    "from dotenv import load_dotenv\n",
    "from pathlib import Path"
   ]
  },
  {
   "cell_type": "code",
   "execution_count": 4,
   "id": "ee7f198c",
   "metadata": {
    "execution": {
     "iopub.execute_input": "2023-04-19T03:21:47.098717Z",
     "iopub.status.busy": "2023-04-19T03:21:47.098222Z",
     "iopub.status.idle": "2023-04-19T03:21:47.102548Z",
     "shell.execute_reply": "2023-04-19T03:21:47.101997Z"
    },
    "lines_to_next_cell": 1,
    "papermill": {
     "duration": 0.013335,
     "end_time": "2023-04-19T03:21:47.103921",
     "exception": false,
     "start_time": "2023-04-19T03:21:47.090586",
     "status": "completed"
    },
    "tags": []
   },
   "outputs": [],
   "source": [
    "def predict_co2_rating(df, list_of_vars, model):\n",
    "    # Preprocess the original data (fuel_df)\n",
    "    X_fuel = df[list_of_vars].copy()\n",
    "    target = df['original_co2r'].copy()\n",
    "\n",
    "    # Get remaining columns from df\n",
    "    remaining_cols = [col for col in df.columns if col not in list_of_vars and col != 'original_co2r']\n",
    "    remaining_df = df[remaining_cols].copy()\n",
    "\n",
    "    # Predict missing \"co2_rating\" values\n",
    "    X_fuel['predicted_co2_rating'] = model.predict(X_fuel)\n",
    "\n",
    "    # Merge the predicted values with the original data\n",
    "    fuel_df_pred = pd.concat([X_fuel, target, remaining_df], axis=1)\n",
    "\n",
    "    return fuel_df_pred"
   ]
  },
  {
   "cell_type": "code",
   "execution_count": 5,
   "id": "e66d0231",
   "metadata": {
    "execution": {
     "iopub.execute_input": "2023-04-19T03:21:47.107177Z",
     "iopub.status.busy": "2023-04-19T03:21:47.106976Z",
     "iopub.status.idle": "2023-04-19T03:21:47.110116Z",
     "shell.execute_reply": "2023-04-19T03:21:47.109653Z"
    },
    "papermill": {
     "duration": 0.006432,
     "end_time": "2023-04-19T03:21:47.111573",
     "exception": false,
     "start_time": "2023-04-19T03:21:47.105141",
     "status": "completed"
    },
    "tags": []
   },
   "outputs": [],
   "source": [
    "def impute_data(numeric_features, df, target):\n",
    "\n",
    "    df_c = df.copy()\n",
    "    # Independent variables\n",
    "    X = df_c[numeric_features + [target]]\n",
    "\n",
    "    missing_values_index = df_c[df_c.isnull().any(axis=1)].index\n",
    "\n",
    "    imputer = KNNImputer(n_neighbors=1)\n",
    "    X_imputed = imputer.fit_transform(X)\n",
    "\n",
    "    X_imputed[missing_values_index, -1]\n",
    "\n",
    "    df_c.loc[missing_values_index, target] =  X_imputed[missing_values_index, -1]\n",
    "\n",
    "    return df_c"
   ]
  },
  {
   "cell_type": "markdown",
   "id": "2c967aa5",
   "metadata": {
    "tags": [
     "papermill-error-cell-tag"
    ]
   },
   "source": [
    "<span id=\"papermill-error-cell\" style=\"color:red; font-family:Helvetica Neue, Helvetica, Arial, sans-serif; font-size:2em;\">Execution using papermill encountered an exception here and stopped:</span>"
   ]
  },
  {
   "cell_type": "code",
   "execution_count": 6,
   "id": "0b378724",
   "metadata": {
    "execution": {
     "iopub.execute_input": "2023-04-19T03:21:47.114866Z",
     "iopub.status.busy": "2023-04-19T03:21:47.114638Z",
     "iopub.status.idle": "2023-04-19T03:22:59.652338Z",
     "shell.execute_reply": "2023-04-19T03:22:59.651488Z"
    },
    "papermill": {
     "duration": 72.575474,
     "end_time": "2023-04-19T03:22:59.688287",
     "exception": true,
     "start_time": "2023-04-19T03:21:47.112813",
     "status": "failed"
    },
    "tags": []
   },
   "outputs": [
    {
     "ename": "FileNotFoundError",
     "evalue": "[Errno 2] No such file or directory: '/Users/macpro/Documents/GitHub/fuel-electric-hybrid-vehicle-ml/data/predicted/predicted_co2_rating.csv'",
     "output_type": "error",
     "traceback": [
      "\u001b[0;31m---------------------------------------------------------------------------\u001b[0m",
      "\u001b[0;31mFileNotFoundError\u001b[0m                         Traceback (most recent call last)",
      "Cell \u001b[0;32mIn[6], line 34\u001b[0m\n\u001b[1;32m     31\u001b[0m fuel_df_pred \u001b[38;5;241m=\u001b[39m impute_data(utils\u001b[38;5;241m.\u001b[39mnumeric_features, fuel_df_pred, \u001b[38;5;124m'\u001b[39m\u001b[38;5;124msmog_rating\u001b[39m\u001b[38;5;124m'\u001b[39m)\n\u001b[1;32m     33\u001b[0m \u001b[38;5;66;03m# Save the data\u001b[39;00m\n\u001b[0;32m---> 34\u001b[0m \u001b[43mfuel_df_pred\u001b[49m\u001b[38;5;241;43m.\u001b[39;49m\u001b[43mto_csv\u001b[49m\u001b[43m(\u001b[49m\u001b[43mPath\u001b[49m\u001b[43m(\u001b[49m\u001b[43mpredicted_data_path\u001b[49m\u001b[43m,\u001b[49m\u001b[38;5;124;43m'\u001b[39;49m\u001b[38;5;124;43mpredicted_co2_rating.csv\u001b[39;49m\u001b[38;5;124;43m'\u001b[39;49m\u001b[43m)\u001b[49m\u001b[43m,\u001b[49m\u001b[43m \u001b[49m\u001b[43mindex\u001b[49m\u001b[38;5;241;43m=\u001b[39;49m\u001b[38;5;28;43;01mFalse\u001b[39;49;00m\u001b[43m)\u001b[49m\n\u001b[1;32m     36\u001b[0m \u001b[38;5;66;03m# Predict missing \"co2_rating\" values in hybrid_df\u001b[39;00m\n\u001b[1;32m     37\u001b[0m hybrid_df_pred \u001b[38;5;241m=\u001b[39m impute_data(utils\u001b[38;5;241m.\u001b[39mnumeric_features, hybrid_df, \u001b[38;5;124m'\u001b[39m\u001b[38;5;124mco2_rating\u001b[39m\u001b[38;5;124m'\u001b[39m)\n",
      "File \u001b[0;32m~/anaconda3/envs/mlenv/lib/python3.10/site-packages/pandas/core/generic.py:3466\u001b[0m, in \u001b[0;36mNDFrame.to_csv\u001b[0;34m(self, path_or_buf, sep, na_rep, float_format, columns, header, index, index_label, mode, encoding, compression, quoting, quotechar, line_terminator, chunksize, date_format, doublequote, escapechar, decimal, errors, storage_options)\u001b[0m\n\u001b[1;32m   3455\u001b[0m df \u001b[38;5;241m=\u001b[39m \u001b[38;5;28mself\u001b[39m \u001b[38;5;28;01mif\u001b[39;00m \u001b[38;5;28misinstance\u001b[39m(\u001b[38;5;28mself\u001b[39m, ABCDataFrame) \u001b[38;5;28;01melse\u001b[39;00m \u001b[38;5;28mself\u001b[39m\u001b[38;5;241m.\u001b[39mto_frame()\n\u001b[1;32m   3457\u001b[0m formatter \u001b[38;5;241m=\u001b[39m DataFrameFormatter(\n\u001b[1;32m   3458\u001b[0m     frame\u001b[38;5;241m=\u001b[39mdf,\n\u001b[1;32m   3459\u001b[0m     header\u001b[38;5;241m=\u001b[39mheader,\n\u001b[0;32m   (...)\u001b[0m\n\u001b[1;32m   3463\u001b[0m     decimal\u001b[38;5;241m=\u001b[39mdecimal,\n\u001b[1;32m   3464\u001b[0m )\n\u001b[0;32m-> 3466\u001b[0m \u001b[38;5;28;01mreturn\u001b[39;00m \u001b[43mDataFrameRenderer\u001b[49m\u001b[43m(\u001b[49m\u001b[43mformatter\u001b[49m\u001b[43m)\u001b[49m\u001b[38;5;241;43m.\u001b[39;49m\u001b[43mto_csv\u001b[49m\u001b[43m(\u001b[49m\n\u001b[1;32m   3467\u001b[0m \u001b[43m    \u001b[49m\u001b[43mpath_or_buf\u001b[49m\u001b[43m,\u001b[49m\n\u001b[1;32m   3468\u001b[0m \u001b[43m    \u001b[49m\u001b[43mline_terminator\u001b[49m\u001b[38;5;241;43m=\u001b[39;49m\u001b[43mline_terminator\u001b[49m\u001b[43m,\u001b[49m\n\u001b[1;32m   3469\u001b[0m \u001b[43m    \u001b[49m\u001b[43msep\u001b[49m\u001b[38;5;241;43m=\u001b[39;49m\u001b[43msep\u001b[49m\u001b[43m,\u001b[49m\n\u001b[1;32m   3470\u001b[0m \u001b[43m    \u001b[49m\u001b[43mencoding\u001b[49m\u001b[38;5;241;43m=\u001b[39;49m\u001b[43mencoding\u001b[49m\u001b[43m,\u001b[49m\n\u001b[1;32m   3471\u001b[0m \u001b[43m    \u001b[49m\u001b[43merrors\u001b[49m\u001b[38;5;241;43m=\u001b[39;49m\u001b[43merrors\u001b[49m\u001b[43m,\u001b[49m\n\u001b[1;32m   3472\u001b[0m \u001b[43m    \u001b[49m\u001b[43mcompression\u001b[49m\u001b[38;5;241;43m=\u001b[39;49m\u001b[43mcompression\u001b[49m\u001b[43m,\u001b[49m\n\u001b[1;32m   3473\u001b[0m \u001b[43m    \u001b[49m\u001b[43mquoting\u001b[49m\u001b[38;5;241;43m=\u001b[39;49m\u001b[43mquoting\u001b[49m\u001b[43m,\u001b[49m\n\u001b[1;32m   3474\u001b[0m \u001b[43m    \u001b[49m\u001b[43mcolumns\u001b[49m\u001b[38;5;241;43m=\u001b[39;49m\u001b[43mcolumns\u001b[49m\u001b[43m,\u001b[49m\n\u001b[1;32m   3475\u001b[0m \u001b[43m    \u001b[49m\u001b[43mindex_label\u001b[49m\u001b[38;5;241;43m=\u001b[39;49m\u001b[43mindex_label\u001b[49m\u001b[43m,\u001b[49m\n\u001b[1;32m   3476\u001b[0m \u001b[43m    \u001b[49m\u001b[43mmode\u001b[49m\u001b[38;5;241;43m=\u001b[39;49m\u001b[43mmode\u001b[49m\u001b[43m,\u001b[49m\n\u001b[1;32m   3477\u001b[0m \u001b[43m    \u001b[49m\u001b[43mchunksize\u001b[49m\u001b[38;5;241;43m=\u001b[39;49m\u001b[43mchunksize\u001b[49m\u001b[43m,\u001b[49m\n\u001b[1;32m   3478\u001b[0m \u001b[43m    \u001b[49m\u001b[43mquotechar\u001b[49m\u001b[38;5;241;43m=\u001b[39;49m\u001b[43mquotechar\u001b[49m\u001b[43m,\u001b[49m\n\u001b[1;32m   3479\u001b[0m \u001b[43m    \u001b[49m\u001b[43mdate_format\u001b[49m\u001b[38;5;241;43m=\u001b[39;49m\u001b[43mdate_format\u001b[49m\u001b[43m,\u001b[49m\n\u001b[1;32m   3480\u001b[0m \u001b[43m    \u001b[49m\u001b[43mdoublequote\u001b[49m\u001b[38;5;241;43m=\u001b[39;49m\u001b[43mdoublequote\u001b[49m\u001b[43m,\u001b[49m\n\u001b[1;32m   3481\u001b[0m \u001b[43m    \u001b[49m\u001b[43mescapechar\u001b[49m\u001b[38;5;241;43m=\u001b[39;49m\u001b[43mescapechar\u001b[49m\u001b[43m,\u001b[49m\n\u001b[1;32m   3482\u001b[0m \u001b[43m    \u001b[49m\u001b[43mstorage_options\u001b[49m\u001b[38;5;241;43m=\u001b[39;49m\u001b[43mstorage_options\u001b[49m\u001b[43m,\u001b[49m\n\u001b[1;32m   3483\u001b[0m \u001b[43m\u001b[49m\u001b[43m)\u001b[49m\n",
      "File \u001b[0;32m~/anaconda3/envs/mlenv/lib/python3.10/site-packages/pandas/io/formats/format.py:1105\u001b[0m, in \u001b[0;36mDataFrameRenderer.to_csv\u001b[0;34m(self, path_or_buf, encoding, sep, columns, index_label, mode, compression, quoting, quotechar, line_terminator, chunksize, date_format, doublequote, escapechar, errors, storage_options)\u001b[0m\n\u001b[1;32m   1084\u001b[0m     created_buffer \u001b[38;5;241m=\u001b[39m \u001b[38;5;28;01mFalse\u001b[39;00m\n\u001b[1;32m   1086\u001b[0m csv_formatter \u001b[38;5;241m=\u001b[39m CSVFormatter(\n\u001b[1;32m   1087\u001b[0m     path_or_buf\u001b[38;5;241m=\u001b[39mpath_or_buf,\n\u001b[1;32m   1088\u001b[0m     line_terminator\u001b[38;5;241m=\u001b[39mline_terminator,\n\u001b[0;32m   (...)\u001b[0m\n\u001b[1;32m   1103\u001b[0m     formatter\u001b[38;5;241m=\u001b[39m\u001b[38;5;28mself\u001b[39m\u001b[38;5;241m.\u001b[39mfmt,\n\u001b[1;32m   1104\u001b[0m )\n\u001b[0;32m-> 1105\u001b[0m \u001b[43mcsv_formatter\u001b[49m\u001b[38;5;241;43m.\u001b[39;49m\u001b[43msave\u001b[49m\u001b[43m(\u001b[49m\u001b[43m)\u001b[49m\n\u001b[1;32m   1107\u001b[0m \u001b[38;5;28;01mif\u001b[39;00m created_buffer:\n\u001b[1;32m   1108\u001b[0m     \u001b[38;5;28;01massert\u001b[39;00m \u001b[38;5;28misinstance\u001b[39m(path_or_buf, StringIO)\n",
      "File \u001b[0;32m~/anaconda3/envs/mlenv/lib/python3.10/site-packages/pandas/io/formats/csvs.py:237\u001b[0m, in \u001b[0;36mCSVFormatter.save\u001b[0;34m(self)\u001b[0m\n\u001b[1;32m    233\u001b[0m \u001b[38;5;250m\u001b[39m\u001b[38;5;124;03m\"\"\"\u001b[39;00m\n\u001b[1;32m    234\u001b[0m \u001b[38;5;124;03mCreate the writer & save.\u001b[39;00m\n\u001b[1;32m    235\u001b[0m \u001b[38;5;124;03m\"\"\"\u001b[39;00m\n\u001b[1;32m    236\u001b[0m \u001b[38;5;66;03m# apply compression and byte/text conversion\u001b[39;00m\n\u001b[0;32m--> 237\u001b[0m \u001b[38;5;28;01mwith\u001b[39;00m \u001b[43mget_handle\u001b[49m\u001b[43m(\u001b[49m\n\u001b[1;32m    238\u001b[0m \u001b[43m    \u001b[49m\u001b[38;5;28;43mself\u001b[39;49m\u001b[38;5;241;43m.\u001b[39;49m\u001b[43mfilepath_or_buffer\u001b[49m\u001b[43m,\u001b[49m\n\u001b[1;32m    239\u001b[0m \u001b[43m    \u001b[49m\u001b[38;5;28;43mself\u001b[39;49m\u001b[38;5;241;43m.\u001b[39;49m\u001b[43mmode\u001b[49m\u001b[43m,\u001b[49m\n\u001b[1;32m    240\u001b[0m \u001b[43m    \u001b[49m\u001b[43mencoding\u001b[49m\u001b[38;5;241;43m=\u001b[39;49m\u001b[38;5;28;43mself\u001b[39;49m\u001b[38;5;241;43m.\u001b[39;49m\u001b[43mencoding\u001b[49m\u001b[43m,\u001b[49m\n\u001b[1;32m    241\u001b[0m \u001b[43m    \u001b[49m\u001b[43merrors\u001b[49m\u001b[38;5;241;43m=\u001b[39;49m\u001b[38;5;28;43mself\u001b[39;49m\u001b[38;5;241;43m.\u001b[39;49m\u001b[43merrors\u001b[49m\u001b[43m,\u001b[49m\n\u001b[1;32m    242\u001b[0m \u001b[43m    \u001b[49m\u001b[43mcompression\u001b[49m\u001b[38;5;241;43m=\u001b[39;49m\u001b[38;5;28;43mself\u001b[39;49m\u001b[38;5;241;43m.\u001b[39;49m\u001b[43mcompression\u001b[49m\u001b[43m,\u001b[49m\n\u001b[1;32m    243\u001b[0m \u001b[43m    \u001b[49m\u001b[43mstorage_options\u001b[49m\u001b[38;5;241;43m=\u001b[39;49m\u001b[38;5;28;43mself\u001b[39;49m\u001b[38;5;241;43m.\u001b[39;49m\u001b[43mstorage_options\u001b[49m\u001b[43m,\u001b[49m\n\u001b[1;32m    244\u001b[0m \u001b[43m\u001b[49m\u001b[43m)\u001b[49m \u001b[38;5;28;01mas\u001b[39;00m handles:\n\u001b[1;32m    245\u001b[0m \n\u001b[1;32m    246\u001b[0m     \u001b[38;5;66;03m# Note: self.encoding is irrelevant here\u001b[39;00m\n\u001b[1;32m    247\u001b[0m     \u001b[38;5;28mself\u001b[39m\u001b[38;5;241m.\u001b[39mwriter \u001b[38;5;241m=\u001b[39m csvlib\u001b[38;5;241m.\u001b[39mwriter(\n\u001b[1;32m    248\u001b[0m         handles\u001b[38;5;241m.\u001b[39mhandle,  \u001b[38;5;66;03m# type: ignore[arg-type]\u001b[39;00m\n\u001b[1;32m    249\u001b[0m         lineterminator\u001b[38;5;241m=\u001b[39m\u001b[38;5;28mself\u001b[39m\u001b[38;5;241m.\u001b[39mline_terminator,\n\u001b[0;32m   (...)\u001b[0m\n\u001b[1;32m    254\u001b[0m         quotechar\u001b[38;5;241m=\u001b[39m\u001b[38;5;28mself\u001b[39m\u001b[38;5;241m.\u001b[39mquotechar,\n\u001b[1;32m    255\u001b[0m     )\n\u001b[1;32m    257\u001b[0m     \u001b[38;5;28mself\u001b[39m\u001b[38;5;241m.\u001b[39m_save()\n",
      "File \u001b[0;32m~/anaconda3/envs/mlenv/lib/python3.10/site-packages/pandas/io/common.py:702\u001b[0m, in \u001b[0;36mget_handle\u001b[0;34m(path_or_buf, mode, encoding, compression, memory_map, is_text, errors, storage_options)\u001b[0m\n\u001b[1;32m    697\u001b[0m \u001b[38;5;28;01melif\u001b[39;00m \u001b[38;5;28misinstance\u001b[39m(handle, \u001b[38;5;28mstr\u001b[39m):\n\u001b[1;32m    698\u001b[0m     \u001b[38;5;66;03m# Check whether the filename is to be opened in binary mode.\u001b[39;00m\n\u001b[1;32m    699\u001b[0m     \u001b[38;5;66;03m# Binary mode does not support 'encoding' and 'newline'.\u001b[39;00m\n\u001b[1;32m    700\u001b[0m     \u001b[38;5;28;01mif\u001b[39;00m ioargs\u001b[38;5;241m.\u001b[39mencoding \u001b[38;5;129;01mand\u001b[39;00m \u001b[38;5;124m\"\u001b[39m\u001b[38;5;124mb\u001b[39m\u001b[38;5;124m\"\u001b[39m \u001b[38;5;129;01mnot\u001b[39;00m \u001b[38;5;129;01min\u001b[39;00m ioargs\u001b[38;5;241m.\u001b[39mmode:\n\u001b[1;32m    701\u001b[0m         \u001b[38;5;66;03m# Encoding\u001b[39;00m\n\u001b[0;32m--> 702\u001b[0m         handle \u001b[38;5;241m=\u001b[39m \u001b[38;5;28;43mopen\u001b[39;49m\u001b[43m(\u001b[49m\n\u001b[1;32m    703\u001b[0m \u001b[43m            \u001b[49m\u001b[43mhandle\u001b[49m\u001b[43m,\u001b[49m\n\u001b[1;32m    704\u001b[0m \u001b[43m            \u001b[49m\u001b[43mioargs\u001b[49m\u001b[38;5;241;43m.\u001b[39;49m\u001b[43mmode\u001b[49m\u001b[43m,\u001b[49m\n\u001b[1;32m    705\u001b[0m \u001b[43m            \u001b[49m\u001b[43mencoding\u001b[49m\u001b[38;5;241;43m=\u001b[39;49m\u001b[43mioargs\u001b[49m\u001b[38;5;241;43m.\u001b[39;49m\u001b[43mencoding\u001b[49m\u001b[43m,\u001b[49m\n\u001b[1;32m    706\u001b[0m \u001b[43m            \u001b[49m\u001b[43merrors\u001b[49m\u001b[38;5;241;43m=\u001b[39;49m\u001b[43merrors\u001b[49m\u001b[43m,\u001b[49m\n\u001b[1;32m    707\u001b[0m \u001b[43m            \u001b[49m\u001b[43mnewline\u001b[49m\u001b[38;5;241;43m=\u001b[39;49m\u001b[38;5;124;43m\"\u001b[39;49m\u001b[38;5;124;43m\"\u001b[39;49m\u001b[43m,\u001b[49m\n\u001b[1;32m    708\u001b[0m \u001b[43m        \u001b[49m\u001b[43m)\u001b[49m\n\u001b[1;32m    709\u001b[0m     \u001b[38;5;28;01melse\u001b[39;00m:\n\u001b[1;32m    710\u001b[0m         \u001b[38;5;66;03m# Binary mode\u001b[39;00m\n\u001b[1;32m    711\u001b[0m         handle \u001b[38;5;241m=\u001b[39m \u001b[38;5;28mopen\u001b[39m(handle, ioargs\u001b[38;5;241m.\u001b[39mmode)\n",
      "\u001b[0;31mFileNotFoundError\u001b[0m: [Errno 2] No such file or directory: '/Users/macpro/Documents/GitHub/fuel-electric-hybrid-vehicle-ml/data/predicted/predicted_co2_rating.csv'"
     ]
    }
   ],
   "source": [
    "if __name__==\"__main__\":\n",
    "\n",
    "    load_dotenv()  # load environment variables from .env file\n",
    "    PROJECT_DIR = os.getenv('PROJECT_DIR')\n",
    "\n",
    "\n",
    "    # Variable initialization\n",
    "    raw_data_path = os.path.join(PROJECT_DIR, 'data', 'raw')\n",
    "    clean_data_path = os.path.join(PROJECT_DIR, 'data', 'processed')\n",
    "    predicted_data_path = os.path.join(PROJECT_DIR, 'data', 'predicted')\n",
    "    model = os.path.join(PROJECT_DIR, 'models', 'hard_voting_classifier_co2_fuel.pkl')\n",
    "\n",
    "    # Load data\n",
    "    fuel_df, electric_df, hybrid_df = utils.read_data(clean_data_path)\n",
    "    \n",
    "    non_na_rating_class, na_rating_class = utils.remove_missing_values(fuel_df, drop_smog=False)\n",
    "    non_na_rating_class.rename(columns={'co2_rating': 'original_co2r'}, inplace=True)\n",
    "    na_rating_class.rename(columns={'co2_rating': 'original_co2r'}, inplace=True)\n",
    "\n",
    "    # Load model\n",
    "    best_dtc = joblib.load(model)\n",
    "    \n",
    "    # Use model to make predictions\n",
    "    non_na_pred = predict_co2_rating(non_na_rating_class, utils.var_list, best_dtc)\n",
    "    na_pred = predict_co2_rating(na_rating_class, utils.var_list, best_dtc)\n",
    "\n",
    "    # Merge the predicted values with the original data\n",
    "    fuel_df_pred = pd.concat([non_na_pred, na_pred], axis=0)\n",
    "\n",
    "    # Impute smog_rating \n",
    "    fuel_df_pred = impute_data(utils.numeric_features, fuel_df_pred, 'smog_rating')\n",
    "    \n",
    "    # Save the data\n",
    "    fuel_df_pred.to_csv(Path(predicted_data_path,'predicted_co2_rating.csv'), index=False)\n",
    "\n",
    "    # Predict missing \"co2_rating\" values in hybrid_df\n",
    "    hybrid_df_pred = impute_data(utils.numeric_features, hybrid_df, 'co2_rating')\n",
    "\n",
    "    # Predict missing 'smog_rating' values in hybrid_df\n",
    "    hybrid_df_pred = impute_data(utils.numeric_features, hybrid_df_pred, 'smog_rating')\n",
    "\n",
    "    # Save the data\n",
    "    hybrid_df_pred.to_csv(Path(predicted_data_path,'predicted_co2_rating_hybrid.csv'), index=False)\n",
    "\n",
    "    num_e = ['model_year','consumption_city(kwh/100km)',\n",
    "            'fuelconsumption_hwy(kwh/100km)', 'fuelconsumption_comb(kwh/100km)',\n",
    "            'fuelconsumption_city(le/100km)', 'fuelconsumption_hwy(le/100km)',\n",
    "            'fuelconsumption_comb(le/100km)','recharge_time(h)',\n",
    "            'co2emissions_(g/km)']\n",
    "\n",
    "    # Predict missing \"co2_rating\" values in electric_df\n",
    "    electric_df_pred = impute_data(num_e, electric_df, 'co2_rating')\n",
    "\n",
    "    # Predict missing 'smog_rating' values in electric_df\n",
    "    electric_df_pred = impute_data(num_e, electric_df_pred, 'smog_rating')\n",
    "\n",
    "    # Save the data\n",
    "    electric_df_pred.to_csv(Path(predicted_data_path, 'predicted_co2_rating_electric.csv'), index=False)"
   ]
  }
 ],
 "metadata": {
  "jupytext": {
   "cell_metadata_filter": "tags,-all",
   "main_language": "python",
   "notebook_metadata_filter": "-all",
   "text_representation": {
    "extension": ".py",
    "format_name": "light"
   }
  },
  "kernelspec": {
   "display_name": "Python 3 (ipykernel)",
   "language": "python",
   "name": "python3"
  },
  "language_info": {
   "codemirror_mode": {
    "name": "ipython",
    "version": 3
   },
   "file_extension": ".py",
   "mimetype": "text/x-python",
   "name": "python",
   "nbconvert_exporter": "python",
   "pygments_lexer": "ipython3",
   "version": "3.10.0"
  },
  "papermill": {
   "duration": 74.877041,
   "end_time": "2023-04-19T03:23:00.218744",
   "exception": true,
   "input_path": "/var/folders/2t/nqb9hcfs07n91h4v5p34slp00000gn/T/tmpi_cn908u.ipynb",
   "output_path": "/Users/macpro/Documents/GitHub/fuel-electric-hybrid-vehicle-ml/notebooks/predict_model.ipynb",
   "parameters": {
    "product": {
     "nb": "/Users/macpro/Documents/GitHub/fuel-electric-hybrid-vehicle-ml/notebooks/predict_model.ipynb"
    }
   },
   "start_time": "2023-04-19T03:21:45.341703"
  }
 },
 "nbformat": 4,
 "nbformat_minor": 5
}
