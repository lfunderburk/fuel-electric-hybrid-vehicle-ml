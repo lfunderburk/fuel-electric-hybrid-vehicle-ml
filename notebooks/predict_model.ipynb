{
 "cells": [
  {
   "cell_type": "code",
   "execution_count": 1,
   "id": "30be4273",
   "metadata": {
    "execution": {
     "iopub.execute_input": "2023-04-20T22:20:14.891517Z",
     "iopub.status.busy": "2023-04-20T22:20:14.891299Z",
     "iopub.status.idle": "2023-04-20T22:20:14.897031Z",
     "shell.execute_reply": "2023-04-20T22:20:14.896704Z"
    },
    "lines_to_next_cell": 0,
    "papermill": {
     "duration": 0.00996,
     "end_time": "2023-04-20T22:20:14.898344",
     "exception": false,
     "start_time": "2023-04-20T22:20:14.888384",
     "status": "completed"
    },
    "tags": [
     "parameters"
    ]
   },
   "outputs": [],
   "source": [
    "# declare a list tasks whose products you want to use as inputs\n",
    "upstream = None\n"
   ]
  },
  {
   "cell_type": "code",
   "execution_count": 2,
   "id": "cf638883",
   "metadata": {
    "execution": {
     "iopub.execute_input": "2023-04-20T22:20:14.903121Z",
     "iopub.status.busy": "2023-04-20T22:20:14.902847Z",
     "iopub.status.idle": "2023-04-20T22:20:14.906003Z",
     "shell.execute_reply": "2023-04-20T22:20:14.905508Z"
    },
    "papermill": {
     "duration": 0.007105,
     "end_time": "2023-04-20T22:20:14.907280",
     "exception": false,
     "start_time": "2023-04-20T22:20:14.900175",
     "status": "completed"
    },
    "tags": [
     "injected-parameters"
    ]
   },
   "outputs": [],
   "source": [
    "# Parameters\n",
    "product = {\n",
    "    \"nb\": \"/Users/macpro/Documents/GitHub/fuel-electric-hybrid-vehicle-ml/notebooks/predict_model.ipynb\"\n",
    "}\n"
   ]
  },
  {
   "cell_type": "code",
   "execution_count": 3,
   "id": "cf8faaab",
   "metadata": {
    "execution": {
     "iopub.execute_input": "2023-04-20T22:20:14.910629Z",
     "iopub.status.busy": "2023-04-20T22:20:14.910455Z",
     "iopub.status.idle": "2023-04-20T22:20:15.757168Z",
     "shell.execute_reply": "2023-04-20T22:20:15.756758Z"
    },
    "papermill": {
     "duration": 0.850022,
     "end_time": "2023-04-20T22:20:15.758589",
     "exception": false,
     "start_time": "2023-04-20T22:20:14.908567",
     "status": "completed"
    },
    "tags": []
   },
   "outputs": [],
   "source": [
    "import sys, os\n",
    "import pandas as pd\n",
    "import joblib\n",
    "from utils import read_data, remove_missing_values, var_list, numeric_features\n",
    "from sklearn.impute import KNNImputer\n",
    "from pathlib import Path"
   ]
  },
  {
   "cell_type": "code",
   "execution_count": 4,
   "id": "b2fede5f",
   "metadata": {
    "execution": {
     "iopub.execute_input": "2023-04-20T22:20:15.762718Z",
     "iopub.status.busy": "2023-04-20T22:20:15.762441Z",
     "iopub.status.idle": "2023-04-20T22:20:15.765248Z",
     "shell.execute_reply": "2023-04-20T22:20:15.764660Z"
    },
    "papermill": {
     "duration": 0.006942,
     "end_time": "2023-04-20T22:20:15.767008",
     "exception": false,
     "start_time": "2023-04-20T22:20:15.760066",
     "status": "completed"
    },
    "tags": []
   },
   "outputs": [],
   "source": [
    "# Get the current working directory\n",
    "current_working_directory = os.getcwd()"
   ]
  },
  {
   "cell_type": "code",
   "execution_count": 5,
   "id": "d126ef83",
   "metadata": {
    "execution": {
     "iopub.execute_input": "2023-04-20T22:20:15.770981Z",
     "iopub.status.busy": "2023-04-20T22:20:15.770719Z",
     "iopub.status.idle": "2023-04-20T22:20:15.773298Z",
     "shell.execute_reply": "2023-04-20T22:20:15.772898Z"
    },
    "lines_to_next_cell": 1,
    "papermill": {
     "duration": 0.006018,
     "end_time": "2023-04-20T22:20:15.774556",
     "exception": false,
     "start_time": "2023-04-20T22:20:15.768538",
     "status": "completed"
    },
    "tags": []
   },
   "outputs": [],
   "source": [
    "# Convert the current working directory to a Path object\n",
    "script_dir = Path(current_working_directory)"
   ]
  },
  {
   "cell_type": "code",
   "execution_count": 6,
   "id": "59d31336",
   "metadata": {
    "execution": {
     "iopub.execute_input": "2023-04-20T22:20:15.778054Z",
     "iopub.status.busy": "2023-04-20T22:20:15.777857Z",
     "iopub.status.idle": "2023-04-20T22:20:15.781960Z",
     "shell.execute_reply": "2023-04-20T22:20:15.781530Z"
    },
    "lines_to_next_cell": 1,
    "papermill": {
     "duration": 0.007197,
     "end_time": "2023-04-20T22:20:15.783166",
     "exception": false,
     "start_time": "2023-04-20T22:20:15.775969",
     "status": "completed"
    },
    "tags": []
   },
   "outputs": [],
   "source": [
    "def predict_co2_rating(df, list_of_vars, model):\n",
    "    # Preprocess the original data (fuel_df)\n",
    "    X_fuel = df[list_of_vars].copy()\n",
    "    target = df['original_co2r'].copy()\n",
    "\n",
    "    # Get remaining columns from df\n",
    "    remaining_cols = [col for col in df.columns if col not in list_of_vars and col != 'original_co2r']\n",
    "    remaining_df = df[remaining_cols].copy()\n",
    "\n",
    "    # Predict missing \"co2_rating\" values\n",
    "    X_fuel['predicted_co2_rating'] = model.predict(X_fuel)\n",
    "\n",
    "    # Merge the predicted values with the original data\n",
    "    fuel_df_pred = pd.concat([X_fuel, target, remaining_df], axis=1)\n",
    "\n",
    "    return fuel_df_pred"
   ]
  },
  {
   "cell_type": "code",
   "execution_count": 7,
   "id": "d150d584",
   "metadata": {
    "execution": {
     "iopub.execute_input": "2023-04-20T22:20:15.787344Z",
     "iopub.status.busy": "2023-04-20T22:20:15.787120Z",
     "iopub.status.idle": "2023-04-20T22:20:15.790697Z",
     "shell.execute_reply": "2023-04-20T22:20:15.790197Z"
    },
    "papermill": {
     "duration": 0.007324,
     "end_time": "2023-04-20T22:20:15.792017",
     "exception": false,
     "start_time": "2023-04-20T22:20:15.784693",
     "status": "completed"
    },
    "tags": []
   },
   "outputs": [],
   "source": [
    "def impute_data(numeric_features, df, target):\n",
    "\n",
    "    df_c = df.copy()\n",
    "    # Independent variables\n",
    "    X = df_c[numeric_features + [target]]\n",
    "\n",
    "    missing_values_index = df_c[df_c.isnull().any(axis=1)].index\n",
    "\n",
    "    imputer = KNNImputer(n_neighbors=1)\n",
    "    X_imputed = imputer.fit_transform(X)\n",
    "\n",
    "    X_imputed[missing_values_index, -1]\n",
    "\n",
    "    df_c.loc[missing_values_index, target] =  X_imputed[missing_values_index, -1]\n",
    "\n",
    "    return df_c"
   ]
  },
  {
   "cell_type": "code",
   "execution_count": 8,
   "id": "d9d30d86",
   "metadata": {
    "execution": {
     "iopub.execute_input": "2023-04-20T22:20:15.796049Z",
     "iopub.status.busy": "2023-04-20T22:20:15.795836Z",
     "iopub.status.idle": "2023-04-20T22:20:58.355381Z",
     "shell.execute_reply": "2023-04-20T22:20:58.351986Z"
    },
    "papermill": {
     "duration": 42.592203,
     "end_time": "2023-04-20T22:20:58.385760",
     "exception": false,
     "start_time": "2023-04-20T22:20:15.793557",
     "status": "completed"
    },
    "tags": []
   },
   "outputs": [],
   "source": [
    "if __name__==\"__main__\":\n",
    "\n",
    "    # Variable initialization\n",
    "    raw_data_path = script_dir / 'data' / 'raw'\n",
    "    clean_data_path = script_dir / 'data' / 'processed'\n",
    "    predicted_data_path = script_dir / 'data' / 'predicted-data'\n",
    "    model_path = script_dir / 'models' / 'hard_voting_classifier_co2_fuel.pkl'\n",
    "\n",
    "    # Load data\n",
    "    fuel_df, electric_df, hybrid_df = read_data(clean_data_path)\n",
    "    \n",
    "    non_na_rating_class, na_rating_class = remove_missing_values(fuel_df, drop_smog=False)\n",
    "    non_na_rating_class.rename(columns={'co2_rating': 'original_co2r'}, inplace=True)\n",
    "    na_rating_class.rename(columns={'co2_rating': 'original_co2r'}, inplace=True)\n",
    "\n",
    "    # Load model\n",
    "    best_dtc = joblib.load(model_path)\n",
    "    \n",
    "    # Use model to make predictions\n",
    "    non_na_pred = predict_co2_rating(non_na_rating_class, var_list, best_dtc)\n",
    "    na_pred = predict_co2_rating(na_rating_class, var_list, best_dtc)\n",
    "\n",
    "    # Merge the predicted values with the original data\n",
    "    fuel_df_pred = pd.concat([non_na_pred, na_pred], axis=0)\n",
    "\n",
    "    # Impute smog_rating \n",
    "    fuel_df_pred = impute_data(numeric_features, fuel_df_pred, 'smog_rating')\n",
    "    \n",
    "    # Save the data\n",
    "    fuel_df_pred.to_csv(Path(predicted_data_path,'predicted_co2_rating.csv'), index=False)\n",
    "\n",
    "    # Predict missing \"co2_rating\" values in hybrid_df\n",
    "    hybrid_df_pred = impute_data(numeric_features, hybrid_df, 'co2_rating')\n",
    "\n",
    "    # Predict missing 'smog_rating' values in hybrid_df\n",
    "    hybrid_df_pred = impute_data(numeric_features, hybrid_df_pred, 'smog_rating')\n",
    "\n",
    "    # Save the data\n",
    "    hybrid_df_pred.to_csv(Path(predicted_data_path,'predicted_co2_rating_hybrid.csv'), index=False)\n",
    "\n",
    "    num_e = ['model_year','consumption_city(kwh/100km)',\n",
    "            'fuelconsumption_hwy(kwh/100km)', 'fuelconsumption_comb(kwh/100km)',\n",
    "            'fuelconsumption_city(le/100km)', 'fuelconsumption_hwy(le/100km)',\n",
    "            'fuelconsumption_comb(le/100km)','recharge_time(h)',\n",
    "            'co2emissions_(g/km)']\n",
    "\n",
    "    # Predict missing \"co2_rating\" values in electric_df\n",
    "    electric_df_pred = impute_data(num_e, electric_df, 'co2_rating')\n",
    "\n",
    "    # Predict missing 'smog_rating' values in electric_df\n",
    "    electric_df_pred = impute_data(num_e, electric_df_pred, 'smog_rating')\n",
    "\n",
    "    # Save the data\n",
    "    electric_df_pred.to_csv(Path(predicted_data_path, 'predicted_co2_rating_electric.csv'), index=False)"
   ]
  }
 ],
 "metadata": {
  "jupytext": {
   "cell_metadata_filter": "tags,-all",
   "main_language": "python",
   "notebook_metadata_filter": "-all",
   "text_representation": {
    "extension": ".py",
    "format_name": "light"
   }
  },
  "kernelspec": {
   "display_name": "Python 3 (ipykernel)",
   "language": "python",
   "name": "python3"
  },
  "language_info": {
   "codemirror_mode": {
    "name": "ipython",
    "version": 3
   },
   "file_extension": ".py",
   "mimetype": "text/x-python",
   "name": "python",
   "nbconvert_exporter": "python",
   "pygments_lexer": "ipython3",
   "version": "3.10.0"
  },
  "papermill": {
   "duration": 44.996129,
   "end_time": "2023-04-20T22:20:58.947244",
   "exception": null,
   "input_path": "/var/folders/2t/nqb9hcfs07n91h4v5p34slp00000gn/T/tmp8wr7haqu.ipynb",
   "output_path": "/Users/macpro/Documents/GitHub/fuel-electric-hybrid-vehicle-ml/notebooks/predict_model.ipynb",
   "parameters": {
    "product": {
     "nb": "/Users/macpro/Documents/GitHub/fuel-electric-hybrid-vehicle-ml/notebooks/predict_model.ipynb"
    }
   },
   "start_time": "2023-04-20T22:20:13.951115"
  }
 },
 "nbformat": 4,
 "nbformat_minor": 5
}