{
 "cells": [
  {
   "cell_type": "code",
   "execution_count": 1,
   "id": "f0383f65",
   "metadata": {
    "execution": {
     "iopub.execute_input": "2023-04-26T03:52:49.236550Z",
     "iopub.status.busy": "2023-04-26T03:52:49.235748Z",
     "iopub.status.idle": "2023-04-26T03:52:49.252846Z",
     "shell.execute_reply": "2023-04-26T03:52:49.252126Z"
    },
    "lines_to_next_cell": 0,
    "papermill": {
     "duration": 0.032905,
     "end_time": "2023-04-26T03:52:49.255742",
     "exception": false,
     "start_time": "2023-04-26T03:52:49.222837",
     "status": "completed"
    },
    "tags": [
     "parameters"
    ]
   },
   "outputs": [],
   "source": [
    "# declare a list tasks whose products you want to use as inputs\n",
    "upstream = None\n"
   ]
  },
  {
   "cell_type": "code",
   "execution_count": 2,
   "id": "bb76cce7",
   "metadata": {
    "execution": {
     "iopub.execute_input": "2023-04-26T03:52:49.265516Z",
     "iopub.status.busy": "2023-04-26T03:52:49.265157Z",
     "iopub.status.idle": "2023-04-26T03:52:49.271457Z",
     "shell.execute_reply": "2023-04-26T03:52:49.270646Z"
    },
    "papermill": {
     "duration": 0.014483,
     "end_time": "2023-04-26T03:52:49.273810",
     "exception": false,
     "start_time": "2023-04-26T03:52:49.259327",
     "status": "completed"
    },
    "tags": [
     "injected-parameters"
    ]
   },
   "outputs": [],
   "source": [
    "# Parameters\n",
    "product = {\n",
    "    \"nb\": \"/Users/macpro/Documents/GitHub/fuel-electric-hybrid-vehicle-ml/notebooks/predict_model.ipynb\"\n",
    "}\n"
   ]
  },
  {
   "cell_type": "code",
   "execution_count": 3,
   "id": "532a0139",
   "metadata": {
    "execution": {
     "iopub.execute_input": "2023-04-26T03:52:49.282190Z",
     "iopub.status.busy": "2023-04-26T03:52:49.281791Z",
     "iopub.status.idle": "2023-04-26T03:52:50.346647Z",
     "shell.execute_reply": "2023-04-26T03:52:50.346176Z"
    },
    "papermill": {
     "duration": 1.072285,
     "end_time": "2023-04-26T03:52:50.349162",
     "exception": false,
     "start_time": "2023-04-26T03:52:49.276877",
     "status": "completed"
    },
    "tags": []
   },
   "outputs": [],
   "source": [
    "import os\n",
    "import pandas as pd\n",
    "import joblib\n",
    "from utils import read_data, remove_missing_values, var_list, numeric_features\n",
    "from sklearn.impute import KNNImputer\n",
    "from pathlib import Path"
   ]
  },
  {
   "cell_type": "code",
   "execution_count": 4,
   "id": "383e6a22",
   "metadata": {
    "execution": {
     "iopub.execute_input": "2023-04-26T03:52:50.354431Z",
     "iopub.status.busy": "2023-04-26T03:52:50.354154Z",
     "iopub.status.idle": "2023-04-26T03:52:50.357001Z",
     "shell.execute_reply": "2023-04-26T03:52:50.356573Z"
    },
    "papermill": {
     "duration": 0.006782,
     "end_time": "2023-04-26T03:52:50.358367",
     "exception": false,
     "start_time": "2023-04-26T03:52:50.351585",
     "status": "completed"
    },
    "tags": []
   },
   "outputs": [],
   "source": [
    "# Get the current working directory\n",
    "current_working_directory = os.getcwd()"
   ]
  },
  {
   "cell_type": "code",
   "execution_count": 5,
   "id": "e72692e8",
   "metadata": {
    "execution": {
     "iopub.execute_input": "2023-04-26T03:52:50.361838Z",
     "iopub.status.busy": "2023-04-26T03:52:50.361646Z",
     "iopub.status.idle": "2023-04-26T03:52:50.363927Z",
     "shell.execute_reply": "2023-04-26T03:52:50.363583Z"
    },
    "lines_to_next_cell": 1,
    "papermill": {
     "duration": 0.005337,
     "end_time": "2023-04-26T03:52:50.365135",
     "exception": false,
     "start_time": "2023-04-26T03:52:50.359798",
     "status": "completed"
    },
    "tags": []
   },
   "outputs": [],
   "source": [
    "# Convert the current working directory to a Path object\n",
    "script_dir = Path(current_working_directory)"
   ]
  },
  {
   "cell_type": "code",
   "execution_count": 6,
   "id": "8b48a07f",
   "metadata": {
    "execution": {
     "iopub.execute_input": "2023-04-26T03:52:50.369985Z",
     "iopub.status.busy": "2023-04-26T03:52:50.369777Z",
     "iopub.status.idle": "2023-04-26T03:52:50.374390Z",
     "shell.execute_reply": "2023-04-26T03:52:50.373570Z"
    },
    "lines_to_next_cell": 1,
    "papermill": {
     "duration": 0.009737,
     "end_time": "2023-04-26T03:52:50.376867",
     "exception": false,
     "start_time": "2023-04-26T03:52:50.367130",
     "status": "completed"
    },
    "tags": []
   },
   "outputs": [],
   "source": [
    "def predict_co2_rating(df, list_of_vars, model):\n",
    "    # Preprocess the original data (fuel_df)\n",
    "    X_fuel = df[list_of_vars].copy()\n",
    "    target = df['original_co2r'].copy()\n",
    "\n",
    "    # Get remaining columns from df\n",
    "    remaining_cols = [col for col in df.columns if col not in list_of_vars and col != 'original_co2r']\n",
    "    remaining_df = df[remaining_cols].copy()\n",
    "\n",
    "    # Predict missing \"co2_rating\" values\n",
    "    X_fuel['predicted_co2_rating'] = model.predict(X_fuel)\n",
    "\n",
    "    # Merge the predicted values with the original data\n",
    "    fuel_df_pred = pd.concat([X_fuel, target, remaining_df], axis=1)\n",
    "\n",
    "    return fuel_df_pred"
   ]
  },
  {
   "cell_type": "code",
   "execution_count": 7,
   "id": "abeb6e42",
   "metadata": {
    "execution": {
     "iopub.execute_input": "2023-04-26T03:52:50.382019Z",
     "iopub.status.busy": "2023-04-26T03:52:50.381803Z",
     "iopub.status.idle": "2023-04-26T03:52:50.385193Z",
     "shell.execute_reply": "2023-04-26T03:52:50.384694Z"
    },
    "papermill": {
     "duration": 0.007999,
     "end_time": "2023-04-26T03:52:50.387053",
     "exception": false,
     "start_time": "2023-04-26T03:52:50.379054",
     "status": "completed"
    },
    "tags": []
   },
   "outputs": [],
   "source": [
    "def impute_data(numeric_features, df, target):\n",
    "\n",
    "    df_c = df.copy()\n",
    "    # Independent variables\n",
    "    X = df_c[numeric_features + [target]]\n",
    "\n",
    "    missing_values_index = df_c[df_c.isnull().any(axis=1)].index\n",
    "\n",
    "    imputer = KNNImputer(n_neighbors=1)\n",
    "    X_imputed = imputer.fit_transform(X)\n",
    "\n",
    "    X_imputed[missing_values_index, -1]\n",
    "\n",
    "    df_c.loc[missing_values_index, target] =  X_imputed[missing_values_index, -1]\n",
    "\n",
    "    return df_c"
   ]
  },
  {
   "cell_type": "code",
   "execution_count": 8,
   "id": "1869c15a",
   "metadata": {
    "execution": {
     "iopub.execute_input": "2023-04-26T03:52:50.392343Z",
     "iopub.status.busy": "2023-04-26T03:52:50.392091Z",
     "iopub.status.idle": "2023-04-26T03:53:39.085418Z",
     "shell.execute_reply": "2023-04-26T03:53:39.074128Z"
    },
    "papermill": {
     "duration": 48.719954,
     "end_time": "2023-04-26T03:53:39.108663",
     "exception": false,
     "start_time": "2023-04-26T03:52:50.388709",
     "status": "completed"
    },
    "tags": []
   },
   "outputs": [],
   "source": [
    "if __name__==\"__main__\":\n",
    "\n",
    "    # Variable initialization\n",
    "    raw_data_path = script_dir / 'data' / 'raw'\n",
    "    clean_data_path = script_dir / 'data' / 'processed'\n",
    "    predicted_data_path = script_dir / 'data' / 'predicted-data'\n",
    "    model_path = script_dir / 'models' / 'hard_voting_classifier_co2_fuel.pkl'\n",
    "\n",
    "    # Load data\n",
    "    fuel_df, electric_df, hybrid_df = read_data(clean_data_path)\n",
    "    \n",
    "    non_na_rating_class, na_rating_class = remove_missing_values(fuel_df, drop_smog=False)\n",
    "    non_na_rating_class.rename(columns={'co2_rating': 'original_co2r'}, inplace=True)\n",
    "    na_rating_class.rename(columns={'co2_rating': 'original_co2r'}, inplace=True)\n",
    "\n",
    "    # Load model\n",
    "    best_dtc = joblib.load(model_path)\n",
    "    \n",
    "    # Use model to make predictions\n",
    "    non_na_pred = predict_co2_rating(non_na_rating_class, var_list, best_dtc)\n",
    "    na_pred = predict_co2_rating(na_rating_class, var_list, best_dtc)\n",
    "\n",
    "    # Merge the predicted values with the original data\n",
    "    fuel_df_pred = pd.concat([non_na_pred, na_pred], axis=0)\n",
    "\n",
    "    # Impute smog_rating \n",
    "    fuel_df_pred = impute_data(numeric_features, fuel_df_pred, 'smog_rating')\n",
    "    \n",
    "    # Save the data\n",
    "    fuel_df_pred.to_csv(Path(predicted_data_path,'predicted_co2_rating.csv'), index=False)\n",
    "\n",
    "    # Predict missing \"co2_rating\" values in hybrid_df\n",
    "    hybrid_df_pred = impute_data(numeric_features, hybrid_df, 'co2_rating')\n",
    "\n",
    "    # Predict missing 'smog_rating' values in hybrid_df\n",
    "    hybrid_df_pred = impute_data(numeric_features, hybrid_df_pred, 'smog_rating')\n",
    "\n",
    "    # Save the data\n",
    "    hybrid_df_pred.to_csv(Path(predicted_data_path,'predicted_co2_rating_hybrid.csv'), index=False)\n",
    "\n",
    "    num_e = ['model_year','consumption_city(kwh/100km)',\n",
    "            'fuelconsumption_hwy(kwh/100km)', 'fuelconsumption_comb(kwh/100km)',\n",
    "            'fuelconsumption_city(le/100km)', 'fuelconsumption_hwy(le/100km)',\n",
    "            'fuelconsumption_comb(le/100km)','recharge_time(h)',\n",
    "            'co2emissions_(g/km)']\n",
    "\n",
    "    # Predict missing \"co2_rating\" values in electric_df\n",
    "    electric_df_pred = impute_data(num_e, electric_df, 'co2_rating')\n",
    "\n",
    "    # Predict missing 'smog_rating' values in electric_df\n",
    "    electric_df_pred = impute_data(num_e, electric_df_pred, 'smog_rating')\n",
    "\n",
    "    # Save the data\n",
    "    electric_df_pred.to_csv(Path(predicted_data_path, 'predicted_co2_rating_electric.csv'), index=False)"
   ]
  }
 ],
 "metadata": {
  "jupytext": {
   "cell_metadata_filter": "tags,-all",
   "main_language": "python",
   "notebook_metadata_filter": "-all",
   "text_representation": {
    "extension": ".py",
    "format_name": "light"
   }
  },
  "kernelspec": {
   "display_name": "Python 3 (ipykernel)",
   "language": "python",
   "name": "python3"
  },
  "language_info": {
   "codemirror_mode": {
    "name": "ipython",
    "version": 3
   },
   "file_extension": ".py",
   "mimetype": "text/x-python",
   "name": "python",
   "nbconvert_exporter": "python",
   "pygments_lexer": "ipython3",
   "version": "3.10.0"
  },
  "papermill": {
   "duration": 52.20032,
   "end_time": "2023-04-26T03:53:39.661525",
   "exception": null,
   "input_path": "/var/folders/2t/nqb9hcfs07n91h4v5p34slp00000gn/T/tmplu_o6rhf.ipynb",
   "output_path": "/Users/macpro/Documents/GitHub/fuel-electric-hybrid-vehicle-ml/notebooks/predict_model.ipynb",
   "parameters": {
    "product": {
     "nb": "/Users/macpro/Documents/GitHub/fuel-electric-hybrid-vehicle-ml/notebooks/predict_model.ipynb"
    }
   },
   "start_time": "2023-04-26T03:52:47.461205"
  }
 },
 "nbformat": 4,
 "nbformat_minor": 5
}