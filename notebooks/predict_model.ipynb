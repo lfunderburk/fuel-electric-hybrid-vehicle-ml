{
 "cells": [
  {
   "cell_type": "code",
   "execution_count": 1,
   "id": "77f8fba0",
   "metadata": {
    "execution": {
     "iopub.execute_input": "2023-04-19T01:47:34.921386Z",
     "iopub.status.busy": "2023-04-19T01:47:34.920867Z",
     "iopub.status.idle": "2023-04-19T01:47:34.932406Z",
     "shell.execute_reply": "2023-04-19T01:47:34.931614Z"
    },
    "papermill": {
     "duration": 0.023059,
     "end_time": "2023-04-19T01:47:34.935100",
     "exception": false,
     "start_time": "2023-04-19T01:47:34.912041",
     "status": "completed"
    },
    "tags": [
     "parameters"
    ]
   },
   "outputs": [],
   "source": [
    "# declare a list tasks whose products you want to use as inputs\n",
    "upstream = None\n"
   ]
  },
  {
   "cell_type": "code",
   "execution_count": 2,
   "id": "04a876df",
   "metadata": {
    "execution": {
     "iopub.execute_input": "2023-04-19T01:47:34.942249Z",
     "iopub.status.busy": "2023-04-19T01:47:34.941539Z",
     "iopub.status.idle": "2023-04-19T01:47:34.945485Z",
     "shell.execute_reply": "2023-04-19T01:47:34.944868Z"
    },
    "papermill": {
     "duration": 0.009478,
     "end_time": "2023-04-19T01:47:34.947521",
     "exception": false,
     "start_time": "2023-04-19T01:47:34.938043",
     "status": "completed"
    },
    "tags": [
     "injected-parameters"
    ]
   },
   "outputs": [],
   "source": [
    "# Parameters\n",
    "product = {\n",
    "    \"nb\": \"/Users/macpro/Documents/GitHub/fuel-electric-hybrid-vehicle-ml/notebooks/predict_model.ipynb\"\n",
    "}\n"
   ]
  },
  {
   "cell_type": "code",
   "execution_count": 3,
   "id": "5230dd7c",
   "metadata": {
    "execution": {
     "iopub.execute_input": "2023-04-19T01:47:34.952790Z",
     "iopub.status.busy": "2023-04-19T01:47:34.952502Z",
     "iopub.status.idle": "2023-04-19T01:47:35.816464Z",
     "shell.execute_reply": "2023-04-19T01:47:35.815954Z"
    },
    "papermill": {
     "duration": 0.868115,
     "end_time": "2023-04-19T01:47:35.817856",
     "exception": false,
     "start_time": "2023-04-19T01:47:34.949741",
     "status": "completed"
    },
    "tags": []
   },
   "outputs": [],
   "source": [
    "import pandas as pd\n",
    "import sys, os\n",
    "import joblib\n",
    "import utils\n",
    "from sklearn.impute import KNNImputer"
   ]
  },
  {
   "cell_type": "code",
   "execution_count": 4,
   "id": "3f1f9170",
   "metadata": {
    "execution": {
     "iopub.execute_input": "2023-04-19T01:47:35.822831Z",
     "iopub.status.busy": "2023-04-19T01:47:35.822568Z",
     "iopub.status.idle": "2023-04-19T01:47:35.825917Z",
     "shell.execute_reply": "2023-04-19T01:47:35.825548Z"
    },
    "lines_to_next_cell": 1,
    "papermill": {
     "duration": 0.006645,
     "end_time": "2023-04-19T01:47:35.827151",
     "exception": false,
     "start_time": "2023-04-19T01:47:35.820506",
     "status": "completed"
    },
    "tags": []
   },
   "outputs": [],
   "source": [
    "def predict_co2_rating(df, list_of_vars, model):\n",
    "    # Preprocess the original data (fuel_df)\n",
    "    X_fuel = df[list_of_vars].copy()\n",
    "    target = df['original_co2r'].copy()\n",
    "\n",
    "    # Get remaining columns from df\n",
    "    remaining_cols = [col for col in df.columns if col not in list_of_vars and col != 'original_co2r']\n",
    "    remaining_df = df[remaining_cols].copy()\n",
    "\n",
    "    # Predict missing \"co2_rating\" values\n",
    "    X_fuel['predicted_co2_rating'] = model.predict(X_fuel)\n",
    "\n",
    "    # Merge the predicted values with the original data\n",
    "    fuel_df_pred = pd.concat([X_fuel, target, remaining_df], axis=1)\n",
    "\n",
    "    return fuel_df_pred"
   ]
  },
  {
   "cell_type": "code",
   "execution_count": 5,
   "id": "57b0df33",
   "metadata": {
    "execution": {
     "iopub.execute_input": "2023-04-19T01:47:35.830258Z",
     "iopub.status.busy": "2023-04-19T01:47:35.830101Z",
     "iopub.status.idle": "2023-04-19T01:47:35.833072Z",
     "shell.execute_reply": "2023-04-19T01:47:35.832725Z"
    },
    "papermill": {
     "duration": 0.005909,
     "end_time": "2023-04-19T01:47:35.834275",
     "exception": false,
     "start_time": "2023-04-19T01:47:35.828366",
     "status": "completed"
    },
    "tags": []
   },
   "outputs": [],
   "source": [
    "def impute_data(numeric_features, df, target):\n",
    "\n",
    "    df_c = df.copy()\n",
    "    # Independent variables\n",
    "    X = df_c[numeric_features + [target]]\n",
    "\n",
    "    missing_values_index = df_c[df_c.isnull().any(axis=1)].index\n",
    "\n",
    "    imputer = KNNImputer(n_neighbors=1)\n",
    "    X_imputed = imputer.fit_transform(X)\n",
    "\n",
    "    X_imputed[missing_values_index, -1]\n",
    "\n",
    "    df_c.loc[missing_values_index, target] =  X_imputed[missing_values_index, -1]\n",
    "\n",
    "    return df_c"
   ]
  },
  {
   "cell_type": "code",
   "execution_count": 6,
   "id": "ab035a46",
   "metadata": {
    "execution": {
     "iopub.execute_input": "2023-04-19T01:47:35.837673Z",
     "iopub.status.busy": "2023-04-19T01:47:35.837321Z",
     "iopub.status.idle": "2023-04-19T01:48:26.118798Z",
     "shell.execute_reply": "2023-04-19T01:48:26.116366Z"
    },
    "papermill": {
     "duration": 50.302793,
     "end_time": "2023-04-19T01:48:26.138246",
     "exception": false,
     "start_time": "2023-04-19T01:47:35.835453",
     "status": "completed"
    },
    "tags": []
   },
   "outputs": [],
   "source": [
    "if __name__==\"__main__\":\n",
    "\n",
    "    # Set up paths\n",
    "    sys.path.append(os.path.abspath(os.path.join('./data/', './processed/')))\n",
    "    sys.path.append(os.path.abspath(os.path.join('./models/')))\n",
    "\n",
    "    # Load data\n",
    "    fuel_df, electric_df, hybrid_df = utils.read_data(\"./data/processed/\")\n",
    "    \n",
    "    non_na_rating_class, na_rating_class = utils.remove_missing_values(fuel_df, drop_smog=False)\n",
    "    non_na_rating_class.rename(columns={'co2_rating': 'original_co2r'}, inplace=True)\n",
    "    na_rating_class.rename(columns={'co2_rating': 'original_co2r'}, inplace=True)\n",
    "\n",
    "    # Load model\n",
    "    best_dtc = joblib.load('./models/hard_voting_classifier_co2_fuel.pkl')\n",
    "    \n",
    "    # Use model to make predictions\n",
    "    non_na_pred = predict_co2_rating(non_na_rating_class, utils.var_list, best_dtc)\n",
    "    na_pred = predict_co2_rating(na_rating_class, utils.var_list, best_dtc)\n",
    "\n",
    "    # Merge the predicted values with the original data\n",
    "    fuel_df_pred = pd.concat([non_na_pred, na_pred], axis=0)\n",
    "\n",
    "    # Impute smog_rating \n",
    "    fuel_df_pred = impute_data(utils.numeric_features, fuel_df_pred, 'smog_rating')\n",
    "    \n",
    "    # Save the data\n",
    "    fuel_df_pred.to_csv('./data/predicted-data/predicted_co2_rating.csv', index=False)\n",
    "\n",
    "    # Predict missing \"co2_rating\" values in hybrid_df\n",
    "    hybrid_df_pred = impute_data(utils.numeric_features, hybrid_df, 'co2_rating')\n",
    "\n",
    "    # Predict missing 'smog_rating' values in hybrid_df\n",
    "    hybrid_df_pred = impute_data(utils.numeric_features, hybrid_df_pred, 'smog_rating')\n",
    "\n",
    "    # Save the data\n",
    "    hybrid_df_pred.to_csv('./data/predicted-data/predicted_co2_rating_hybrid.csv', index=False)\n",
    "\n",
    "    num_e = ['model_year','consumption_city(kwh/100km)',\n",
    "            'fuelconsumption_hwy(kwh/100km)', 'fuelconsumption_comb(kwh/100km)',\n",
    "            'fuelconsumption_city(le/100km)', 'fuelconsumption_hwy(le/100km)',\n",
    "            'fuelconsumption_comb(le/100km)','recharge_time(h)',\n",
    "            'co2emissions_(g/km)']\n",
    "\n",
    "    # Predict missing \"co2_rating\" values in electric_df\n",
    "    electric_df_pred = impute_data(num_e, electric_df, 'co2_rating')\n",
    "\n",
    "    # Predict missing 'smog_rating' values in electric_df\n",
    "    electric_df_pred = impute_data(num_e, electric_df_pred, 'smog_rating')\n",
    "\n",
    "    # Save the data\n",
    "    electric_df_pred.to_csv('./data/predicted-data/predicted_co2_rating_electric.csv', index=False)"
   ]
  }
 ],
 "metadata": {
  "jupytext": {
   "cell_metadata_filter": "tags,-all",
   "main_language": "python",
   "notebook_metadata_filter": "-all",
   "text_representation": {
    "extension": ".py",
    "format_name": "light"
   }
  },
  "kernelspec": {
   "display_name": "Python 3 (ipykernel)",
   "language": "python",
   "name": "python3"
  },
  "language_info": {
   "codemirror_mode": {
    "name": "ipython",
    "version": 3
   },
   "file_extension": ".py",
   "mimetype": "text/x-python",
   "name": "python",
   "nbconvert_exporter": "python",
   "pygments_lexer": "ipython3",
   "version": "3.10.0"
  },
  "papermill": {
   "duration": 52.60218,
   "end_time": "2023-04-19T01:48:26.594329",
   "exception": null,
   "input_path": "/var/folders/2t/nqb9hcfs07n91h4v5p34slp00000gn/T/tmp83fdheuu.ipynb",
   "output_path": "/Users/macpro/Documents/GitHub/fuel-electric-hybrid-vehicle-ml/notebooks/predict_model.ipynb",
   "parameters": {
    "product": {
     "nb": "/Users/macpro/Documents/GitHub/fuel-electric-hybrid-vehicle-ml/notebooks/predict_model.ipynb"
    }
   },
   "start_time": "2023-04-19T01:47:33.992149"
  }
 },
 "nbformat": 4,
 "nbformat_minor": 5
}