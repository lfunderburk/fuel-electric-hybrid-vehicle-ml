{
 "cells": [
  {
   "cell_type": "code",
   "execution_count": null,
   "metadata": {},
   "outputs": [],
   "source": [
    "import requests\n",
    "import zipfile\n",
    "import io\n",
    "import os\n",
    "import pandas as pd\n",
    "from sqlalchemy.engine import create_engine\n",
    "import openai \n",
    "from dotenv import load_dotenv\n",
    "from IPython.display import display, Markdown\n",
    "from pathlib import Path"
   ]
  },
  {
   "cell_type": "code",
   "execution_count": null,
   "metadata": {},
   "outputs": [],
   "source": [
    "class Prompter:\n",
    "    def __init__(self, gpt_model):\n",
    "        if not os.environ.get(\"OPENAI_API_KEY\"):\n",
    "            raise Exception(\"Please set the OPENAI_API_KEY environment variable\")\n",
    "\n",
    "        openai.api_key = os.environ.get(\"OPENAI_API_KEY\")\n",
    "\n",
    "        self.gpt_model = gpt_model\n",
    "\n",
    "    def prompt_model_print(self, messages: list):\n",
    "        response = openai.ChatCompletion.create(model=self.gpt_model, \n",
    "                                                messages=messages,\n",
    "                                                temperature=0.2)\n",
    "        display(Markdown(response[\"choices\"][0][\"message\"][\"content\"]))\n",
    "    \n",
    "    def prompt_model_return(self, messages: list):\n",
    "        response = openai.ChatCompletion.create(model=self.gpt_model, \n",
    "                                                messages=messages,\n",
    "                                                temperature=0.2)\n",
    "        return response[\"choices\"][0][\"message\"][\"content\"]"
   ]
  },
  {
   "cell_type": "code",
   "execution_count": null,
   "metadata": {},
   "outputs": [],
   "source": [
    "# Get the current working directory\n",
    "current_working_directory = os.getcwd()\n",
    "\n",
    "# +\n",
    "# Convert the current working directory to a Path object\n",
    "script_dir = Path(current_working_directory)\n",
    "\n",
    "\n",
    "predicted_data_path = '/Users/macpro/Documents/GitHub/fuel-electric-hybrid-vehicle-ml/data/predicted-data/vehicle_data_with_clusters.csv'"
   ]
  },
  {
   "cell_type": "code",
   "execution_count": null,
   "metadata": {},
   "outputs": [],
   "source": [
    "engine = create_engine(\"sqlite://\")\n",
    "df = pd.read_csv(predicted_data_path)"
   ]
  },
  {
   "cell_type": "code",
   "execution_count": null,
   "metadata": {},
   "outputs": [],
   "source": [
    "df.columns = df.columns.str.replace('.', '_')\n",
    "\n",
    "# Replace the character '/' with '_per_' all entries\n",
    "df.columns = df.columns.str.replace('/', '_per_')\n",
    "\n",
    "# drop column hybrid_in_fuel\thybrid_in_electric\taggregate_levels\tvehicle_type_cat\n",
    "df = df.drop(['hybrid_in_fuel', 'hybrid_in_electric', 'aggregate_levels','transmission_','fuel_type'], axis=1)"
   ]
  },
  {
   "cell_type": "code",
   "execution_count": null,
   "metadata": {},
   "outputs": [],
   "source": [
    "df.to_sql(\"vehicles\", engine)"
   ]
  },
  {
   "cell_type": "code",
   "execution_count": null,
   "metadata": {},
   "outputs": [],
   "source": [
    "%load_ext sql\n",
    "%sql engine"
   ]
  },
  {
   "cell_type": "code",
   "execution_count": null,
   "metadata": {},
   "outputs": [],
   "source": [
    "%%sql\n",
    "SELECT *\n",
    "FROM vehicles\n",
    "LIMIT 3"
   ]
  },
  {
   "cell_type": "code",
   "execution_count": null,
   "metadata": {},
   "outputs": [],
   "source": [
    "load_dotenv('.env')\n",
    "OPENAI_API_KEY = os.getenv('OPENAI_API_KEY')"
   ]
  },
  {
   "cell_type": "code",
   "execution_count": null,
   "metadata": {},
   "outputs": [],
   "source": [
    "prompter = Prompter(\"gpt-3.5-turbo\")\n"
   ]
  },
  {
   "cell_type": "code",
   "execution_count": null,
   "metadata": {},
   "outputs": [],
   "source": [
    "data_query = \"Show hybrid vehicles\"\n",
    "sample_values = {df.columns[i]: df.values[0][i] for i in range(len(df.columns))}\n",
    "\n",
    "datagen_prompts_2 = [\n",
    "    {\"role\" : \"system\", \"content\" : \"You are a data analyst specializing in SQL, you are presented with a natural language query, and you form queries to answer questions about the data.\"},\n",
    "    {\"role\" : \"user\", \"content\" : f\"Please generate 1 SQL queries for data with columns {', '.join(df.columns)} and sample values {sample_values}. \\\n",
    "                                    The table is called 'vehicles'. Use the natural language query {data_query}\"},\n",
    "]\n",
    "\n",
    "\n",
    "prompter.prompt_model_print(datagen_prompts_2)\n",
    "\n",
    "result1 = prompter.prompt_model_return(datagen_prompts_2)\n",
    "result2 = prompter.prompt_model_return(datagen_prompts_2)"
   ]
  },
  {
   "cell_type": "code",
   "execution_count": null,
   "metadata": {},
   "outputs": [],
   "source": [
    "result1.split(\"\\n\\n\")[0]"
   ]
  },
  {
   "cell_type": "code",
   "execution_count": null,
   "metadata": {},
   "outputs": [],
   "source": [
    "result2.split(\"\\n\\n\")[0]"
   ]
  },
  {
   "cell_type": "code",
   "execution_count": null,
   "metadata": {},
   "outputs": [],
   "source": [
    "%sql {{result1.split(\"\\n\\n\")[0]}}"
   ]
  },
  {
   "cell_type": "code",
   "execution_count": null,
   "metadata": {},
   "outputs": [],
   "source": [
    "%sql {{result2.split(\"\\n\\n\")[0]}}"
   ]
  },
  {
   "cell_type": "code",
   "execution_count": null,
   "metadata": {},
   "outputs": [],
   "source": [
    "df"
   ]
  },
  {
   "cell_type": "code",
   "execution_count": null,
   "metadata": {},
   "outputs": [],
   "source": []
  }
 ],
 "metadata": {
  "kernelspec": {
   "display_name": "mlenv",
   "language": "python",
   "name": "python3"
  },
  "language_info": {
   "codemirror_mode": {
    "name": "ipython",
    "version": 3
   },
   "file_extension": ".py",
   "mimetype": "text/x-python",
   "name": "python",
   "nbconvert_exporter": "python",
   "pygments_lexer": "ipython3",
   "version": "3.10.0"
  },
  "orig_nbformat": 4
 },
 "nbformat": 4,
 "nbformat_minor": 2
}
