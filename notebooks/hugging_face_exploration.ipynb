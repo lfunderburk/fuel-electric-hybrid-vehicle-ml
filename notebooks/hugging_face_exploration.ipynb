{
 "cells": [
  {
   "cell_type": "code",
   "execution_count": null,
   "metadata": {},
   "outputs": [],
   "source": [
    "from typing import List\n",
    "from transformers import AutoTokenizer, AutoModelForSeq2SeqLM\n",
    "\n",
    "tokenizer = AutoTokenizer.from_pretrained(\"juierror/text-to-sql-with-table-schema\")\n",
    "model = AutoModelForSeq2SeqLM.from_pretrained(\"juierror/text-to-sql-with-table-schema\")\n",
    "\n",
    "def prepare_input(question: str, table: List[str]):\n",
    "    table_prefix = \"table:\"\n",
    "    question_prefix = \"question:\"\n",
    "    join_table = \",\".join(table)\n",
    "    inputs = f\"{question_prefix} {question} {table_prefix} {join_table}\"\n",
    "    input_ids = tokenizer(inputs, max_length=700, return_tensors=\"pt\").input_ids\n",
    "    return input_ids\n",
    "\n",
    "def inference(question: str, table: List[str]) -> str:\n",
    "    input_data = prepare_input(question=question, table=table)\n",
    "    input_data = input_data.to(model.device)\n",
    "    outputs = model.generate(inputs=input_data, num_beams=10, top_k=10, max_length=700)\n",
    "    result = tokenizer.decode(token_ids=outputs[0], skip_special_tokens=True)\n",
    "    return result\n",
    "\n",
    "print(inference(question=\"get people name with age equal 25\", table=[\"id\", \"name\", \"age\"]))"
   ]
  },
  {
   "cell_type": "code",
   "execution_count": null,
   "metadata": {},
   "outputs": [],
   "source": [
    "import pandas as pd\n",
    "from sqlalchemy.engine import create_engine"
   ]
  },
  {
   "cell_type": "code",
   "execution_count": null,
   "metadata": {},
   "outputs": [],
   "source": [
    "predicted_data_path = '/Users/macpro/Documents/GitHub/fuel-electric-hybrid-vehicle-ml/data/predicted-data/vehicle_data_with_clusters.csv'\n",
    "\n",
    "df = pd.read_csv(predicted_data_path)\n",
    "\n",
    "df.columns = df.columns.str.replace('.', '_')\n",
    "\n",
    "# Replace the character '/' with '_per_' all entries\n",
    "df.columns = df.columns.str.replace('/', '_per_')\n",
    "\n",
    "# drop column hybrid_in_fuel\thybrid_in_electric\taggregate_levels\tvehicle_type_cat\n",
    "df = df.drop(['hybrid_in_fuel', 'hybrid_in_electric', 'aggregate_levels','transmission_','fuel_type'], axis=1)"
   ]
  },
  {
   "cell_type": "code",
   "execution_count": null,
   "metadata": {},
   "outputs": [],
   "source": [
    "engine = create_engine(\"sqlite://\")\n",
    "df = pd.read_csv(predicted_data_path)"
   ]
  },
  {
   "cell_type": "code",
   "execution_count": null,
   "metadata": {},
   "outputs": [],
   "source": [
    "df.columns"
   ]
  },
  {
   "cell_type": "code",
   "execution_count": null,
   "metadata": {},
   "outputs": [],
   "source": [
    "print(inference(question=\"Show me hybrid car models\", table=df.columns))"
   ]
  },
  {
   "cell_type": "code",
   "execution_count": null,
   "metadata": {},
   "outputs": [],
   "source": [
    "%load_ext sql\n",
    "%sql engine"
   ]
  }
 ],
 "metadata": {
  "kernelspec": {
   "display_name": "mlenv",
   "language": "python",
   "name": "python3"
  },
  "language_info": {
   "codemirror_mode": {
    "name": "ipython",
    "version": 3
   },
   "file_extension": ".py",
   "mimetype": "text/x-python",
   "name": "python",
   "nbconvert_exporter": "python",
   "pygments_lexer": "ipython3",
   "version": "3.10.0"
  },
  "orig_nbformat": 4
 },
 "nbformat": 4,
 "nbformat_minor": 2
}
