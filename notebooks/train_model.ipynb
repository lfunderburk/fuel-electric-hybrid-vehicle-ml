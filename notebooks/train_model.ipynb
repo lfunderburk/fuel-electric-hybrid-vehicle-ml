{
 "cells": [
  {
   "cell_type": "code",
   "execution_count": 1,
   "id": "db27cc73",
   "metadata": {
    "execution": {
     "iopub.execute_input": "2023-04-19T03:25:30.274834Z",
     "iopub.status.busy": "2023-04-19T03:25:30.274595Z",
     "iopub.status.idle": "2023-04-19T03:25:30.279816Z",
     "shell.execute_reply": "2023-04-19T03:25:30.279488Z"
    },
    "lines_to_next_cell": 2,
    "papermill": {
     "duration": 0.009201,
     "end_time": "2023-04-19T03:25:30.281083",
     "exception": false,
     "start_time": "2023-04-19T03:25:30.271882",
     "status": "completed"
    },
    "tags": [
     "parameters"
    ]
   },
   "outputs": [],
   "source": [
    "# declare a list tasks whose products you want to use as inputs\n",
    "upstream = None"
   ]
  },
  {
   "cell_type": "code",
   "execution_count": 2,
   "id": "0688c8ea",
   "metadata": {
    "execution": {
     "iopub.execute_input": "2023-04-19T03:25:30.284826Z",
     "iopub.status.busy": "2023-04-19T03:25:30.284635Z",
     "iopub.status.idle": "2023-04-19T03:25:30.286934Z",
     "shell.execute_reply": "2023-04-19T03:25:30.286578Z"
    },
    "papermill": {
     "duration": 0.005647,
     "end_time": "2023-04-19T03:25:30.288180",
     "exception": false,
     "start_time": "2023-04-19T03:25:30.282533",
     "status": "completed"
    },
    "tags": [
     "injected-parameters"
    ]
   },
   "outputs": [],
   "source": [
    "# Parameters\n",
    "product = {\n",
    "    \"nb\": \"/Users/macpro/Documents/GitHub/fuel-electric-hybrid-vehicle-ml/notebooks/train_model.ipynb\",\n",
    "    \"model\": \"/Users/macpro/Documents/GitHub/fuel-electric-hybrid-vehicle-ml/models/hard_voting_classifier_co2_fuel.pkl\",\n",
    "}\n"
   ]
  },
  {
   "cell_type": "code",
   "execution_count": 3,
   "id": "ec3e86a1",
   "metadata": {
    "execution": {
     "iopub.execute_input": "2023-04-19T03:25:30.292579Z",
     "iopub.status.busy": "2023-04-19T03:25:30.291649Z",
     "iopub.status.idle": "2023-04-19T03:25:31.654659Z",
     "shell.execute_reply": "2023-04-19T03:25:31.654218Z"
    },
    "papermill": {
     "duration": 1.367048,
     "end_time": "2023-04-19T03:25:31.656507",
     "exception": false,
     "start_time": "2023-04-19T03:25:30.289459",
     "status": "completed"
    },
    "tags": []
   },
   "outputs": [],
   "source": [
    "import pandas as pd\n",
    "import sys, os\n",
    "from dotenv import load_dotenv\n",
    "from pathlib import Path\n",
    "from sklearn.pipeline import Pipeline\n",
    "from sklearn.model_selection import GridSearchCV, train_test_split\n",
    "from sklearn.metrics import confusion_matrix, \\\n",
    "                            classification_report, \\\n",
    "                            accuracy_score,\\\n",
    "                            balanced_accuracy_score,\\\n",
    "                            ConfusionMatrixDisplay\n",
    "from sklearn.metrics import DetCurveDisplay, RocCurveDisplay\n",
    "from sklearn.ensemble import VotingClassifier, RandomForestClassifier\n",
    "from sklearn.neighbors import KNeighborsClassifier\n",
    "from sklearn.svm import SVC\n",
    "import matplotlib.pyplot as plt\n",
    "from imblearn.over_sampling import SMOTE\n",
    "import joblib\n",
    "import utils"
   ]
  },
  {
   "cell_type": "markdown",
   "id": "fd346424",
   "metadata": {
    "papermill": {
     "duration": 0.001405,
     "end_time": "2023-04-19T03:25:31.659735",
     "exception": false,
     "start_time": "2023-04-19T03:25:31.658330",
     "status": "completed"
    },
    "tags": []
   },
   "source": [
    "TO DO: follow this tutorial to complete both smog and co2 ratings https://machinelearningmastery.com/knn-imputation-for-missing-values-in-machine-learning/"
   ]
  },
  {
   "cell_type": "code",
   "execution_count": 4,
   "id": "c1a96f40",
   "metadata": {
    "execution": {
     "iopub.execute_input": "2023-04-19T03:25:31.663742Z",
     "iopub.status.busy": "2023-04-19T03:25:31.663258Z",
     "iopub.status.idle": "2023-04-19T03:25:31.668317Z",
     "shell.execute_reply": "2023-04-19T03:25:31.667907Z"
    },
    "lines_to_next_cell": 1,
    "papermill": {
     "duration": 0.008641,
     "end_time": "2023-04-19T03:25:31.669556",
     "exception": false,
     "start_time": "2023-04-19T03:25:31.660915",
     "status": "completed"
    },
    "tags": []
   },
   "outputs": [],
   "source": [
    "def train_and_evaluate_model(X_train, y_train, X_test, y_test, model_pipeline, model_name):\n",
    "    \"\"\"\n",
    "    This function trains and evaluates model, and generates confusion matrix, classification report, and accuracy score\n",
    "    Parameters:\n",
    "    ----------\n",
    "        X_train\n",
    "        y_train\n",
    "        X_test\n",
    "        y_test\n",
    "        model_pipeline\n",
    "        model_name\n",
    "    Returns:\n",
    "    -------\n",
    "        None\n",
    "    \"\"\"\n",
    "    \n",
    "    model_pipeline.fit(X_train, y_train.values.ravel())\n",
    "\n",
    "\n",
    "    # Predict\n",
    "    y_pred = model_pipeline.predict(X_test)\n",
    "    \n",
    "    # Obtain accuracy score\n",
    "    acc = accuracy_score(y_test, y_pred)\n",
    "    print('accuracy is',accuracy_score(y_pred,y_test))\n",
    "    \n",
    "    score_train = model_pipeline.score(X_train, y_train)\n",
    "    score_test = model_pipeline.score(X_test, y_test)\n",
    "    print('score for training set', score_train, 'score for testing set', score_test)\n",
    "    balanced_accuracy = balanced_accuracy_score(y_test, y_pred)\n",
    "    print(\"Balanced accuracy score\", balanced_accuracy)\n",
    "    \n",
    "    report = classification_report(y_test, y_pred)\n",
    "    \n",
    "    fig, ax = plt.subplots(figsize=(10, 5))\n",
    "    ConfusionMatrixDisplay.from_predictions(y_test, y_pred, ax=ax)\n",
    "    _ = ax.set_title(\n",
    "        f\"Confusion Matrix for {model_name}\"\n",
    "    )\n",
    "    \n",
    "    # save image to file\n",
    "    fig.savefig(f\"./reports/{model_name}_confusion_matrix.png\")\n",
    "    \n",
    "    print(report, sep=',')"
   ]
  },
  {
   "cell_type": "code",
   "execution_count": 5,
   "id": "37dbaab9",
   "metadata": {
    "execution": {
     "iopub.execute_input": "2023-04-19T03:25:31.673047Z",
     "iopub.status.busy": "2023-04-19T03:25:31.672803Z",
     "iopub.status.idle": "2023-04-19T03:25:31.676857Z",
     "shell.execute_reply": "2023-04-19T03:25:31.676442Z"
    },
    "papermill": {
     "duration": 0.007171,
     "end_time": "2023-04-19T03:25:31.678085",
     "exception": false,
     "start_time": "2023-04-19T03:25:31.670914",
     "status": "completed"
    },
    "tags": []
   },
   "outputs": [],
   "source": [
    "def classify_grid_search_cv_tuning(model, parameters, X_train, X_test, y_train, y_test, n_folds = 5, scoring='accuracy'):\n",
    "    \"\"\"\n",
    "    This function tunes GridSearchCV model\n",
    "    \n",
    "    Parameters:\n",
    "    ----------\n",
    "        model\n",
    "        parameters\n",
    "        X_train\n",
    "        X_test\n",
    "        y_train\n",
    "        y_test\n",
    "        n_folds\n",
    "        scoring\n",
    "        \n",
    "    Returns:\n",
    "    --------\n",
    "        best_model\n",
    "        best_score\n",
    "    \"\"\"\n",
    "    # Set up and fit model\n",
    "    tune_model = GridSearchCV(model, param_grid=parameters, cv=n_folds, scoring=scoring)\n",
    "    tune_model.fit(X_train, y_train.values.ravel())\n",
    "    \n",
    "    best_model = tune_model.best_estimator_\n",
    "    best_score = tune_model.best_score_\n",
    "    y_pred = best_model.predict(X_test)\n",
    "    \n",
    "    # Printing results\n",
    "    print(\"Best parameters:\", tune_model.best_params_)\n",
    "    print(\"Cross-validated accuracy score on training data: {:0.4f}\".format(tune_model.best_score_))\n",
    "    print()\n",
    "\n",
    "    print(classification_report(y_test, y_pred))\n",
    "    \n",
    "    return best_model, best_score"
   ]
  },
  {
   "cell_type": "code",
   "execution_count": null,
   "id": "e459305c",
   "metadata": {
    "papermill": {
     "duration": null,
     "end_time": null,
     "exception": false,
     "start_time": "2023-04-19T03:25:31.679384",
     "status": "running"
    },
    "tags": []
   },
   "outputs": [],
   "source": [
    "if __name__==\"__main__\":\n",
    "\n",
    "    load_dotenv()  # load environment variables from .env file\n",
    "    PROJECT_DIR = os.getenv('PROJECT_DIR')\n",
    "\n",
    "\n",
    "    # Variable initialization\n",
    "    raw_data_path = os.path.join(PROJECT_DIR, 'data', 'raw')\n",
    "    clean_data_path = os.path.join(PROJECT_DIR, 'data', 'processed')\n",
    "    predicted_data_path = os.path.join(PROJECT_DIR, 'data', 'predicted-data')\n",
    "    model = os.path.join(PROJECT_DIR, 'models', 'hard_voting_classifier_co2_fuel.pkl')\n",
    "\n",
    "\n",
    "    # Read data\n",
    "    fuel_df, electric_df, hybrid_df = utils.read_data(clean_data_path)\n",
    "    non_na_rating_class, na_rating_class = utils.remove_missing_values(fuel_df, drop_smog=False)\n",
    "    \n",
    "    # Set X and Y variables \n",
    "    # Response variable\n",
    "    Y = non_na_rating_class[['co2_rating']]\n",
    "\n",
    "    # Dependent variables\n",
    "    X = non_na_rating_class[utils.var_list]\n",
    "\n",
    "    # Split data\n",
    "    X_train, X_test, y_train, y_test = train_test_split(X, Y, test_size=0.2, random_state=42)\n",
    "    \n",
    "    \n",
    "    # Set up pipeline\n",
    "    # Set up parameters for the model - numerical and categorical\n",
    "    numeric_features =  utils.numeric_features\n",
    "    categorical_features = utils.categorical_features\n",
    "\n",
    "    # Use smote to balance the data\n",
    "    smote = SMOTE(random_state=42)\n",
    "    X_train, y_train = smote.fit_resample(X_train[numeric_features], y_train)\n",
    "\n",
    "    # Set up preprocessor\n",
    "    preprocessor = utils.preprocessor\n",
    "\n",
    "    # Set up model pipeline\n",
    "    clf1 = KNeighborsClassifier(3,)\n",
    "    clf2 = SVC(gamma=2, C=1, random_state=42)\n",
    "    clf3 = RandomForestClassifier(max_depth=100, n_estimators=10, max_features=1, random_state=42)\n",
    "\n",
    "    classifiers = {\"KNN\": clf1, \n",
    "                   \"SVM\": clf2,\n",
    "                   \"RFC\": clf3\n",
    "                }\n",
    "\n",
    "    eclf1 = VotingClassifier(estimators=[('knn', clf1), ('svm', clf2), ('dt', clf3)], voting='hard')\n",
    "    model = Pipeline(\n",
    "            steps=[(\"preprocessor\", preprocessor), \n",
    "                    (\"hard Voting\", eclf1 )] #colsample  by tree, n estimators, max depth\n",
    "                                                                        )\n",
    "    train_and_evaluate_model(X_train, y_train, X_test, y_test, model,\"Voting\")\n",
    "\n",
    "    params = {}\n",
    "    best_dtc, dtc_score = classify_grid_search_cv_tuning(model, params, X_train, X_test, y_train, y_test, n_folds=10, scoring='balanced_accuracy')\n",
    "\n",
    "    # Save model\n",
    "    joblib.dump(best_dtc, model)"
   ]
  }
 ],
 "metadata": {
  "jupytext": {
   "cell_metadata_filter": "tags,-all",
   "main_language": "python",
   "notebook_metadata_filter": "-all",
   "text_representation": {
    "extension": ".py",
    "format_name": "light"
   }
  },
  "kernelspec": {
   "display_name": "Python 3 (ipykernel)",
   "language": "python",
   "name": "python3"
  },
  "papermill": {
   "duration": null,
   "end_time": null,
   "exception": null,
   "input_path": "/var/folders/2t/nqb9hcfs07n91h4v5p34slp00000gn/T/tmpbjew16xp.ipynb",
   "output_path": "/Users/macpro/Documents/GitHub/fuel-electric-hybrid-vehicle-ml/notebooks/train_model.ipynb",
   "parameters": {
    "product": {
     "model": "/Users/macpro/Documents/GitHub/fuel-electric-hybrid-vehicle-ml/models/hard_voting_classifier_co2_fuel.pkl",
     "nb": "/Users/macpro/Documents/GitHub/fuel-electric-hybrid-vehicle-ml/notebooks/train_model.ipynb"
    }
   },
   "start_time": "2023-04-19T03:25:29.179446"
  }
 },
 "nbformat": 4,
 "nbformat_minor": 5
}