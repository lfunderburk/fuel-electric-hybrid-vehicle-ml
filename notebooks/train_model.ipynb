{
 "cells": [
  {
   "cell_type": "code",
   "execution_count": 1,
   "id": "55ef8deb",
   "metadata": {
    "execution": {
     "iopub.execute_input": "2023-04-19T01:46:59.952347Z",
     "iopub.status.busy": "2023-04-19T01:46:59.951150Z",
     "iopub.status.idle": "2023-04-19T01:46:59.969478Z",
     "shell.execute_reply": "2023-04-19T01:46:59.968241Z"
    },
    "lines_to_next_cell": 2,
    "papermill": {
     "duration": 0.030807,
     "end_time": "2023-04-19T01:46:59.973296",
     "exception": false,
     "start_time": "2023-04-19T01:46:59.942489",
     "status": "completed"
    },
    "tags": [
     "parameters"
    ]
   },
   "outputs": [],
   "source": [
    "# declare a list tasks whose products you want to use as inputs\n",
    "upstream = None"
   ]
  },
  {
   "cell_type": "code",
   "execution_count": 2,
   "id": "0c859249",
   "metadata": {
    "execution": {
     "iopub.execute_input": "2023-04-19T01:46:59.984744Z",
     "iopub.status.busy": "2023-04-19T01:46:59.984281Z",
     "iopub.status.idle": "2023-04-19T01:46:59.989667Z",
     "shell.execute_reply": "2023-04-19T01:46:59.988526Z"
    },
    "papermill": {
     "duration": 0.015117,
     "end_time": "2023-04-19T01:46:59.992802",
     "exception": false,
     "start_time": "2023-04-19T01:46:59.977685",
     "status": "completed"
    },
    "tags": [
     "injected-parameters"
    ]
   },
   "outputs": [],
   "source": [
    "# Parameters\n",
    "product = {\n",
    "    \"nb\": \"/Users/macpro/Documents/GitHub/fuel-electric-hybrid-vehicle-ml/notebooks/train_model.ipynb\",\n",
    "    \"model\": \"/Users/macpro/Documents/GitHub/fuel-electric-hybrid-vehicle-ml/models/hard_voting_classifier_co2_fuel.pkl\",\n",
    "}\n"
   ]
  },
  {
   "cell_type": "code",
   "execution_count": 3,
   "id": "3f7d6970",
   "metadata": {
    "execution": {
     "iopub.execute_input": "2023-04-19T01:47:00.000534Z",
     "iopub.status.busy": "2023-04-19T01:46:59.999948Z",
     "iopub.status.idle": "2023-04-19T01:47:01.289458Z",
     "shell.execute_reply": "2023-04-19T01:47:01.289057Z"
    },
    "papermill": {
     "duration": 1.296657,
     "end_time": "2023-04-19T01:47:01.292164",
     "exception": false,
     "start_time": "2023-04-19T01:46:59.995507",
     "status": "completed"
    },
    "tags": []
   },
   "outputs": [],
   "source": [
    "import pandas as pd\n",
    "import sys, os\n",
    "from pathlib import Path\n",
    "from sklearn.pipeline import Pipeline\n",
    "from sklearn.model_selection import GridSearchCV, train_test_split\n",
    "from sklearn.metrics import confusion_matrix, \\\n",
    "                            classification_report, \\\n",
    "                            accuracy_score,\\\n",
    "                            balanced_accuracy_score,\\\n",
    "                            ConfusionMatrixDisplay\n",
    "from sklearn.metrics import DetCurveDisplay, RocCurveDisplay\n",
    "from sklearn.ensemble import VotingClassifier, RandomForestClassifier\n",
    "from sklearn.neighbors import KNeighborsClassifier\n",
    "from sklearn.svm import SVC\n",
    "import matplotlib.pyplot as plt\n",
    "from imblearn.over_sampling import SMOTE\n",
    "import joblib\n",
    "import utils"
   ]
  },
  {
   "cell_type": "markdown",
   "id": "162880e9",
   "metadata": {
    "papermill": {
     "duration": 0.003131,
     "end_time": "2023-04-19T01:47:01.297859",
     "exception": false,
     "start_time": "2023-04-19T01:47:01.294728",
     "status": "completed"
    },
    "tags": []
   },
   "source": [
    "TO DO: follow this tutorial to complete both smog and co2 ratings https://machinelearningmastery.com/knn-imputation-for-missing-values-in-machine-learning/"
   ]
  },
  {
   "cell_type": "code",
   "execution_count": 4,
   "id": "a011846c",
   "metadata": {
    "execution": {
     "iopub.execute_input": "2023-04-19T01:47:01.302425Z",
     "iopub.status.busy": "2023-04-19T01:47:01.302137Z",
     "iopub.status.idle": "2023-04-19T01:47:01.307280Z",
     "shell.execute_reply": "2023-04-19T01:47:01.306803Z"
    },
    "lines_to_next_cell": 1,
    "papermill": {
     "duration": 0.009761,
     "end_time": "2023-04-19T01:47:01.309351",
     "exception": false,
     "start_time": "2023-04-19T01:47:01.299590",
     "status": "completed"
    },
    "tags": []
   },
   "outputs": [],
   "source": [
    "def train_and_evaluate_model(X_train, y_train, X_test, y_test, model_pipeline, model_name):\n",
    "    \"\"\"\n",
    "    This function trains and evaluates model, and generates confusion matrix, classification report, and accuracy score\n",
    "    Parameters:\n",
    "    ----------\n",
    "        X_train\n",
    "        y_train\n",
    "        X_test\n",
    "        y_test\n",
    "        model_pipeline\n",
    "        model_name\n",
    "    Returns:\n",
    "    -------\n",
    "        None\n",
    "    \"\"\"\n",
    "    \n",
    "    model_pipeline.fit(X_train, y_train.values.ravel())\n",
    "\n",
    "\n",
    "    # Predict\n",
    "    y_pred = model_pipeline.predict(X_test)\n",
    "    \n",
    "    # Obtain accuracy score\n",
    "    acc = accuracy_score(y_test, y_pred)\n",
    "    print('accuracy is',accuracy_score(y_pred,y_test))\n",
    "    \n",
    "    score_train = model_pipeline.score(X_train, y_train)\n",
    "    score_test = model_pipeline.score(X_test, y_test)\n",
    "    print('score for training set', score_train, 'score for testing set', score_test)\n",
    "    balanced_accuracy = balanced_accuracy_score(y_test, y_pred)\n",
    "    print(\"Balanced accuracy score\", balanced_accuracy)\n",
    "    \n",
    "    report = classification_report(y_test, y_pred)\n",
    "    \n",
    "    fig, ax = plt.subplots(figsize=(10, 5))\n",
    "    ConfusionMatrixDisplay.from_predictions(y_test, y_pred, ax=ax)\n",
    "    _ = ax.set_title(\n",
    "        f\"Confusion Matrix for {model_name}\"\n",
    "    )\n",
    "    \n",
    "    # save image to file\n",
    "    fig.savefig(f\"./reports/{model_name}_confusion_matrix.png\")\n",
    "    \n",
    "    print(report, sep=',')"
   ]
  },
  {
   "cell_type": "code",
   "execution_count": 5,
   "id": "c9a299dc",
   "metadata": {
    "execution": {
     "iopub.execute_input": "2023-04-19T01:47:01.313364Z",
     "iopub.status.busy": "2023-04-19T01:47:01.313165Z",
     "iopub.status.idle": "2023-04-19T01:47:01.316649Z",
     "shell.execute_reply": "2023-04-19T01:47:01.316262Z"
    },
    "papermill": {
     "duration": 0.00708,
     "end_time": "2023-04-19T01:47:01.317910",
     "exception": false,
     "start_time": "2023-04-19T01:47:01.310830",
     "status": "completed"
    },
    "tags": []
   },
   "outputs": [],
   "source": [
    "def classify_grid_search_cv_tuning(model, parameters, X_train, X_test, y_train, y_test, n_folds = 5, scoring='accuracy'):\n",
    "    \"\"\"\n",
    "    This function tunes GridSearchCV model\n",
    "    \n",
    "    Parameters:\n",
    "    ----------\n",
    "        model\n",
    "        parameters\n",
    "        X_train\n",
    "        X_test\n",
    "        y_train\n",
    "        y_test\n",
    "        n_folds\n",
    "        scoring\n",
    "        \n",
    "    Returns:\n",
    "    --------\n",
    "        best_model\n",
    "        best_score\n",
    "    \"\"\"\n",
    "    # Set up and fit model\n",
    "    tune_model = GridSearchCV(model, param_grid=parameters, cv=n_folds, scoring=scoring)\n",
    "    tune_model.fit(X_train, y_train.values.ravel())\n",
    "    \n",
    "    best_model = tune_model.best_estimator_\n",
    "    best_score = tune_model.best_score_\n",
    "    y_pred = best_model.predict(X_test)\n",
    "    \n",
    "    # Printing results\n",
    "    print(\"Best parameters:\", tune_model.best_params_)\n",
    "    print(\"Cross-validated accuracy score on training data: {:0.4f}\".format(tune_model.best_score_))\n",
    "    print()\n",
    "\n",
    "    print(classification_report(y_test, y_pred))\n",
    "    \n",
    "    return best_model, best_score"
   ]
  },
  {
   "cell_type": "code",
   "execution_count": 6,
   "id": "8d5ed42f",
   "metadata": {
    "execution": {
     "iopub.execute_input": "2023-04-19T01:47:01.321430Z",
     "iopub.status.busy": "2023-04-19T01:47:01.321236Z",
     "iopub.status.idle": "2023-04-19T01:47:33.542004Z",
     "shell.execute_reply": "2023-04-19T01:47:33.541317Z"
    },
    "papermill": {
     "duration": 32.22539,
     "end_time": "2023-04-19T01:47:33.544706",
     "exception": false,
     "start_time": "2023-04-19T01:47:01.319316",
     "status": "completed"
    },
    "tags": []
   },
   "outputs": [
    {
     "name": "stdout",
     "output_type": "stream",
     "text": [
      "accuracy is 0.9495955196017424\n"
     ]
    },
    {
     "name": "stdout",
     "output_type": "stream",
     "text": [
      "score for training set 0.9947121034077556 score for testing set 0.9495955196017424\n",
      "Balanced accuracy score 0.9261658848413624\n",
      "              precision    recall  f1-score   support\n",
      "\n",
      "           1       1.00      0.92      0.96        25\n",
      "           2       0.93      0.99      0.96        82\n",
      "           3       0.96      0.95      0.96       263\n",
      "           4       0.96      0.95      0.95       375\n",
      "           5       0.96      0.96      0.96       455\n",
      "           6       0.93      0.94      0.93       198\n",
      "           7       0.94      0.94      0.94       139\n",
      "           8       0.90      0.78      0.84        36\n",
      "           9       0.86      0.90      0.88        21\n",
      "          10       1.00      0.92      0.96        13\n",
      "\n",
      "    accuracy                           0.95      1607\n",
      "   macro avg       0.94      0.93      0.93      1607\n",
      "weighted avg       0.95      0.95      0.95      1607\n",
      "\n"
     ]
    },
    {
     "name": "stdout",
     "output_type": "stream",
     "text": [
      "Best parameters: {}\n",
      "Cross-validated accuracy score on training data: 0.9833\n",
      "\n",
      "              precision    recall  f1-score   support\n",
      "\n",
      "           1       1.00      0.92      0.96        25\n",
      "           2       0.93      0.99      0.96        82\n",
      "           3       0.96      0.95      0.96       263\n",
      "           4       0.96      0.95      0.95       375\n",
      "           5       0.96      0.96      0.96       455\n",
      "           6       0.93      0.94      0.93       198\n",
      "           7       0.94      0.94      0.94       139\n",
      "           8       0.90      0.78      0.84        36\n",
      "           9       0.86      0.90      0.88        21\n",
      "          10       1.00      0.92      0.96        13\n",
      "\n",
      "    accuracy                           0.95      1607\n",
      "   macro avg       0.94      0.93      0.93      1607\n",
      "weighted avg       0.95      0.95      0.95      1607\n",
      "\n"
     ]
    },
    {
     "data": {
      "image/png": "[encoded data removed]",
      "text/plain": [
       "<Figure size 1000x500 with 2 Axes>"
      ]
     },
     "metadata": {},
     "output_type": "display_data"
    }
   ],
   "source": [
    "if __name__==\"__main__\":\n",
    "\n",
    "    # Set up paths\n",
    "    sys.path.append(os.path.abspath(os.path.join('./data/', './processed/')))\n",
    "    sys.path.append(os.path.abspath(os.path.join('./models/')))\n",
    "\n",
    "\n",
    "    # Read data\n",
    "    fuel_df, electric_df, hybrid_df = utils.read_data(\"./data/processed/\")\n",
    "    non_na_rating_class, na_rating_class = utils.remove_missing_values(fuel_df, drop_smog=False)\n",
    "    \n",
    "    # Set X and Y variables \n",
    "    # Response variable\n",
    "    Y = non_na_rating_class[['co2_rating']]\n",
    "\n",
    "    # Dependent variables\n",
    "    X = non_na_rating_class[utils.var_list]\n",
    "\n",
    "    # Split data\n",
    "    X_train, X_test, y_train, y_test = train_test_split(X, Y, test_size=0.2, random_state=42)\n",
    "    \n",
    "    \n",
    "    # Set up pipeline\n",
    "    # Set up parameters for the model - numerical and categorical\n",
    "    numeric_features =  utils.numeric_features\n",
    "    categorical_features = utils.categorical_features\n",
    "\n",
    "    # Use smote to balance the data\n",
    "    smote = SMOTE(random_state=42)\n",
    "    X_train, y_train = smote.fit_resample(X_train[numeric_features], y_train)\n",
    "\n",
    "    # Set up preprocessor\n",
    "    preprocessor = utils.preprocessor\n",
    "\n",
    "    # Set up model pipeline\n",
    "    clf1 = KNeighborsClassifier(3,)\n",
    "    clf2 = SVC(gamma=2, C=1, random_state=42)\n",
    "    clf3 = RandomForestClassifier(max_depth=100, n_estimators=10, max_features=1, random_state=42)\n",
    "\n",
    "    classifiers = {\"KNN\": clf1, \n",
    "                   \"SVM\": clf2,\n",
    "                   \"RFC\": clf3\n",
    "                }\n",
    "\n",
    "    eclf1 = VotingClassifier(estimators=[('knn', clf1), ('svm', clf2), ('dt', clf3)], voting='hard')\n",
    "    model = Pipeline(\n",
    "            steps=[(\"preprocessor\", preprocessor), \n",
    "                    (\"hard Voting\", eclf1 )] #colsample  by tree, n estimators, max depth\n",
    "                                                                        )\n",
    "    train_and_evaluate_model(X_train, y_train, X_test, y_test, model,\"Voting\")\n",
    "\n",
    "    params = {}\n",
    "    best_dtc, dtc_score = classify_grid_search_cv_tuning(model, params, X_train, X_test, y_train, y_test, n_folds=10, scoring='balanced_accuracy')\n",
    "\n",
    "    # Save model\n",
    "    joblib.dump(best_dtc, './models/hard_voting_classifier_co2_fuel.pkl')"
   ]
  }
 ],
 "metadata": {
  "jupytext": {
   "cell_metadata_filter": "tags,-all",
   "main_language": "python",
   "notebook_metadata_filter": "-all",
   "text_representation": {
    "extension": ".py",
    "format_name": "light"
   }
  },
  "kernelspec": {
   "display_name": "Python 3 (ipykernel)",
   "language": "python",
   "name": "python3"
  },
  "language_info": {
   "codemirror_mode": {
    "name": "ipython",
    "version": 3
   },
   "file_extension": ".py",
   "mimetype": "text/x-python",
   "name": "python",
   "nbconvert_exporter": "python",
   "pygments_lexer": "ipython3",
   "version": "3.10.0"
  },
  "papermill": {
   "duration": 35.130028,
   "end_time": "2023-04-19T01:47:33.972987",
   "exception": null,
   "input_path": "/var/folders/2t/nqb9hcfs07n91h4v5p34slp00000gn/T/tmpclicsiwt.ipynb",
   "output_path": "/Users/macpro/Documents/GitHub/fuel-electric-hybrid-vehicle-ml/notebooks/train_model.ipynb",
   "parameters": {
    "product": {
     "model": "/Users/macpro/Documents/GitHub/fuel-electric-hybrid-vehicle-ml/models/hard_voting_classifier_co2_fuel.pkl",
     "nb": "/Users/macpro/Documents/GitHub/fuel-electric-hybrid-vehicle-ml/notebooks/train_model.ipynb"
    }
   },
   "start_time": "2023-04-19T01:46:58.842959"
  }
 },
 "nbformat": 4,
 "nbformat_minor": 5
}