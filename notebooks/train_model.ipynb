{
 "cells": [
  {
   "cell_type": "code",
   "execution_count": 1,
   "id": "f8e9a8cd",
   "metadata": {
    "execution": {
     "iopub.execute_input": "2023-04-26T03:50:32.511730Z",
     "iopub.status.busy": "2023-04-26T03:50:32.511474Z",
     "iopub.status.idle": "2023-04-26T03:50:33.883467Z",
     "shell.execute_reply": "2023-04-26T03:50:33.883048Z"
    },
    "lines_to_next_cell": 1,
    "papermill": {
     "duration": 1.376304,
     "end_time": "2023-04-26T03:50:33.884987",
     "exception": false,
     "start_time": "2023-04-26T03:50:32.508683",
     "status": "completed"
    },
    "tags": [
     "parameters"
    ]
   },
   "outputs": [],
   "source": [
    "# declare a list tasks whose products you want to use as inputs\n",
    "upstream = None\n",
    "import os\n",
    "from pathlib import Path\n",
    "from sklearn.pipeline import Pipeline\n",
    "from sklearn.model_selection import GridSearchCV, train_test_split\n",
    "from sklearn.metrics import confusion_matrix, \\\n",
    "                            classification_report, \\\n",
    "                            accuracy_score,\\\n",
    "                            balanced_accuracy_score,\\\n",
    "                            ConfusionMatrixDisplay,\\\n",
    "                            RocCurveDisplay, DetCurveDisplay\n",
    "#from sklearn.metrics import DetCurveDisplay, RocCurveDisplay\n",
    "from sklearn.ensemble import VotingClassifier, RandomForestClassifier\n",
    "from sklearn.neighbors import KNeighborsClassifier\n",
    "from sklearn.svm import SVC\n",
    "import matplotlib.pyplot as plt\n",
    "from imblearn.over_sampling import SMOTE\n",
    "import joblib\n",
    "from utils import read_data, remove_missing_values, var_list, numeric_features,\\\n",
    "                    preprocessor, categorical_features, categorical_transformer, numeric_transformer\n",
    "\n",
    "\n",
    "# Get the current working directory\n",
    "current_working_directory = os.getcwd()\n",
    "\n",
    "# Convert the current working directory to a Path object\n",
    "script_dir = Path(current_working_directory)\n",
    "\n",
    "def train_and_evaluate_model(X_train, y_train, X_test, y_test, model_pipeline, model_name):\n",
    "    \"\"\"\n",
    "    This function trains and evaluates model, and generates confusion matrix, classification report, and accuracy score\n",
    "    Parameters:\n",
    "    ----------\n",
    "        X_train\n",
    "        y_train\n",
    "        X_test\n",
    "        y_test\n",
    "        model_pipeline\n",
    "        model_name\n",
    "    Returns:\n",
    "    -------\n",
    "        None\n",
    "    \"\"\"\n",
    "    \n",
    "    model_pipeline.fit(X_train, y_train.values.ravel())\n",
    "\n",
    "\n",
    "    # Predict\n",
    "    y_pred = model_pipeline.predict(X_test)\n",
    "    \n",
    "    # Obtain accuracy score\n",
    "    acc = accuracy_score(y_test, y_pred)\n",
    "    print('accuracy is',accuracy_score(y_pred,y_test))\n",
    "    \n",
    "    score_train = model_pipeline.score(X_train, y_train)\n",
    "    score_test = model_pipeline.score(X_test, y_test)\n",
    "    print('score for training set', score_train, 'score for testing set', score_test)\n",
    "    balanced_accuracy = balanced_accuracy_score(y_test, y_pred)\n",
    "    print(\"Balanced accuracy score\", balanced_accuracy)\n",
    "    \n",
    "    report = classification_report(y_test, y_pred)\n",
    "\n",
    "    \n",
    "    fig, ax = plt.subplots(figsize=(10, 5))\n",
    "    ConfusionMatrixDisplay.from_predictions(y_test, y_pred, ax=ax)\n",
    "    _ = ax.set_title(\n",
    "        f\"Confusion Matrix for {model_name}\"\n",
    "    )\n",
    "    \n",
    "    return fig, report, score_train, score_test, balanced_accuracy"
   ]
  },
  {
   "cell_type": "code",
   "execution_count": 2,
   "id": "953cf95f",
   "metadata": {
    "execution": {
     "iopub.execute_input": "2023-04-26T03:50:33.893169Z",
     "iopub.status.busy": "2023-04-26T03:50:33.892851Z",
     "iopub.status.idle": "2023-04-26T03:50:33.895646Z",
     "shell.execute_reply": "2023-04-26T03:50:33.895204Z"
    },
    "papermill": {
     "duration": 0.00734,
     "end_time": "2023-04-26T03:50:33.896968",
     "exception": false,
     "start_time": "2023-04-26T03:50:33.889628",
     "status": "completed"
    },
    "tags": [
     "injected-parameters"
    ]
   },
   "outputs": [],
   "source": [
    "# Parameters\n",
    "product = {\n",
    "    \"nb\": \"/Users/macpro/Documents/GitHub/fuel-electric-hybrid-vehicle-ml/notebooks/train_model.ipynb\",\n",
    "    \"model\": \"/Users/macpro/Documents/GitHub/fuel-electric-hybrid-vehicle-ml/models/hard_voting_classifier_co2_fuel.pkl\",\n",
    "}\n"
   ]
  },
  {
   "cell_type": "code",
   "execution_count": 3,
   "id": "5800c58d",
   "metadata": {
    "execution": {
     "iopub.execute_input": "2023-04-26T03:50:33.900632Z",
     "iopub.status.busy": "2023-04-26T03:50:33.900448Z",
     "iopub.status.idle": "2023-04-26T03:50:33.904080Z",
     "shell.execute_reply": "2023-04-26T03:50:33.903616Z"
    },
    "papermill": {
     "duration": 0.007006,
     "end_time": "2023-04-26T03:50:33.905209",
     "exception": false,
     "start_time": "2023-04-26T03:50:33.898203",
     "status": "completed"
    },
    "tags": []
   },
   "outputs": [],
   "source": [
    "def classify_grid_search_cv_tuning(model, parameters, X_train, X_test, y_train, y_test, n_folds = 5, scoring='accuracy'):\n",
    "    \"\"\"\n",
    "    This function tunes GridSearchCV model\n",
    "    \n",
    "    Parameters:\n",
    "    ----------\n",
    "        model\n",
    "        parameters\n",
    "        X_train\n",
    "        X_test\n",
    "        y_train\n",
    "        y_test\n",
    "        n_folds\n",
    "        scoring\n",
    "        \n",
    "    Returns:\n",
    "    --------\n",
    "        best_model\n",
    "        best_score\n",
    "    \"\"\"\n",
    "    # Set up and fit model\n",
    "    tune_model = GridSearchCV(model, param_grid=parameters, cv=n_folds, scoring=scoring)\n",
    "    tune_model.fit(X_train, y_train.values.ravel())\n",
    "    \n",
    "    best_model = tune_model.best_estimator_\n",
    "    best_score = tune_model.best_score_\n",
    "    y_pred = best_model.predict(X_test)\n",
    "    \n",
    "    # Printing results\n",
    "    print(\"Best parameters:\", tune_model.best_params_)\n",
    "    print(\"Cross-validated f1 weighted score on training data: {:0.4f}\".format(tune_model.best_score_))\n",
    "    print()\n",
    "\n",
    "    print(classification_report(y_test, y_pred))\n",
    "    \n",
    "    return best_model, best_score"
   ]
  },
  {
   "cell_type": "code",
   "execution_count": 4,
   "id": "170664bb",
   "metadata": {
    "execution": {
     "iopub.execute_input": "2023-04-26T03:50:33.907984Z",
     "iopub.status.busy": "2023-04-26T03:50:33.907784Z",
     "iopub.status.idle": "2023-04-26T03:52:46.784026Z",
     "shell.execute_reply": "2023-04-26T03:52:46.782934Z"
    },
    "papermill": {
     "duration": 132.883708,
     "end_time": "2023-04-26T03:52:46.790014",
     "exception": false,
     "start_time": "2023-04-26T03:50:33.906306",
     "status": "completed"
    },
    "tags": []
   },
   "outputs": [
    {
     "name": "stdout",
     "output_type": "stream",
     "text": [
      "accuracy is 0.9502177971375233\n"
     ]
    },
    {
     "name": "stdout",
     "output_type": "stream",
     "text": [
      "score for training set 0.9958871915393654 score for testing set 0.9502177971375233\n",
      "Balanced accuracy score 0.9308330165905087\n"
     ]
    },
    {
     "name": "stdout",
     "output_type": "stream",
     "text": [
      "Best parameters: {}\n",
      "Cross-validated f1 weighted score on training data: 0.9861\n",
      "\n",
      "              precision    recall  f1-score   support\n",
      "\n",
      "           1       1.00      0.96      0.98        25\n",
      "           2       0.95      0.99      0.97        82\n",
      "           3       0.96      0.95      0.96       263\n",
      "           4       0.95      0.95      0.95       375\n",
      "           5       0.96      0.96      0.96       455\n",
      "           6       0.93      0.94      0.94       198\n",
      "           7       0.93      0.95      0.94       139\n",
      "           8       0.90      0.78      0.84        36\n",
      "           9       0.86      0.90      0.88        21\n",
      "          10       1.00      0.92      0.96        13\n",
      "\n",
      "    accuracy                           0.95      1607\n",
      "   macro avg       0.95      0.93      0.94      1607\n",
      "weighted avg       0.95      0.95      0.95      1607\n",
      "\n"
     ]
    },
    {
     "data": {
      "image/png": "[encoded data removed]",
      "text/plain": [
       "<Figure size 1000x500 with 2 Axes>"
      ]
     },
     "metadata": {},
     "output_type": "display_data"
    }
   ],
   "source": [
    "if __name__==\"__main__\":\n",
    "\n",
    "    # Variable initialization\n",
    "    raw_data_path = script_dir / 'data' / 'raw'\n",
    "    clean_data_path = script_dir / 'data' / 'processed'\n",
    "    predicted_data_path = script_dir / 'data' / 'predicted-data'\n",
    "    model_path = script_dir / 'models' / 'hard_voting_classifier_co2_fuel.pkl'\n",
    "    reports = script_dir / 'reports'/ 'figures'\n",
    "    \n",
    "\n",
    "    # Read data\n",
    "    fuel_df, electric_df, hybrid_df = read_data(clean_data_path)\n",
    "    non_na_rating_class, na_rating_class = remove_missing_values(fuel_df, drop_smog=False)\n",
    "    \n",
    "    # Set X and Y variables \n",
    "    # Response variable\n",
    "    Y = non_na_rating_class[['co2_rating']]\n",
    "\n",
    "    # Dependent variables\n",
    "    X = non_na_rating_class[var_list]\n",
    "\n",
    "    # Split data\n",
    "    X_train, X_test, y_train, y_test = train_test_split(X, Y, test_size=0.2, random_state=42)\n",
    "    \n",
    "    \n",
    "    # Set up pipeline\n",
    "    # Set up parameters for the model - numerical and categorical\n",
    "    numeric_features =  numeric_features\n",
    "    categorical_features = categorical_features\n",
    "\n",
    "    # Use smote to balance the data\n",
    "    smote = SMOTE(random_state=42)\n",
    "    X_train, y_train = smote.fit_resample(X_train[numeric_features], y_train)\n",
    "\n",
    "    # Set up preprocessor\n",
    "    preprocessor = preprocessor\n",
    "\n",
    "    # Set up model pipeline\n",
    "    clf1 = KNeighborsClassifier(3,)\n",
    "    clf2 = SVC(gamma=2, C=1, random_state=42, probability=True)\n",
    "    clf3 = RandomForestClassifier(max_depth=100, n_estimators=10, max_features=1, random_state=42)\n",
    "\n",
    "    classifiers = {\"KNN\": clf1, \n",
    "                   \"SVM\": clf2,\n",
    "                   \"RFC\": clf3\n",
    "                }\n",
    "\n",
    "    eclf1 = VotingClassifier(estimators=[('knn', clf1), ('svm', clf2), ('dt', clf3)], voting='soft')\n",
    "    model = Pipeline(\n",
    "            steps=[(\"preprocessor\", preprocessor), \n",
    "                    (\"hard Voting\", eclf1 )] #colsample  by tree, n estimators, max depth\n",
    "                                                                        )\n",
    "    fig, report, score_train, score_test, balanced_accuracy = train_and_evaluate_model(X_train, y_train, X_test, y_test, model,\"Voting\")\n",
    "    fig.savefig(os.path.join(reports, 'hard_voting_classifier_co2_fuel.png'))\n",
    "    # save report to file\n",
    "    with open(script_dir / 'reports' / f\"{reports}_classification_report.txt\", \"w\") as f:\n",
    "        f.write(f\"Classification report for Voting Classifier (KNN, SVC, RFC):\\n\")\n",
    "        f.write(f\"Training score: {score_train}\\n\")\n",
    "        f.write(f\"Testing score: {score_test}\\n\")\n",
    "        f.write(f\"Balanced accuracy score: {balanced_accuracy}\\n\")\n",
    "        f.write(report)\n",
    "    \n",
    "\n",
    "\n",
    "    params = {}\n",
    "    best_dtc, dtc_score = classify_grid_search_cv_tuning(model, params, X_train, X_test, y_train, y_test, n_folds=10, scoring='f1_weighted')\n",
    "\n",
    "\n",
    "    # Save model\n",
    "    joblib.dump(best_dtc, model_path)"
   ]
  }
 ],
 "metadata": {
  "jupytext": {
   "cell_metadata_filter": "tags,-all",
   "main_language": "python",
   "notebook_metadata_filter": "-all",
   "text_representation": {
    "extension": ".py",
    "format_name": "light"
   }
  },
  "kernelspec": {
   "display_name": "Python 3 (ipykernel)",
   "language": "python",
   "name": "python3"
  },
  "language_info": {
   "codemirror_mode": {
    "name": "ipython",
    "version": 3
   },
   "file_extension": ".py",
   "mimetype": "text/x-python",
   "name": "python",
   "nbconvert_exporter": "python",
   "pygments_lexer": "ipython3",
   "version": "3.10.0"
  },
  "papermill": {
   "duration": 136.61049,
   "end_time": "2023-04-26T03:52:47.426059",
   "exception": null,
   "input_path": "/var/folders/2t/nqb9hcfs07n91h4v5p34slp00000gn/T/tmpuybt9b6r.ipynb",
   "output_path": "/Users/macpro/Documents/GitHub/fuel-electric-hybrid-vehicle-ml/notebooks/train_model.ipynb",
   "parameters": {
    "product": {
     "model": "/Users/macpro/Documents/GitHub/fuel-electric-hybrid-vehicle-ml/models/hard_voting_classifier_co2_fuel.pkl",
     "nb": "/Users/macpro/Documents/GitHub/fuel-electric-hybrid-vehicle-ml/notebooks/train_model.ipynb"
    }
   },
   "start_time": "2023-04-26T03:50:30.815569"
  }
 },
 "nbformat": 4,
 "nbformat_minor": 5
}