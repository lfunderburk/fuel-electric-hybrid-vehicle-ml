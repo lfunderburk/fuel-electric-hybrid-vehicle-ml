{
 "cells": [
  {
   "cell_type": "code",
   "execution_count": 1,
   "id": "9ab7270a",
   "metadata": {
    "execution": {
     "iopub.execute_input": "2023-04-20T21:31:42.348229Z",
     "iopub.status.busy": "2023-04-20T21:31:42.347886Z",
     "iopub.status.idle": "2023-04-20T21:31:42.356822Z",
     "shell.execute_reply": "2023-04-20T21:31:42.356328Z"
    },
    "papermill": {
     "duration": 0.016213,
     "end_time": "2023-04-20T21:31:42.358521",
     "exception": false,
     "start_time": "2023-04-20T21:31:42.342308",
     "status": "completed"
    },
    "tags": [
     "parameters"
    ]
   },
   "outputs": [],
   "source": [
    "# declare a list tasks whose products you want to use as inputs\n",
    "upstream = None\n"
   ]
  },
  {
   "cell_type": "code",
   "execution_count": 2,
   "id": "85b22e91",
   "metadata": {
    "execution": {
     "iopub.execute_input": "2023-04-20T21:31:42.366239Z",
     "iopub.status.busy": "2023-04-20T21:31:42.365972Z",
     "iopub.status.idle": "2023-04-20T21:31:42.369071Z",
     "shell.execute_reply": "2023-04-20T21:31:42.368488Z"
    },
    "papermill": {
     "duration": 0.008961,
     "end_time": "2023-04-20T21:31:42.370738",
     "exception": false,
     "start_time": "2023-04-20T21:31:42.361777",
     "status": "completed"
    },
    "tags": [
     "injected-parameters"
    ]
   },
   "outputs": [],
   "source": [
    "# Parameters\n",
    "product = {\n",
    "    \"nb\": \"/Users/macpro/Documents/GitHub/fuel-electric-hybrid-vehicle-ml/notebooks/clustering.ipynb\"\n",
    "}\n"
   ]
  },
  {
   "cell_type": "code",
   "execution_count": 3,
   "id": "651af461",
   "metadata": {
    "execution": {
     "iopub.execute_input": "2023-04-20T21:31:42.376880Z",
     "iopub.status.busy": "2023-04-20T21:31:42.376648Z",
     "iopub.status.idle": "2023-04-20T21:31:42.995974Z",
     "shell.execute_reply": "2023-04-20T21:31:42.995576Z"
    },
    "papermill": {
     "duration": 0.624016,
     "end_time": "2023-04-20T21:31:42.997441",
     "exception": false,
     "start_time": "2023-04-20T21:31:42.373425",
     "status": "completed"
    },
    "tags": []
   },
   "outputs": [],
   "source": [
    "import os\n",
    "import pandas as pd\n",
    "import numpy as np\n",
    "import matplotlib.pyplot as plt"
   ]
  },
  {
   "cell_type": "code",
   "execution_count": 4,
   "id": "ee66a6aa",
   "metadata": {
    "execution": {
     "iopub.execute_input": "2023-04-20T21:31:43.002806Z",
     "iopub.status.busy": "2023-04-20T21:31:43.002530Z",
     "iopub.status.idle": "2023-04-20T21:31:43.709335Z",
     "shell.execute_reply": "2023-04-20T21:31:43.708840Z"
    },
    "papermill": {
     "duration": 0.711572,
     "end_time": "2023-04-20T21:31:43.711107",
     "exception": false,
     "start_time": "2023-04-20T21:31:42.999535",
     "status": "completed"
    },
    "tags": []
   },
   "outputs": [],
   "source": [
    "from sklearn.cluster import KMeans\n",
    "from sklearn.preprocessing import StandardScaler\n",
    "from sklearn.feature_selection import RFECV\n",
    "from pathlib import Path"
   ]
  },
  {
   "cell_type": "code",
   "execution_count": 5,
   "id": "4bc94671",
   "metadata": {
    "execution": {
     "iopub.execute_input": "2023-04-20T21:31:43.716936Z",
     "iopub.status.busy": "2023-04-20T21:31:43.716408Z",
     "iopub.status.idle": "2023-04-20T21:31:43.720210Z",
     "shell.execute_reply": "2023-04-20T21:31:43.719519Z"
    },
    "lines_to_next_cell": 2,
    "papermill": {
     "duration": 0.00816,
     "end_time": "2023-04-20T21:31:43.721586",
     "exception": false,
     "start_time": "2023-04-20T21:31:43.713426",
     "status": "completed"
    },
    "tags": []
   },
   "outputs": [],
   "source": [
    "from sklearn.metrics import silhouette_score,confusion_matrix,classification_report\n",
    "from sklearn import metrics\n",
    "from sklearn.feature_selection import RFE\n",
    "from sklearn.tree import DecisionTreeClassifier\n",
    "from sklearn.cluster import AgglomerativeClustering\n",
    "from sklearn.model_selection import cross_val_score"
   ]
  },
  {
   "cell_type": "code",
   "execution_count": 6,
   "id": "f56b16de",
   "metadata": {
    "execution": {
     "iopub.execute_input": "2023-04-20T21:31:43.727181Z",
     "iopub.status.busy": "2023-04-20T21:31:43.726963Z",
     "iopub.status.idle": "2023-04-20T21:31:43.729528Z",
     "shell.execute_reply": "2023-04-20T21:31:43.729155Z"
    },
    "papermill": {
     "duration": 0.006956,
     "end_time": "2023-04-20T21:31:43.730741",
     "exception": false,
     "start_time": "2023-04-20T21:31:43.723785",
     "status": "completed"
    },
    "tags": []
   },
   "outputs": [],
   "source": [
    "# Get the current working directory\n",
    "current_working_directory = os.getcwd()"
   ]
  },
  {
   "cell_type": "code",
   "execution_count": 7,
   "id": "8c8ecffc",
   "metadata": {
    "execution": {
     "iopub.execute_input": "2023-04-20T21:31:43.736387Z",
     "iopub.status.busy": "2023-04-20T21:31:43.736140Z",
     "iopub.status.idle": "2023-04-20T21:31:43.738729Z",
     "shell.execute_reply": "2023-04-20T21:31:43.738162Z"
    },
    "lines_to_next_cell": 1,
    "papermill": {
     "duration": 0.007331,
     "end_time": "2023-04-20T21:31:43.740195",
     "exception": false,
     "start_time": "2023-04-20T21:31:43.732864",
     "status": "completed"
    },
    "tags": []
   },
   "outputs": [],
   "source": [
    "# Convert the current working directory to a Path object\n",
    "script_dir = Path(current_working_directory)"
   ]
  },
  {
   "cell_type": "code",
   "execution_count": 8,
   "id": "19b6215b",
   "metadata": {
    "execution": {
     "iopub.execute_input": "2023-04-20T21:31:43.746793Z",
     "iopub.status.busy": "2023-04-20T21:31:43.746581Z",
     "iopub.status.idle": "2023-04-20T21:31:43.749486Z",
     "shell.execute_reply": "2023-04-20T21:31:43.749046Z"
    },
    "lines_to_next_cell": 1,
    "papermill": {
     "duration": 0.008385,
     "end_time": "2023-04-20T21:31:43.750781",
     "exception": false,
     "start_time": "2023-04-20T21:31:43.742396",
     "status": "completed"
    },
    "tags": []
   },
   "outputs": [],
   "source": [
    "def merge_vehicle_id(df):\n",
    "    df['vehicle_id'] = df['vehicle_type'] + '_' + df['id'].astype(str)\n",
    "\n",
    "    df.drop(['id'], axis=1, inplace=True)\n",
    "    return df"
   ]
  },
  {
   "cell_type": "code",
   "execution_count": 9,
   "id": "c3bb41d4",
   "metadata": {
    "execution": {
     "iopub.execute_input": "2023-04-20T21:31:43.756532Z",
     "iopub.status.busy": "2023-04-20T21:31:43.756296Z",
     "iopub.status.idle": "2023-04-20T21:31:43.761078Z",
     "shell.execute_reply": "2023-04-20T21:31:43.760670Z"
    },
    "lines_to_next_cell": 1,
    "papermill": {
     "duration": 0.00908,
     "end_time": "2023-04-20T21:31:43.762246",
     "exception": false,
     "start_time": "2023-04-20T21:31:43.753166",
     "status": "completed"
    },
    "tags": []
   },
   "outputs": [],
   "source": [
    "def read_and_clean_vehicle_data(clean_data_path):\n",
    "    \"\"\"\n",
    "    \n",
    "    This function reads the cleaned data from the data/processed folder and returns a dataframe\n",
    "\n",
    "    Parameters\n",
    "    ----------\n",
    "    clean_data_path : Path\n",
    "        Path to the data/processed folder\n",
    "\n",
    "    Returns\n",
    "    ------- \n",
    "    fuel_df : DataFrame\n",
    "        A dataframe containing the cleaned fuel data\n",
    "    hybrid_df : DataFrame\n",
    "        A dataframe containing the cleaned hybrid data\n",
    "    electric_df : DataFrame\n",
    "        A dataframe containing the cleaned electric data\n",
    "    \"\"\"\n",
    "\n",
    "    # Read the data\n",
    "    fuel_df = pd.read_csv(Path(clean_data_path,\"predicted_co2_rating.csv\"))\n",
    "    hybrid_df = pd.read_csv(Path(clean_data_path,\"predicted_co2_rating_hybrid.csv\"))\n",
    "    electric_df = pd.read_csv(Path(clean_data_path,\"predicted_co2_rating_electric.csv\"))\n",
    "\n",
    "    # drop the 'original_co2r' column from the dataframes\n",
    "    fuel_df.drop('original_co2r', axis=1, inplace=True)\n",
    "\n",
    "    # rename co2_rating to predicted_co2r in hybrid_df and electric_df\n",
    "    hybrid_df.rename(columns={'co2_rating': 'predicted_co2_rating'}, inplace=True)\n",
    "    electric_df.rename(columns={'co2_rating': 'predicted_co2_rating'}, inplace=True)\n",
    "\n",
    "    # rename fuel_type1 to fuel_type in fuel_df, hybrid_df, and electric_df\n",
    "    fuel_df.rename(columns={'fuel_type1': 'fuel_type'}, inplace=True)\n",
    "    hybrid_df.rename(columns={'fuel_type1': 'fuel_type'}, inplace=True)\n",
    "    electric_df.rename(columns={'fuel_type1': 'fuel_type'}, inplace=True)\n",
    "\n",
    "    return fuel_df, hybrid_df, electric_df"
   ]
  },
  {
   "cell_type": "code",
   "execution_count": 10,
   "id": "e3eedb1c",
   "metadata": {
    "execution": {
     "iopub.execute_input": "2023-04-20T21:31:43.767194Z",
     "iopub.status.busy": "2023-04-20T21:31:43.767015Z",
     "iopub.status.idle": "2023-04-20T21:31:43.770538Z",
     "shell.execute_reply": "2023-04-20T21:31:43.770156Z"
    },
    "lines_to_next_cell": 1,
    "papermill": {
     "duration": 0.007359,
     "end_time": "2023-04-20T21:31:43.771712",
     "exception": false,
     "start_time": "2023-04-20T21:31:43.764353",
     "status": "completed"
    },
    "tags": []
   },
   "outputs": [],
   "source": [
    "def concat_vehicle_data(fuel_df, hybrid_df, electric_df):\n",
    "\n",
    "    df = pd.concat([fuel_df, hybrid_df, electric_df], axis=0, ignore_index=True)\n",
    "\n",
    "   \n",
    "    # move vehicle_id to the first column\n",
    "    cols = df.columns.tolist()\n",
    "\n",
    "    # obtain position of vehicle_id column from cols\n",
    "    vehicle_id_index = cols.index('vehicle_id')\n",
    "\n",
    "    # move vehicle_id to the first column\n",
    "    cols = [cols[vehicle_id_index]] + cols[:vehicle_id_index] + cols[vehicle_id_index+1:]\n",
    "\n",
    "    df = df[cols]\n",
    "\n",
    "    # fill missing values with 0\n",
    "    df.fillna(0, inplace=True)\n",
    "\n",
    "    # convert categorical columns to a categorical variable\n",
    "    cat_cols = df.select_dtypes(exclude=np.number).columns\n",
    "    for col in cat_cols:\n",
    "        df[col] = df[col].astype('category')\n",
    "\n",
    "    return df"
   ]
  },
  {
   "cell_type": "code",
   "execution_count": 11,
   "id": "25549780",
   "metadata": {
    "execution": {
     "iopub.execute_input": "2023-04-20T21:31:43.776807Z",
     "iopub.status.busy": "2023-04-20T21:31:43.776630Z",
     "iopub.status.idle": "2023-04-20T21:31:43.779402Z",
     "shell.execute_reply": "2023-04-20T21:31:43.778993Z"
    },
    "lines_to_next_cell": 1,
    "papermill": {
     "duration": 0.006673,
     "end_time": "2023-04-20T21:31:43.780613",
     "exception": false,
     "start_time": "2023-04-20T21:31:43.773940",
     "status": "completed"
    },
    "tags": []
   },
   "outputs": [],
   "source": [
    "def prepare_data_feature_importances(df):\n",
    "    # Select the columns with numerical and categorical data\n",
    "    num_cols = df.select_dtypes(include=np.number).columns\n",
    "\n",
    "    # One-hot encode the categorical columns\n",
    "    df_cat = pd.get_dummies(df[['mapped_fuel_type']])\n",
    "    df_num = df[num_cols]\n",
    "\n",
    "    # Combine the numerical and one-hot encoded categorical dataframes\n",
    "    df_processed = pd.concat([df_num, df_cat], axis=1)\n",
    "\n",
    "    return df_processed"
   ]
  },
  {
   "cell_type": "code",
   "execution_count": 12,
   "id": "af681df0",
   "metadata": {
    "execution": {
     "iopub.execute_input": "2023-04-20T21:31:43.785594Z",
     "iopub.status.busy": "2023-04-20T21:31:43.785400Z",
     "iopub.status.idle": "2023-04-20T21:31:43.789887Z",
     "shell.execute_reply": "2023-04-20T21:31:43.789490Z"
    },
    "lines_to_next_cell": 1,
    "papermill": {
     "duration": 0.008342,
     "end_time": "2023-04-20T21:31:43.791088",
     "exception": false,
     "start_time": "2023-04-20T21:31:43.782746",
     "status": "completed"
    },
    "tags": []
   },
   "outputs": [],
   "source": [
    "def generate_feature_importances(df_processed, reports_path, target_col):\n",
    "\n",
    "    # Perform recursive feature elimination to select the most important features\n",
    "    X = df_processed.drop([target_col], axis=1)\n",
    "    y = df_processed[target_col]\n",
    "\n",
    "    # set up xgboost model for classification and feature selection\n",
    "    dt = DecisionTreeClassifier(random_state=42)\n",
    "    rfecv = RFECV(estimator=dt, cv=10)\n",
    "    rfecv.fit(X, y)\n",
    "\n",
    "    # predict\n",
    "    y_pred = rfecv.predict(X)\n",
    "\n",
    "    # Print the accuracy\n",
    "    print(\"Accuracy:\", metrics.accuracy_score(y, y_pred))\n",
    "\n",
    "    # Fit a decision tree and get feature importances\n",
    "    dt.fit(X, y)\n",
    "    feat_importances = pd.Series(dt.feature_importances_, index=X.columns)\n",
    "\n",
    "    # Plot the feature importances\n",
    "    plt.figure(figsize=(15,6))\n",
    "    plt.title(f'Decision Tree Feature Importances - variable: {target_col}')\n",
    "    feat_importances.nlargest(15).plot(kind='barh')\n",
    "\n",
    "    # save the plot\n",
    "    plt.savefig(f'{reports_path}/feature_importances_{target_col.split(\"(\")[0]}.png')\n",
    "\n",
    "    # Select the top 5 most important features\n",
    "    threshold = feat_importances.nlargest(15).min()\n",
    "    top_features = feat_importances[feat_importances >= threshold].index.tolist()\n",
    "\n",
    "    return top_features, X, y"
   ]
  },
  {
   "cell_type": "code",
   "execution_count": 13,
   "id": "34f514d6",
   "metadata": {
    "execution": {
     "iopub.execute_input": "2023-04-20T21:31:43.796020Z",
     "iopub.status.busy": "2023-04-20T21:31:43.795860Z",
     "iopub.status.idle": "2023-04-20T21:31:43.799908Z",
     "shell.execute_reply": "2023-04-20T21:31:43.799509Z"
    },
    "lines_to_next_cell": 1,
    "papermill": {
     "duration": 0.007839,
     "end_time": "2023-04-20T21:31:43.801088",
     "exception": false,
     "start_time": "2023-04-20T21:31:43.793249",
     "status": "completed"
    },
    "tags": []
   },
   "outputs": [],
   "source": [
    "def generate_clustering(X, top_features, range_n_clusters, reports_path):\n",
    "    # select the top features\n",
    "    X = X[top_features]\n",
    "\n",
    "    # scale the data\n",
    "    scaler = StandardScaler()\n",
    "    X_scaled = scaler.fit_transform(X[top_features])\n",
    "\n",
    "    # initialize lists to store the scores\n",
    "    silhouette_scores = []\n",
    "    silhouette_scores_cl = []\n",
    "    inertia_scores = []\n",
    "\n",
    "    # loop over the range of cluster numbers\n",
    "    for n_clusters in range_n_clusters:\n",
    "        \n",
    "        # initialize KMeans with n_clusters\n",
    "        kmeans = KMeans(n_clusters=n_clusters, random_state=0,n_init=10)\n",
    "        \n",
    "        # fit KMeans to the data\n",
    "        kmeans.fit(X_scaled)\n",
    "\n",
    "        # initialize AgglomerativeClustering with n_clusters\n",
    "        agg_clustering = AgglomerativeClustering(n_clusters=n_clusters)\n",
    "        \n",
    "        # fit AgglomerativeClustering to the data\n",
    "        agg_clustering.fit(X_scaled)\n",
    "        \n",
    "        # calculate the inertia score (within-cluster sum of squares)\n",
    "        inertia_scores.append(kmeans.inertia_)\n",
    "        \n",
    "        # calculate the silhouette score\n",
    "        silhouette_avg = silhouette_score(X, kmeans.labels_)\n",
    "        silhouette_avg_cl = silhouette_score(X_scaled, agg_clustering.labels_)\n",
    "        silhouette_scores_cl.append(silhouette_avg_cl)\n",
    "        silhouette_scores.append(silhouette_avg)\n",
    "        \n",
    "        # print the scores\n",
    "        print(\"For n_clusters =\", n_clusters,\n",
    "            \"The inertia score is :\", kmeans.inertia_,\n",
    "            \"The average silhouette score is :\", silhouette_avg,\n",
    "            \"The average silhouette score (clustering) is :\", silhouette_avg_cl)\n",
    "\n",
    "\n",
    "    return silhouette_scores, silhouette_scores_cl, inertia_scores"
   ]
  },
  {
   "cell_type": "code",
   "execution_count": 14,
   "id": "6479214e",
   "metadata": {
    "execution": {
     "iopub.execute_input": "2023-04-20T21:31:43.806810Z",
     "iopub.status.busy": "2023-04-20T21:31:43.806572Z",
     "iopub.status.idle": "2023-04-20T21:31:43.813047Z",
     "shell.execute_reply": "2023-04-20T21:31:43.811719Z"
    },
    "lines_to_next_cell": 1,
    "papermill": {
     "duration": 0.014197,
     "end_time": "2023-04-20T21:31:43.817508",
     "exception": false,
     "start_time": "2023-04-20T21:31:43.803311",
     "status": "completed"
    },
    "tags": []
   },
   "outputs": [],
   "source": [
    "def plot_elbow_method(silhouette_scores, silhouette_scores_cl, inertia_scores,\\\n",
    "                       range_n_clusters, target_col, reports_path):\n",
    "    # plot the elbow curve\n",
    "    # clear the plot\n",
    "\n",
    "    plt.figure(figsize=(10,10))\n",
    "    plt.plot(range_n_clusters, inertia_scores, 'bx-')\n",
    "    plt.xlabel('Number of Clusters')\n",
    "    # set xticks to be the range of cluster numbers\n",
    "    plt.xticks(range_n_clusters)\n",
    "    plt.ylabel('Inertia Score')\n",
    "    plt.title(f'Elbow Method for Optimal k - {target_col}')\n",
    "    # save the plot\n",
    "    plt.savefig(f'{reports_path}/elbow_method_{target_col.split(\"(\")[0]}.png')\n",
    "\n",
    "    # clear the plot\n",
    "    plt.clf()\n",
    "\n",
    "    # plot the silhouette scores\n",
    "    plt.figure(figsize=(10,10))\n",
    "    plt.plot(range_n_clusters, silhouette_scores, 'bx-')\n",
    "    plt.xlabel('Number of Clusters')\n",
    "    # set xticks to be the range of cluster numbers\n",
    "    plt.xticks(range_n_clusters)\n",
    "    plt.ylabel('Silhouette Score')\n",
    "    plt.title(f'Silhouette Method for Optimal k - {target_col}')\n",
    "    # save the plot\n",
    "    plt.savefig(f'{reports_path}/silhouette_method_{target_col.split(\"(\")[0]}.png')\n",
    "    # clear the plot\n",
    "    plt.clf()\n",
    "\n",
    "    # plot the silhouette scores\n",
    "    plt.figure(figsize=(10,10))\n",
    "    plt.plot(range_n_clusters, silhouette_scores_cl, 'bx-')\n",
    "    plt.xlabel('Number of Clusters')\n",
    "    # set xticks to be the range of cluster numbers\n",
    "    plt.xticks(range_n_clusters)\n",
    "    plt.ylabel('Silhouette Score (clustering)')\n",
    "    plt.title(f'Silhouette Method for Optimal k  (clustering) - {target_col}')\n",
    "    # save the plot\n",
    "    plt.savefig(f'{reports_path}/silhouette_method_clustering_{target_col.split(\"(\")[0]}.png')\n",
    "    # clear the plot\n",
    "    plt.clf()"
   ]
  },
  {
   "cell_type": "code",
   "execution_count": 15,
   "id": "144427a2",
   "metadata": {
    "execution": {
     "iopub.execute_input": "2023-04-20T21:31:43.826172Z",
     "iopub.status.busy": "2023-04-20T21:31:43.825507Z",
     "iopub.status.idle": "2023-04-20T21:31:43.832056Z",
     "shell.execute_reply": "2023-04-20T21:31:43.830616Z"
    },
    "lines_to_next_cell": 2,
    "papermill": {
     "duration": 0.013928,
     "end_time": "2023-04-20T21:31:43.834859",
     "exception": false,
     "start_time": "2023-04-20T21:31:43.820931",
     "status": "completed"
    },
    "tags": []
   },
   "outputs": [],
   "source": [
    "def perform_clustering(X_scaled, n_clusters, model):\n",
    "\n",
    "    \n",
    "    # fit the model\n",
    "    model.fit(X_scaled)\n",
    "    # predict the clusters\n",
    "    y_pred = model.predict(X_scaled)\n",
    "    labels = model.labels_\n",
    "    \n",
    "\n",
    "    return y_pred, labels"
   ]
  },
  {
   "cell_type": "code",
   "execution_count": 16,
   "id": "a50e9f35",
   "metadata": {
    "execution": {
     "iopub.execute_input": "2023-04-20T21:31:43.842401Z",
     "iopub.status.busy": "2023-04-20T21:31:43.841787Z",
     "iopub.status.idle": "2023-04-20T21:31:51.431175Z",
     "shell.execute_reply": "2023-04-20T21:31:51.430645Z"
    },
    "papermill": {
     "duration": 7.595487,
     "end_time": "2023-04-20T21:31:51.432881",
     "exception": false,
     "start_time": "2023-04-20T21:31:43.837394",
     "status": "completed"
    },
    "tags": []
   },
   "outputs": [
    {
     "name": "stdout",
     "output_type": "stream",
     "text": [
      "Accuracy: 1.0\n"
     ]
    },
    {
     "name": "stdout",
     "output_type": "stream",
     "text": [
      "[[12408     0     0]\n",
      " [   42   377     0]\n",
      " [   11     0   237]]\n",
      "              precision    recall  f1-score   support\n",
      "\n",
      "           0       1.00      1.00      1.00     12408\n",
      "           1       1.00      0.90      0.95       419\n",
      "           2       1.00      0.96      0.98       248\n",
      "\n",
      "    accuracy                           1.00     13075\n",
      "   macro avg       1.00      0.95      0.97     13075\n",
      "weighted avg       1.00      1.00      1.00     13075\n",
      "\n"
     ]
    },
    {
     "data": {
      "image/png": "[encoded data removed]",
      "text/plain": [
       "<Figure size 1500x600 with 1 Axes>"
      ]
     },
     "metadata": {},
     "output_type": "display_data"
    }
   ],
   "source": [
    "if __name__ == \"__main__\":\n",
    "\n",
    "    # Get the current working directory\n",
    "    predicted_data_path = script_dir / 'data' / 'predicted-data'\n",
    "    model_path = script_dir / 'models' / 'hard_voting_classifier_co2_fuel.pkl'\n",
    "    reports_path= script_dir / 'reports'/ 'figures'\n",
    "\n",
    "\n",
    "    # Load data\n",
    "    fuel_df, hybrid_df, electric_df = read_and_clean_vehicle_data(predicted_data_path)\n",
    "\n",
    "    # merge vehicle_type and id into a single column for fuel_df\n",
    "    fuel_df = merge_vehicle_id(fuel_df)\n",
    "\n",
    "    # set fuel_df to contain only cars from 2012 onwards\n",
    "    fuel_df = fuel_df[fuel_df['model_year'] >= 2012]\n",
    "    hybrid_df = merge_vehicle_id(hybrid_df)\n",
    "    electric_df = merge_vehicle_id(electric_df)\n",
    "\n",
    "    # Concatenate the dataframes\n",
    "    df = concat_vehicle_data(fuel_df, hybrid_df, electric_df)\n",
    "\n",
    "    # prepare data for feature importances\n",
    "    target_col = 'predicted_co2_rating'\n",
    "    df_processed = prepare_data_feature_importances(df)\n",
    "\n",
    "    # generate feature importances\n",
    "    top_features, X, y = generate_feature_importances(df_processed, reports_path, target_col)\n",
    "\n",
    "    # # generate clustering\n",
    "    # range_n_clusters = range(2, 11)\n",
    "    \n",
    "    # # generate clustering\n",
    "    # silhouette_scores, \\\n",
    "    #     silhouette_scores_cl, \\\n",
    "    #         inertia_scores = generate_clustering(X, top_features, range_n_clusters, reports_path)\n",
    "    \n",
    "    # # plot the elbow method\n",
    "    # plot_elbow_method(silhouette_scores, silhouette_scores_cl, inertia_scores,\\\n",
    "    #                       range_n_clusters, target_col, reports_path)\n",
    "    \n",
    "\n",
    "    # perform clustering - kmeans\n",
    "    n_clusters = 3\n",
    "    kmeans = KMeans(n_clusters=n_clusters, random_state=0,n_init=10)\n",
    "    y_pred_kmeans, labels_kmeans = perform_clustering(X, n_clusters, kmeans)\n",
    "\n",
    "\n",
    "    # add the labels to the dataframe\n",
    "    df['kmeans_labels'] = labels_kmeans\n",
    "\n",
    "    # Transform vehicle_type to numeric\n",
    "    df['vehicle_type'] = df['vehicle_type'].map({'fuel-only': 0, 'electric': 1, 'hybrid': 2})\n",
    "\n",
    "    # Asses the performance of the clustering - kmeans\n",
    "    print(confusion_matrix(df['vehicle_type'],labels_kmeans))\n",
    "    print(classification_report(df['vehicle_type'],labels_kmeans))\n",
    "\n",
    "    # Save confusion matrix and classification report\n",
    "    cm = confusion_matrix(df['vehicle_type'],labels_kmeans)\n",
    "    cr = classification_report(df['vehicle_type'],labels_kmeans)\n",
    "    with open(f'{reports_path}/clustering_performance_kmeans.txt', 'w') as f:\n",
    "        f.write(f'Confusion Matrix:\\n{cm}\\n\\nClassification Report:\\n{cr}')\n",
    "\n",
    "  # save the dataframe\n",
    "    df.to_csv(f'{predicted_data_path}/vehicle_data_with_clusters.csv', index=False)"
   ]
  }
 ],
 "metadata": {
  "jupytext": {
   "cell_metadata_filter": "tags,-all",
   "main_language": "python",
   "notebook_metadata_filter": "-all",
   "text_representation": {
    "extension": ".py",
    "format_name": "light"
   }
  },
  "kernelspec": {
   "display_name": "Python 3 (ipykernel)",
   "language": "python",
   "name": "python3"
  },
  "language_info": {
   "codemirror_mode": {
    "name": "ipython",
    "version": 3
   },
   "file_extension": ".py",
   "mimetype": "text/x-python",
   "name": "python",
   "nbconvert_exporter": "python",
   "pygments_lexer": "ipython3",
   "version": "3.10.0"
  },
  "papermill": {
   "duration": 10.650479,
   "end_time": "2023-04-20T21:31:52.068712",
   "exception": null,
   "input_path": "/var/folders/2t/nqb9hcfs07n91h4v5p34slp00000gn/T/tmpd5vnx0fl.ipynb",
   "output_path": "/Users/macpro/Documents/GitHub/fuel-electric-hybrid-vehicle-ml/notebooks/clustering.ipynb",
   "parameters": {
    "product": {
     "nb": "/Users/macpro/Documents/GitHub/fuel-electric-hybrid-vehicle-ml/notebooks/clustering.ipynb"
    }
   },
   "start_time": "2023-04-20T21:31:41.418233"
  }
 },
 "nbformat": 4,
 "nbformat_minor": 5
}