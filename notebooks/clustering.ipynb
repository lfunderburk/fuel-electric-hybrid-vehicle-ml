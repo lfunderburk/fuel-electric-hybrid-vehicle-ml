{
 "cells": [
  {
   "cell_type": "code",
   "execution_count": 1,
   "id": "e2f67107",
   "metadata": {
    "execution": {
     "iopub.execute_input": "2023-04-26T01:40:23.280784Z",
     "iopub.status.busy": "2023-04-26T01:40:23.280175Z",
     "iopub.status.idle": "2023-04-26T01:40:23.288623Z",
     "shell.execute_reply": "2023-04-26T01:40:23.287635Z"
    },
    "papermill": {
     "duration": 0.023033,
     "end_time": "2023-04-26T01:40:23.292599",
     "exception": false,
     "start_time": "2023-04-26T01:40:23.269566",
     "status": "completed"
    },
    "tags": [
     "parameters"
    ]
   },
   "outputs": [],
   "source": [
    "# declare a list tasks whose products you want to use as inputs\n",
    "upstream = None\n"
   ]
  },
  {
   "cell_type": "code",
   "execution_count": 2,
   "id": "d7b6453c",
   "metadata": {
    "execution": {
     "iopub.execute_input": "2023-04-26T01:40:23.300500Z",
     "iopub.status.busy": "2023-04-26T01:40:23.300189Z",
     "iopub.status.idle": "2023-04-26T01:40:23.303645Z",
     "shell.execute_reply": "2023-04-26T01:40:23.302730Z"
    },
    "papermill": {
     "duration": 0.012074,
     "end_time": "2023-04-26T01:40:23.307640",
     "exception": false,
     "start_time": "2023-04-26T01:40:23.295566",
     "status": "completed"
    },
    "tags": [
     "injected-parameters"
    ]
   },
   "outputs": [],
   "source": [
    "# Parameters\n",
    "product = {\n",
    "    \"nb\": \"/Users/macpro/Documents/GitHub/fuel-electric-hybrid-vehicle-ml/notebooks/clustering.ipynb\"\n",
    "}\n"
   ]
  },
  {
   "cell_type": "code",
   "execution_count": 3,
   "id": "58ad3557",
   "metadata": {
    "execution": {
     "iopub.execute_input": "2023-04-26T01:40:23.315057Z",
     "iopub.status.busy": "2023-04-26T01:40:23.314869Z",
     "iopub.status.idle": "2023-04-26T01:40:23.794225Z",
     "shell.execute_reply": "2023-04-26T01:40:23.793833Z"
    },
    "papermill": {
     "duration": 0.483674,
     "end_time": "2023-04-26T01:40:23.795669",
     "exception": false,
     "start_time": "2023-04-26T01:40:23.311995",
     "status": "completed"
    },
    "tags": []
   },
   "outputs": [],
   "source": [
    "import os\n",
    "import pandas as pd\n",
    "import numpy as np\n",
    "import matplotlib.pyplot as plt"
   ]
  },
  {
   "cell_type": "code",
   "execution_count": 4,
   "id": "b09b317e",
   "metadata": {
    "execution": {
     "iopub.execute_input": "2023-04-26T01:40:23.801233Z",
     "iopub.status.busy": "2023-04-26T01:40:23.800915Z",
     "iopub.status.idle": "2023-04-26T01:40:24.458076Z",
     "shell.execute_reply": "2023-04-26T01:40:24.457700Z"
    },
    "papermill": {
     "duration": 0.661676,
     "end_time": "2023-04-26T01:40:24.459486",
     "exception": false,
     "start_time": "2023-04-26T01:40:23.797810",
     "status": "completed"
    },
    "tags": []
   },
   "outputs": [],
   "source": [
    "from sklearn.cluster import KMeans\n",
    "from sklearn.preprocessing import StandardScaler\n",
    "from sklearn.feature_selection import RFECV\n",
    "from pathlib import Path"
   ]
  },
  {
   "cell_type": "code",
   "execution_count": 5,
   "id": "1c96eb51",
   "metadata": {
    "execution": {
     "iopub.execute_input": "2023-04-26T01:40:24.464807Z",
     "iopub.status.busy": "2023-04-26T01:40:24.464588Z",
     "iopub.status.idle": "2023-04-26T01:40:24.467837Z",
     "shell.execute_reply": "2023-04-26T01:40:24.467164Z"
    },
    "lines_to_next_cell": 2,
    "papermill": {
     "duration": 0.007614,
     "end_time": "2023-04-26T01:40:24.469239",
     "exception": false,
     "start_time": "2023-04-26T01:40:24.461625",
     "status": "completed"
    },
    "tags": []
   },
   "outputs": [],
   "source": [
    "from sklearn.metrics import silhouette_score,confusion_matrix,classification_report\n",
    "from sklearn import metrics\n",
    "from sklearn.feature_selection import RFE\n",
    "from sklearn.tree import DecisionTreeClassifier\n",
    "from sklearn.cluster import AgglomerativeClustering"
   ]
  },
  {
   "cell_type": "code",
   "execution_count": 6,
   "id": "4182ad8b",
   "metadata": {
    "execution": {
     "iopub.execute_input": "2023-04-26T01:40:24.474134Z",
     "iopub.status.busy": "2023-04-26T01:40:24.473933Z",
     "iopub.status.idle": "2023-04-26T01:40:24.476224Z",
     "shell.execute_reply": "2023-04-26T01:40:24.475860Z"
    },
    "papermill": {
     "duration": 0.006069,
     "end_time": "2023-04-26T01:40:24.477399",
     "exception": false,
     "start_time": "2023-04-26T01:40:24.471330",
     "status": "completed"
    },
    "tags": []
   },
   "outputs": [],
   "source": [
    "# Get the current working directory\n",
    "current_working_directory = os.getcwd()"
   ]
  },
  {
   "cell_type": "code",
   "execution_count": 7,
   "id": "debf46fc",
   "metadata": {
    "execution": {
     "iopub.execute_input": "2023-04-26T01:40:24.482083Z",
     "iopub.status.busy": "2023-04-26T01:40:24.481927Z",
     "iopub.status.idle": "2023-04-26T01:40:24.483954Z",
     "shell.execute_reply": "2023-04-26T01:40:24.483514Z"
    },
    "lines_to_next_cell": 1,
    "papermill": {
     "duration": 0.005695,
     "end_time": "2023-04-26T01:40:24.485141",
     "exception": false,
     "start_time": "2023-04-26T01:40:24.479446",
     "status": "completed"
    },
    "tags": []
   },
   "outputs": [],
   "source": [
    "# Convert the current working directory to a Path object\n",
    "script_dir = Path(current_working_directory)"
   ]
  },
  {
   "cell_type": "code",
   "execution_count": 8,
   "id": "9c1b8871",
   "metadata": {
    "execution": {
     "iopub.execute_input": "2023-04-26T01:40:24.489809Z",
     "iopub.status.busy": "2023-04-26T01:40:24.489643Z",
     "iopub.status.idle": "2023-04-26T01:40:24.492162Z",
     "shell.execute_reply": "2023-04-26T01:40:24.491802Z"
    },
    "lines_to_next_cell": 1,
    "papermill": {
     "duration": 0.006157,
     "end_time": "2023-04-26T01:40:24.493327",
     "exception": false,
     "start_time": "2023-04-26T01:40:24.487170",
     "status": "completed"
    },
    "tags": []
   },
   "outputs": [],
   "source": [
    "def merge_vehicle_id(df):\n",
    "    df['vehicle_id'] = df['vehicle_type'] + '_' + df['id'].astype(str)\n",
    "\n",
    "    df.drop(['id'], axis=1, inplace=True)\n",
    "    return df"
   ]
  },
  {
   "cell_type": "code",
   "execution_count": 9,
   "id": "63422ded",
   "metadata": {
    "execution": {
     "iopub.execute_input": "2023-04-26T01:40:24.497921Z",
     "iopub.status.busy": "2023-04-26T01:40:24.497763Z",
     "iopub.status.idle": "2023-04-26T01:40:24.502309Z",
     "shell.execute_reply": "2023-04-26T01:40:24.501904Z"
    },
    "lines_to_next_cell": 1,
    "papermill": {
     "duration": 0.008217,
     "end_time": "2023-04-26T01:40:24.503522",
     "exception": false,
     "start_time": "2023-04-26T01:40:24.495305",
     "status": "completed"
    },
    "tags": []
   },
   "outputs": [],
   "source": [
    "def read_and_clean_vehicle_data(clean_data_path):\n",
    "    \"\"\"\n",
    "    \n",
    "    This function reads the cleaned data from the data/processed folder and returns a dataframe\n",
    "\n",
    "    Parameters\n",
    "    ----------\n",
    "    clean_data_path : Path\n",
    "        Path to the data/processed folder\n",
    "\n",
    "    Returns\n",
    "    ------- \n",
    "    fuel_df : DataFrame\n",
    "        A dataframe containing the cleaned fuel data\n",
    "    hybrid_df : DataFrame\n",
    "        A dataframe containing the cleaned hybrid data\n",
    "    electric_df : DataFrame\n",
    "        A dataframe containing the cleaned electric data\n",
    "    \"\"\"\n",
    "\n",
    "    # Read the data\n",
    "    fuel_df = pd.read_csv(Path(clean_data_path,\"predicted_co2_rating.csv\"))\n",
    "    hybrid_df = pd.read_csv(Path(clean_data_path,\"predicted_co2_rating_hybrid.csv\"))\n",
    "    electric_df = pd.read_csv(Path(clean_data_path,\"predicted_co2_rating_electric.csv\"))\n",
    "\n",
    "    # drop the 'original_co2r' column from the dataframes\n",
    "    fuel_df.drop('original_co2r', axis=1, inplace=True)\n",
    "\n",
    "    # rename co2_rating to predicted_co2r in hybrid_df and electric_df\n",
    "    hybrid_df.rename(columns={'co2_rating': 'predicted_co2_rating'}, inplace=True)\n",
    "    electric_df.rename(columns={'co2_rating': 'predicted_co2_rating'}, inplace=True)\n",
    "\n",
    "    # rename fuel_type1 to fuel_type in fuel_df, hybrid_df, and electric_df\n",
    "    fuel_df.rename(columns={'fuel_type1': 'fuel_type'}, inplace=True)\n",
    "    hybrid_df.rename(columns={'fuel_type1': 'fuel_type'}, inplace=True)\n",
    "    electric_df.rename(columns={'fuel_type1': 'fuel_type'}, inplace=True)\n",
    "\n",
    "    return fuel_df, hybrid_df, electric_df"
   ]
  },
  {
   "cell_type": "code",
   "execution_count": 10,
   "id": "fbee924a",
   "metadata": {
    "execution": {
     "iopub.execute_input": "2023-04-26T01:40:24.508311Z",
     "iopub.status.busy": "2023-04-26T01:40:24.508155Z",
     "iopub.status.idle": "2023-04-26T01:40:24.511437Z",
     "shell.execute_reply": "2023-04-26T01:40:24.511107Z"
    },
    "lines_to_next_cell": 1,
    "papermill": {
     "duration": 0.006982,
     "end_time": "2023-04-26T01:40:24.512632",
     "exception": false,
     "start_time": "2023-04-26T01:40:24.505650",
     "status": "completed"
    },
    "tags": []
   },
   "outputs": [],
   "source": [
    "def concat_vehicle_data(fuel_df, hybrid_df, electric_df):\n",
    "\n",
    "    df = pd.concat([fuel_df, hybrid_df, electric_df], axis=0, ignore_index=True)\n",
    "\n",
    "   \n",
    "    # move vehicle_id to the first column\n",
    "    cols = df.columns.tolist()\n",
    "\n",
    "    # obtain position of vehicle_id column from cols\n",
    "    vehicle_id_index = cols.index('vehicle_id')\n",
    "\n",
    "    # move vehicle_id to the first column\n",
    "    cols = [cols[vehicle_id_index]] + cols[:vehicle_id_index] + cols[vehicle_id_index+1:]\n",
    "\n",
    "    df = df[cols]\n",
    "\n",
    "    # fill missing values with 0\n",
    "    df.fillna(0, inplace=True)\n",
    "\n",
    "    # convert categorical columns to a categorical variable\n",
    "    cat_cols = df.select_dtypes(exclude=np.number).columns\n",
    "    for col in cat_cols:\n",
    "        df[col] = df[col].astype('category')\n",
    "\n",
    "    return df"
   ]
  },
  {
   "cell_type": "code",
   "execution_count": 11,
   "id": "ba2901ac",
   "metadata": {
    "execution": {
     "iopub.execute_input": "2023-04-26T01:40:24.517106Z",
     "iopub.status.busy": "2023-04-26T01:40:24.516966Z",
     "iopub.status.idle": "2023-04-26T01:40:24.519733Z",
     "shell.execute_reply": "2023-04-26T01:40:24.519378Z"
    },
    "lines_to_next_cell": 1,
    "papermill": {
     "duration": 0.006297,
     "end_time": "2023-04-26T01:40:24.520858",
     "exception": false,
     "start_time": "2023-04-26T01:40:24.514561",
     "status": "completed"
    },
    "tags": []
   },
   "outputs": [],
   "source": [
    "def prepare_data_feature_importances(df):\n",
    "    # Select the columns with numerical and categorical data\n",
    "    num_cols = df.select_dtypes(include=np.number).columns\n",
    "\n",
    "    # One-hot encode the categorical columns\n",
    "    df_cat = pd.get_dummies(df[['mapped_fuel_type']])\n",
    "    df_num = df[num_cols]\n",
    "\n",
    "    # Combine the numerical and one-hot encoded categorical dataframes\n",
    "    df_processed = pd.concat([df_num, df_cat], axis=1)\n",
    "\n",
    "    return df_processed"
   ]
  },
  {
   "cell_type": "code",
   "execution_count": 12,
   "id": "a1c5a48a",
   "metadata": {
    "execution": {
     "iopub.execute_input": "2023-04-26T01:40:24.525737Z",
     "iopub.status.busy": "2023-04-26T01:40:24.525585Z",
     "iopub.status.idle": "2023-04-26T01:40:24.529747Z",
     "shell.execute_reply": "2023-04-26T01:40:24.529334Z"
    },
    "lines_to_next_cell": 1,
    "papermill": {
     "duration": 0.007909,
     "end_time": "2023-04-26T01:40:24.530941",
     "exception": false,
     "start_time": "2023-04-26T01:40:24.523032",
     "status": "completed"
    },
    "tags": []
   },
   "outputs": [],
   "source": [
    "def generate_feature_importances(df_processed, reports_path, target_col):\n",
    "\n",
    "    # Perform recursive feature elimination to select the most important features\n",
    "    X = df_processed.drop([target_col], axis=1)\n",
    "    y = df_processed[target_col]\n",
    "\n",
    "    # set up xgboost model for classification and feature selection\n",
    "    dt = DecisionTreeClassifier(random_state=42)\n",
    "    rfecv = RFECV(estimator=dt, cv=10)\n",
    "    rfecv.fit(X, y)\n",
    "\n",
    "    # predict\n",
    "    y_pred = rfecv.predict(X)\n",
    "\n",
    "    # Print the accuracy\n",
    "    print(\"Accuracy:\", metrics.accuracy_score(y, y_pred))\n",
    "\n",
    "    # Fit a decision tree and get feature importances\n",
    "    dt.fit(X, y)\n",
    "    feat_importances = pd.Series(dt.feature_importances_, index=X.columns)\n",
    "\n",
    "    # Plot the feature importances\n",
    "    plt.figure(figsize=(15,6))\n",
    "    plt.title(f'Decision Tree Feature Importances - variable: {target_col}')\n",
    "    feat_importances.nlargest(15).plot(kind='barh')\n",
    "\n",
    "    # save the plot\n",
    "    plt.savefig(f'{reports_path}/feature_importances_{target_col.split(\"(\")[0]}.png')\n",
    "\n",
    "    # Select the top 5 most important features\n",
    "    threshold = feat_importances.nlargest(15).min()\n",
    "    top_features = feat_importances[feat_importances >= threshold].index.tolist()\n",
    "\n",
    "    return top_features, X, y"
   ]
  },
  {
   "cell_type": "code",
   "execution_count": 13,
   "id": "e712d07e",
   "metadata": {
    "execution": {
     "iopub.execute_input": "2023-04-26T01:40:24.535768Z",
     "iopub.status.busy": "2023-04-26T01:40:24.535606Z",
     "iopub.status.idle": "2023-04-26T01:40:24.539612Z",
     "shell.execute_reply": "2023-04-26T01:40:24.539263Z"
    },
    "lines_to_next_cell": 1,
    "papermill": {
     "duration": 0.007752,
     "end_time": "2023-04-26T01:40:24.540724",
     "exception": false,
     "start_time": "2023-04-26T01:40:24.532972",
     "status": "completed"
    },
    "tags": []
   },
   "outputs": [],
   "source": [
    "def generate_clustering(X, top_features, range_n_clusters, reports_path):\n",
    "    # select the top features\n",
    "    X = X[top_features]\n",
    "\n",
    "    # scale the data\n",
    "    scaler = StandardScaler()\n",
    "    X_scaled = scaler.fit_transform(X[top_features])\n",
    "\n",
    "    # initialize lists to store the scores\n",
    "    silhouette_scores = []\n",
    "    silhouette_scores_cl = []\n",
    "    inertia_scores = []\n",
    "\n",
    "    # loop over the range of cluster numbers\n",
    "    for n_clusters in range_n_clusters:\n",
    "        \n",
    "        # initialize KMeans with n_clusters\n",
    "        kmeans = KMeans(n_clusters=n_clusters, random_state=0,n_init=10)\n",
    "        \n",
    "        # fit KMeans to the data\n",
    "        kmeans.fit(X_scaled)\n",
    "\n",
    "        # initialize AgglomerativeClustering with n_clusters\n",
    "        agg_clustering = AgglomerativeClustering(n_clusters=n_clusters)\n",
    "        \n",
    "        # fit AgglomerativeClustering to the data\n",
    "        agg_clustering.fit(X_scaled)\n",
    "        \n",
    "        # calculate the inertia score (within-cluster sum of squares)\n",
    "        inertia_scores.append(kmeans.inertia_)\n",
    "        \n",
    "        # calculate the silhouette score\n",
    "        silhouette_avg = silhouette_score(X, kmeans.labels_)\n",
    "        silhouette_avg_cl = silhouette_score(X_scaled, agg_clustering.labels_)\n",
    "        silhouette_scores_cl.append(silhouette_avg_cl)\n",
    "        silhouette_scores.append(silhouette_avg)\n",
    "        \n",
    "        # print the scores\n",
    "        print(\"For n_clusters =\", n_clusters,\n",
    "            \"The inertia score is :\", kmeans.inertia_,\n",
    "            \"The average silhouette score is :\", silhouette_avg,\n",
    "            \"The average silhouette score (clustering) is :\", silhouette_avg_cl)\n",
    "\n",
    "\n",
    "    return silhouette_scores, silhouette_scores_cl, inertia_scores"
   ]
  },
  {
   "cell_type": "code",
   "execution_count": 14,
   "id": "c7f7ee25",
   "metadata": {
    "execution": {
     "iopub.execute_input": "2023-04-26T01:40:24.545866Z",
     "iopub.status.busy": "2023-04-26T01:40:24.545697Z",
     "iopub.status.idle": "2023-04-26T01:40:24.550399Z",
     "shell.execute_reply": "2023-04-26T01:40:24.549947Z"
    },
    "lines_to_next_cell": 1,
    "papermill": {
     "duration": 0.008751,
     "end_time": "2023-04-26T01:40:24.551614",
     "exception": false,
     "start_time": "2023-04-26T01:40:24.542863",
     "status": "completed"
    },
    "tags": []
   },
   "outputs": [],
   "source": [
    "def plot_elbow_method(silhouette_scores, silhouette_scores_cl, inertia_scores,\\\n",
    "                       range_n_clusters, target_col, reports_path):\n",
    "    # plot the elbow curve\n",
    "    # clear the plot\n",
    "\n",
    "    plt.figure(figsize=(10,10))\n",
    "    plt.plot(range_n_clusters, inertia_scores, 'bx-')\n",
    "    plt.xlabel('Number of Clusters')\n",
    "    # set xticks to be the range of cluster numbers\n",
    "    plt.xticks(range_n_clusters)\n",
    "    plt.ylabel('Inertia Score')\n",
    "    plt.title(f'Elbow Method for Optimal k - {target_col}')\n",
    "    # save the plot\n",
    "    plt.savefig(f'{reports_path}/elbow_method_{target_col.split(\"(\")[0]}.png')\n",
    "\n",
    "    # clear the plot\n",
    "    plt.clf()\n",
    "\n",
    "    # plot the silhouette scores\n",
    "    plt.figure(figsize=(10,10))\n",
    "    plt.plot(range_n_clusters, silhouette_scores, 'bx-')\n",
    "    plt.xlabel('Number of Clusters')\n",
    "    # set xticks to be the range of cluster numbers\n",
    "    plt.xticks(range_n_clusters)\n",
    "    plt.ylabel('Silhouette Score')\n",
    "    plt.title(f'Silhouette Method for Optimal k - {target_col}')\n",
    "    # save the plot\n",
    "    plt.savefig(f'{reports_path}/silhouette_method_{target_col.split(\"(\")[0]}.png')\n",
    "    # clear the plot\n",
    "    plt.clf()\n",
    "\n",
    "    # plot the silhouette scores\n",
    "    plt.figure(figsize=(10,10))\n",
    "    plt.plot(range_n_clusters, silhouette_scores_cl, 'bx-')\n",
    "    plt.xlabel('Number of Clusters')\n",
    "    # set xticks to be the range of cluster numbers\n",
    "    plt.xticks(range_n_clusters)\n",
    "    plt.ylabel('Silhouette Score (clustering)')\n",
    "    plt.title(f'Silhouette Method for Optimal k  (clustering) - {target_col}')\n",
    "    # save the plot\n",
    "    plt.savefig(f'{reports_path}/silhouette_method_clustering_{target_col.split(\"(\")[0]}.png')\n",
    "    # clear the plot\n",
    "    plt.clf()"
   ]
  },
  {
   "cell_type": "code",
   "execution_count": 15,
   "id": "34f1916b",
   "metadata": {
    "execution": {
     "iopub.execute_input": "2023-04-26T01:40:24.556602Z",
     "iopub.status.busy": "2023-04-26T01:40:24.556444Z",
     "iopub.status.idle": "2023-04-26T01:40:24.558696Z",
     "shell.execute_reply": "2023-04-26T01:40:24.558360Z"
    },
    "lines_to_next_cell": 2,
    "papermill": {
     "duration": 0.00601,
     "end_time": "2023-04-26T01:40:24.559839",
     "exception": false,
     "start_time": "2023-04-26T01:40:24.553829",
     "status": "completed"
    },
    "tags": []
   },
   "outputs": [],
   "source": [
    "def perform_clustering(X_scaled, n_clusters, model):\n",
    "\n",
    "    \n",
    "    # fit the model\n",
    "    model.fit(X_scaled)\n",
    "    # predict the clusters\n",
    "    y_pred = model.predict(X_scaled)\n",
    "    labels = model.labels_\n",
    "    \n",
    "\n",
    "    return y_pred, labels"
   ]
  },
  {
   "cell_type": "code",
   "execution_count": 16,
   "id": "5572815f",
   "metadata": {
    "execution": {
     "iopub.execute_input": "2023-04-26T01:40:24.565557Z",
     "iopub.status.busy": "2023-04-26T01:40:24.565335Z",
     "iopub.status.idle": "2023-04-26T01:40:31.431525Z",
     "shell.execute_reply": "2023-04-26T01:40:31.430912Z"
    },
    "papermill": {
     "duration": 6.8713,
     "end_time": "2023-04-26T01:40:31.433338",
     "exception": false,
     "start_time": "2023-04-26T01:40:24.562038",
     "status": "completed"
    },
    "tags": []
   },
   "outputs": [
    {
     "name": "stdout",
     "output_type": "stream",
     "text": [
      "Accuracy: 1.0\n"
     ]
    },
    {
     "name": "stdout",
     "output_type": "stream",
     "text": [
      "[[12408     0     0]\n",
      " [   42   377     0]\n",
      " [   11     0   237]]\n",
      "              precision    recall  f1-score   support\n",
      "\n",
      "           0       1.00      1.00      1.00     12408\n",
      "           1       1.00      0.90      0.95       419\n",
      "           2       1.00      0.96      0.98       248\n",
      "\n",
      "    accuracy                           1.00     13075\n",
      "   macro avg       1.00      0.95      0.97     13075\n",
      "weighted avg       1.00      1.00      1.00     13075\n",
      "\n"
     ]
    },
    {
     "data": {
      "image/png": "[encoded data removed]",
      "text/plain": [
       "<Figure size 1500x600 with 1 Axes>"
      ]
     },
     "metadata": {},
     "output_type": "display_data"
    }
   ],
   "source": [
    "if __name__ == \"__main__\":\n",
    "\n",
    "    # Get the current working directory\n",
    "    predicted_data_path = script_dir / 'data' / 'predicted-data'\n",
    "    model_path = script_dir / 'models' / 'hard_voting_classifier_co2_fuel.pkl'\n",
    "    reports_path= script_dir / 'reports'/ 'figures'\n",
    "\n",
    "\n",
    "    # Load data\n",
    "    fuel_df, hybrid_df, electric_df = read_and_clean_vehicle_data(predicted_data_path)\n",
    "\n",
    "    # merge vehicle_type and id into a single column for fuel_df\n",
    "    fuel_df = merge_vehicle_id(fuel_df)\n",
    "\n",
    "    # set fuel_df to contain only cars from 2012 onwards\n",
    "    fuel_df = fuel_df[fuel_df['model_year'] >= 2012]\n",
    "    hybrid_df = merge_vehicle_id(hybrid_df)\n",
    "    electric_df = merge_vehicle_id(electric_df)\n",
    "\n",
    "    # Concatenate the dataframes\n",
    "    df = concat_vehicle_data(fuel_df, hybrid_df, electric_df)\n",
    "\n",
    "    # prepare data for feature importances\n",
    "    target_col = 'predicted_co2_rating'\n",
    "    df_processed = prepare_data_feature_importances(df)\n",
    "\n",
    "    # generate feature importances\n",
    "    top_features, X, y = generate_feature_importances(df_processed, reports_path, target_col)\n",
    "\n",
    "    # # generate clustering\n",
    "    # range_n_clusters = range(2, 11)\n",
    "    \n",
    "    # # generate clustering\n",
    "    # silhouette_scores, \\\n",
    "    #     silhouette_scores_cl, \\\n",
    "    #         inertia_scores = generate_clustering(X, top_features, range_n_clusters, reports_path)\n",
    "    \n",
    "    # # plot the elbow method\n",
    "    # plot_elbow_method(silhouette_scores, silhouette_scores_cl, inertia_scores,\\\n",
    "    #                       range_n_clusters, target_col, reports_path)\n",
    "    \n",
    "\n",
    "    # perform clustering - kmeans\n",
    "    n_clusters = 3\n",
    "    kmeans = KMeans(n_clusters=n_clusters, random_state=0,n_init=10)\n",
    "    y_pred_kmeans, labels_kmeans = perform_clustering(X, n_clusters, kmeans)\n",
    "\n",
    "    # # perform clustering - agglomerative clustering\n",
    "    # n_clusters_10 = 10\n",
    "    # agg_clustering = AgglomerativeClustering(n_clusters=n_clusters_10, affinity='euclidean', linkage='ward')\n",
    "    # y_pred_agg, labels_agg = perform_clustering(X, n_clusters_10, agg_clustering)\n",
    "\n",
    "\n",
    "    # add the labels to the dataframe\n",
    "    df['kmeans_labels'] = labels_kmeans\n",
    "\n",
    "    # # add the labels to the dataframe\n",
    "    # df['agg_labels'] = labels_agg\n",
    "\n",
    "    # Transform vehicle_type to numeric\n",
    "    df['vehicle_type'] = df['vehicle_type'].map({'fuel-only': 0, 'electric': 1, 'hybrid': 2})\n",
    "\n",
    "    # Asses the performance of the clustering - kmeans\n",
    "    print(confusion_matrix(df['vehicle_type'],labels_kmeans))\n",
    "    print(classification_report(df['vehicle_type'],labels_kmeans))\n",
    "\n",
    "    # Save confusion matrix and classification report\n",
    "    cm = confusion_matrix(df['vehicle_type'],labels_kmeans)\n",
    "    cr = classification_report(df['vehicle_type'],labels_kmeans)\n",
    "    with open(f'{reports_path}/clustering_performance_kmeans.txt', 'w') as f:\n",
    "        f.write(f'Confusion Matrix:\\n{cm}\\n\\nClassification Report:\\n{cr}')\n",
    "\n",
    "  # save the dataframe\n",
    "    df.to_csv(f'{predicted_data_path}/vehicle_data_with_clusters.csv', index=False)"
   ]
  }
 ],
 "metadata": {
  "jupytext": {
   "cell_metadata_filter": "tags,-all",
   "main_language": "python",
   "notebook_metadata_filter": "-all",
   "text_representation": {
    "extension": ".py",
    "format_name": "light"
   }
  },
  "kernelspec": {
   "display_name": "Python 3 (ipykernel)",
   "language": "python",
   "name": "python3"
  },
  "language_info": {
   "codemirror_mode": {
    "name": "ipython",
    "version": 3
   },
   "file_extension": ".py",
   "mimetype": "text/x-python",
   "name": "python",
   "nbconvert_exporter": "python",
   "pygments_lexer": "ipython3",
   "version": "3.10.0"
  },
  "papermill": {
   "duration": 9.532811,
   "end_time": "2023-04-26T01:40:31.859646",
   "exception": null,
   "input_path": "/var/folders/2t/nqb9hcfs07n91h4v5p34slp00000gn/T/tmp3zepmst1.ipynb",
   "output_path": "/Users/macpro/Documents/GitHub/fuel-electric-hybrid-vehicle-ml/notebooks/clustering.ipynb",
   "parameters": {
    "product": {
     "nb": "/Users/macpro/Documents/GitHub/fuel-electric-hybrid-vehicle-ml/notebooks/clustering.ipynb"
    }
   },
   "start_time": "2023-04-26T01:40:22.326835"
  }
 },
 "nbformat": 4,
 "nbformat_minor": 5
}